{
 "cells": [
  {
   "cell_type": "code",
   "execution_count": 1,
   "id": "fc82e8d3",
   "metadata": {
    "_cell_guid": "b1076dfc-b9ad-4769-8c92-a6c4dae69d19",
    "_uuid": "8f2839f25d086af736a60e9eeb907d3b93b6e0e5",
    "execution": {
     "iopub.execute_input": "2023-09-13T12:53:29.551302Z",
     "iopub.status.busy": "2023-09-13T12:53:29.550335Z",
     "iopub.status.idle": "2023-09-13T12:53:30.003943Z",
     "shell.execute_reply": "2023-09-13T12:53:30.002561Z"
    },
    "papermill": {
     "duration": 0.498874,
     "end_time": "2023-09-13T12:53:30.009551",
     "exception": false,
     "start_time": "2023-09-13T12:53:29.510677",
     "status": "completed"
    },
    "tags": []
   },
   "outputs": [
    {
     "name": "stdout",
     "output_type": "stream",
     "text": [
      "/kaggle/input/laptop-price-prediction/laptops_train.csv\n",
      "/kaggle/input/laptop-price-prediction/laptops_test.csv\n"
     ]
    }
   ],
   "source": [
    "# This Python 3 environment comes with many helpful analytics libraries installed\n",
    "# It is defined by the kaggle/python Docker image: https://github.com/kaggle/docker-python\n",
    "# For example, here's several helpful packages to load\n",
    "\n",
    "import numpy as np # linear algebra\n",
    "import pandas as pd # data processing, CSV file I/O (e.g. pd.read_csv)\n",
    "\n",
    "# Input data files are available in the read-only \"../input/\" directory\n",
    "# For example, running this (by clicking run or pressing Shift+Enter) will list all files under the input directory\n",
    "\n",
    "import os\n",
    "for dirname, _, filenames in os.walk('/kaggle/input'):\n",
    "    for filename in filenames:\n",
    "        print(os.path.join(dirname, filename))\n",
    "\n",
    "# You can write up to 20GB to the current directory (/kaggle/working/) that gets preserved as output when you create a version using \"Save & Run All\" \n",
    "# You can also write temporary files to /kaggle/temp/, but they won't be saved outside of the current session"
   ]
  },
  {
   "cell_type": "markdown",
   "id": "a53c40ee",
   "metadata": {
    "papermill": {
     "duration": 0.035629,
     "end_time": "2023-09-13T12:53:30.079932",
     "exception": false,
     "start_time": "2023-09-13T12:53:30.044303",
     "status": "completed"
    },
    "tags": []
   },
   "source": [
    "# Import libraries"
   ]
  },
  {
   "cell_type": "code",
   "execution_count": 2,
   "id": "aecc1cca",
   "metadata": {
    "execution": {
     "iopub.execute_input": "2023-09-13T12:53:30.158161Z",
     "iopub.status.busy": "2023-09-13T12:53:30.157577Z",
     "iopub.status.idle": "2023-09-13T12:53:31.917903Z",
     "shell.execute_reply": "2023-09-13T12:53:31.916344Z"
    },
    "papermill": {
     "duration": 1.803208,
     "end_time": "2023-09-13T12:53:31.920932",
     "exception": false,
     "start_time": "2023-09-13T12:53:30.117724",
     "status": "completed"
    },
    "tags": []
   },
   "outputs": [],
   "source": [
    "import seaborn as sns\n",
    "import matplotlib.pyplot as plt\n",
    "%matplotlib inline\n",
    "import warnings\n",
    "warnings.filterwarnings('ignore')"
   ]
  },
  {
   "cell_type": "markdown",
   "id": "b0119bd1",
   "metadata": {
    "papermill": {
     "duration": 0.033393,
     "end_time": "2023-09-13T12:53:31.988041",
     "exception": false,
     "start_time": "2023-09-13T12:53:31.954648",
     "status": "completed"
    },
    "tags": []
   },
   "source": [
    "# Read dataset"
   ]
  },
  {
   "cell_type": "code",
   "execution_count": 3,
   "id": "6290fc5b",
   "metadata": {
    "execution": {
     "iopub.execute_input": "2023-09-13T12:53:32.130527Z",
     "iopub.status.busy": "2023-09-13T12:53:32.129704Z",
     "iopub.status.idle": "2023-09-13T12:53:32.198870Z",
     "shell.execute_reply": "2023-09-13T12:53:32.197432Z"
    },
    "papermill": {
     "duration": 0.110015,
     "end_time": "2023-09-13T12:53:32.201870",
     "exception": false,
     "start_time": "2023-09-13T12:53:32.091855",
     "status": "completed"
    },
    "tags": []
   },
   "outputs": [
    {
     "data": {
      "text/html": [
       "<div>\n",
       "<style scoped>\n",
       "    .dataframe tbody tr th:only-of-type {\n",
       "        vertical-align: middle;\n",
       "    }\n",
       "\n",
       "    .dataframe tbody tr th {\n",
       "        vertical-align: top;\n",
       "    }\n",
       "\n",
       "    .dataframe thead th {\n",
       "        text-align: right;\n",
       "    }\n",
       "</style>\n",
       "<table border=\"1\" class=\"dataframe\">\n",
       "  <thead>\n",
       "    <tr style=\"text-align: right;\">\n",
       "      <th></th>\n",
       "      <th>Manufacturer</th>\n",
       "      <th>Model Name</th>\n",
       "      <th>Category</th>\n",
       "      <th>Screen Size</th>\n",
       "      <th>Screen</th>\n",
       "      <th>CPU</th>\n",
       "      <th>RAM</th>\n",
       "      <th>Storage</th>\n",
       "      <th>GPU</th>\n",
       "      <th>Operating System</th>\n",
       "      <th>Operating System Version</th>\n",
       "      <th>Weight</th>\n",
       "      <th>Price</th>\n",
       "    </tr>\n",
       "  </thead>\n",
       "  <tbody>\n",
       "    <tr>\n",
       "      <th>0</th>\n",
       "      <td>Apple</td>\n",
       "      <td>MacBook Pro</td>\n",
       "      <td>Ultrabook</td>\n",
       "      <td>13.3\"</td>\n",
       "      <td>IPS Panel Retina Display 2560x1600</td>\n",
       "      <td>Intel Core i5 2.3GHz</td>\n",
       "      <td>8GB</td>\n",
       "      <td>128GB SSD</td>\n",
       "      <td>Intel Iris Plus Graphics 640</td>\n",
       "      <td>macOS</td>\n",
       "      <td>NaN</td>\n",
       "      <td>1.37kg</td>\n",
       "      <td>11912523.48</td>\n",
       "    </tr>\n",
       "    <tr>\n",
       "      <th>1</th>\n",
       "      <td>Apple</td>\n",
       "      <td>Macbook Air</td>\n",
       "      <td>Ultrabook</td>\n",
       "      <td>13.3\"</td>\n",
       "      <td>1440x900</td>\n",
       "      <td>Intel Core i5 1.8GHz</td>\n",
       "      <td>8GB</td>\n",
       "      <td>128GB Flash Storage</td>\n",
       "      <td>Intel HD Graphics 6000</td>\n",
       "      <td>macOS</td>\n",
       "      <td>NaN</td>\n",
       "      <td>1.34kg</td>\n",
       "      <td>7993374.48</td>\n",
       "    </tr>\n",
       "    <tr>\n",
       "      <th>2</th>\n",
       "      <td>HP</td>\n",
       "      <td>250 G6</td>\n",
       "      <td>Notebook</td>\n",
       "      <td>15.6\"</td>\n",
       "      <td>Full HD 1920x1080</td>\n",
       "      <td>Intel Core i5 7200U 2.5GHz</td>\n",
       "      <td>8GB</td>\n",
       "      <td>256GB SSD</td>\n",
       "      <td>Intel HD Graphics 620</td>\n",
       "      <td>No OS</td>\n",
       "      <td>NaN</td>\n",
       "      <td>1.86kg</td>\n",
       "      <td>5112900.00</td>\n",
       "    </tr>\n",
       "    <tr>\n",
       "      <th>3</th>\n",
       "      <td>Apple</td>\n",
       "      <td>MacBook Pro</td>\n",
       "      <td>Ultrabook</td>\n",
       "      <td>15.4\"</td>\n",
       "      <td>IPS Panel Retina Display 2880x1800</td>\n",
       "      <td>Intel Core i7 2.7GHz</td>\n",
       "      <td>16GB</td>\n",
       "      <td>512GB SSD</td>\n",
       "      <td>AMD Radeon Pro 455</td>\n",
       "      <td>macOS</td>\n",
       "      <td>NaN</td>\n",
       "      <td>1.83kg</td>\n",
       "      <td>22563005.40</td>\n",
       "    </tr>\n",
       "    <tr>\n",
       "      <th>4</th>\n",
       "      <td>Apple</td>\n",
       "      <td>MacBook Pro</td>\n",
       "      <td>Ultrabook</td>\n",
       "      <td>13.3\"</td>\n",
       "      <td>IPS Panel Retina Display 2560x1600</td>\n",
       "      <td>Intel Core i5 3.1GHz</td>\n",
       "      <td>8GB</td>\n",
       "      <td>256GB SSD</td>\n",
       "      <td>Intel Iris Plus Graphics 650</td>\n",
       "      <td>macOS</td>\n",
       "      <td>NaN</td>\n",
       "      <td>1.37kg</td>\n",
       "      <td>16037611.20</td>\n",
       "    </tr>\n",
       "  </tbody>\n",
       "</table>\n",
       "</div>"
      ],
      "text/plain": [
       "  Manufacturer   Model Name   Category Screen Size  \\\n",
       "0        Apple  MacBook Pro  Ultrabook       13.3\"   \n",
       "1        Apple  Macbook Air  Ultrabook       13.3\"   \n",
       "2           HP       250 G6   Notebook       15.6\"   \n",
       "3        Apple  MacBook Pro  Ultrabook       15.4\"   \n",
       "4        Apple  MacBook Pro  Ultrabook       13.3\"   \n",
       "\n",
       "                               Screen                         CPU   RAM  \\\n",
       "0  IPS Panel Retina Display 2560x1600        Intel Core i5 2.3GHz   8GB   \n",
       "1                            1440x900        Intel Core i5 1.8GHz   8GB   \n",
       "2                   Full HD 1920x1080  Intel Core i5 7200U 2.5GHz   8GB   \n",
       "3  IPS Panel Retina Display 2880x1800        Intel Core i7 2.7GHz  16GB   \n",
       "4  IPS Panel Retina Display 2560x1600        Intel Core i5 3.1GHz   8GB   \n",
       "\n",
       "               Storage                           GPU Operating System  \\\n",
       "0            128GB SSD  Intel Iris Plus Graphics 640            macOS   \n",
       "1  128GB Flash Storage        Intel HD Graphics 6000            macOS   \n",
       "2            256GB SSD         Intel HD Graphics 620            No OS   \n",
       "3            512GB SSD            AMD Radeon Pro 455            macOS   \n",
       "4            256GB SSD  Intel Iris Plus Graphics 650            macOS   \n",
       "\n",
       "  Operating System Version  Weight        Price  \n",
       "0                      NaN  1.37kg  11912523.48  \n",
       "1                      NaN  1.34kg   7993374.48  \n",
       "2                      NaN  1.86kg   5112900.00  \n",
       "3                      NaN  1.83kg  22563005.40  \n",
       "4                      NaN  1.37kg  16037611.20  "
      ]
     },
     "execution_count": 3,
     "metadata": {},
     "output_type": "execute_result"
    }
   ],
   "source": [
    "train=pd.read_csv(\"/kaggle/input/laptop-price-prediction/laptops_train.csv\")\n",
    "test=pd.read_csv(\"/kaggle/input/laptop-price-prediction/laptops_test.csv\")\n",
    "df=pd.concat([train.reset_index(drop=True),\n",
    "              test.reset_index(drop=True)])\n",
    "df.head()"
   ]
  },
  {
   "cell_type": "markdown",
   "id": "930b7b1f",
   "metadata": {
    "papermill": {
     "duration": 0.035048,
     "end_time": "2023-09-13T12:53:32.272239",
     "exception": false,
     "start_time": "2023-09-13T12:53:32.237191",
     "status": "completed"
    },
    "tags": []
   },
   "source": [
    "# Basic steps"
   ]
  },
  {
   "cell_type": "markdown",
   "id": "9b716de3",
   "metadata": {
    "papermill": {
     "duration": 0.03485,
     "end_time": "2023-09-13T12:53:32.342611",
     "exception": false,
     "start_time": "2023-09-13T12:53:32.307761",
     "status": "completed"
    },
    "tags": []
   },
   "source": [
    "1.info\n",
    "2.describe\n",
    "3.pandas profiling"
   ]
  },
  {
   "cell_type": "code",
   "execution_count": 4,
   "id": "4f140e12",
   "metadata": {
    "execution": {
     "iopub.execute_input": "2023-09-13T12:53:32.415095Z",
     "iopub.status.busy": "2023-09-13T12:53:32.414597Z",
     "iopub.status.idle": "2023-09-13T12:53:32.450502Z",
     "shell.execute_reply": "2023-09-13T12:53:32.449511Z"
    },
    "papermill": {
     "duration": 0.075056,
     "end_time": "2023-09-13T12:53:32.453134",
     "exception": false,
     "start_time": "2023-09-13T12:53:32.378078",
     "status": "completed"
    },
    "tags": []
   },
   "outputs": [
    {
     "name": "stdout",
     "output_type": "stream",
     "text": [
      "<class 'pandas.core.frame.DataFrame'>\n",
      "Index: 1302 entries, 0 to 324\n",
      "Data columns (total 13 columns):\n",
      " #   Column                    Non-Null Count  Dtype  \n",
      "---  ------                    --------------  -----  \n",
      " 0   Manufacturer              1302 non-null   object \n",
      " 1   Model Name                1302 non-null   object \n",
      " 2   Category                  1302 non-null   object \n",
      " 3   Screen Size               1302 non-null   object \n",
      " 4   Screen                    1302 non-null   object \n",
      " 5   CPU                       1302 non-null   object \n",
      " 6   RAM                       1302 non-null   object \n",
      " 7    Storage                  1302 non-null   object \n",
      " 8   GPU                       1302 non-null   object \n",
      " 9   Operating System          1302 non-null   object \n",
      " 10  Operating System Version  1132 non-null   object \n",
      " 11  Weight                    1302 non-null   object \n",
      " 12  Price                     1302 non-null   float64\n",
      "dtypes: float64(1), object(12)\n",
      "memory usage: 142.4+ KB\n"
     ]
    }
   ],
   "source": [
    "df.info()"
   ]
  },
  {
   "cell_type": "code",
   "execution_count": 5,
   "id": "050a93fd",
   "metadata": {
    "execution": {
     "iopub.execute_input": "2023-09-13T12:53:32.526783Z",
     "iopub.status.busy": "2023-09-13T12:53:32.525997Z",
     "iopub.status.idle": "2023-09-13T12:53:32.534624Z",
     "shell.execute_reply": "2023-09-13T12:53:32.533217Z"
    },
    "papermill": {
     "duration": 0.048825,
     "end_time": "2023-09-13T12:53:32.537179",
     "exception": false,
     "start_time": "2023-09-13T12:53:32.488354",
     "status": "completed"
    },
    "tags": []
   },
   "outputs": [
    {
     "data": {
      "text/plain": [
       "Index(['Manufacturer', 'Model Name', 'Category', 'Screen Size', 'Screen',\n",
       "       'CPU', 'RAM', ' Storage', 'GPU', 'Operating System',\n",
       "       'Operating System Version', 'Weight', 'Price'],\n",
       "      dtype='object')"
      ]
     },
     "execution_count": 5,
     "metadata": {},
     "output_type": "execute_result"
    }
   ],
   "source": [
    "df.columns"
   ]
  },
  {
   "cell_type": "code",
   "execution_count": 6,
   "id": "64c0379e",
   "metadata": {
    "execution": {
     "iopub.execute_input": "2023-09-13T12:53:32.611704Z",
     "iopub.status.busy": "2023-09-13T12:53:32.610904Z",
     "iopub.status.idle": "2023-09-13T12:53:32.633081Z",
     "shell.execute_reply": "2023-09-13T12:53:32.631802Z"
    },
    "papermill": {
     "duration": 0.062135,
     "end_time": "2023-09-13T12:53:32.635854",
     "exception": false,
     "start_time": "2023-09-13T12:53:32.573719",
     "status": "completed"
    },
    "tags": []
   },
   "outputs": [
    {
     "data": {
      "text/html": [
       "<div>\n",
       "<style scoped>\n",
       "    .dataframe tbody tr th:only-of-type {\n",
       "        vertical-align: middle;\n",
       "    }\n",
       "\n",
       "    .dataframe tbody tr th {\n",
       "        vertical-align: top;\n",
       "    }\n",
       "\n",
       "    .dataframe thead th {\n",
       "        text-align: right;\n",
       "    }\n",
       "</style>\n",
       "<table border=\"1\" class=\"dataframe\">\n",
       "  <thead>\n",
       "    <tr style=\"text-align: right;\">\n",
       "      <th></th>\n",
       "      <th>Manufacturer</th>\n",
       "      <th>Model_Name</th>\n",
       "      <th>Category</th>\n",
       "      <th>Screen_Size</th>\n",
       "      <th>Screen</th>\n",
       "      <th>CPU</th>\n",
       "      <th>RAM</th>\n",
       "      <th>Storage</th>\n",
       "      <th>GPU</th>\n",
       "      <th>OS</th>\n",
       "      <th>OS_Version</th>\n",
       "      <th>Weight</th>\n",
       "      <th>Price</th>\n",
       "    </tr>\n",
       "  </thead>\n",
       "  <tbody>\n",
       "    <tr>\n",
       "      <th>0</th>\n",
       "      <td>Apple</td>\n",
       "      <td>MacBook Pro</td>\n",
       "      <td>Ultrabook</td>\n",
       "      <td>13.3\"</td>\n",
       "      <td>IPS Panel Retina Display 2560x1600</td>\n",
       "      <td>Intel Core i5 2.3GHz</td>\n",
       "      <td>8GB</td>\n",
       "      <td>128GB SSD</td>\n",
       "      <td>Intel Iris Plus Graphics 640</td>\n",
       "      <td>macOS</td>\n",
       "      <td>NaN</td>\n",
       "      <td>1.37kg</td>\n",
       "      <td>11912523.48</td>\n",
       "    </tr>\n",
       "    <tr>\n",
       "      <th>1</th>\n",
       "      <td>Apple</td>\n",
       "      <td>Macbook Air</td>\n",
       "      <td>Ultrabook</td>\n",
       "      <td>13.3\"</td>\n",
       "      <td>1440x900</td>\n",
       "      <td>Intel Core i5 1.8GHz</td>\n",
       "      <td>8GB</td>\n",
       "      <td>128GB Flash Storage</td>\n",
       "      <td>Intel HD Graphics 6000</td>\n",
       "      <td>macOS</td>\n",
       "      <td>NaN</td>\n",
       "      <td>1.34kg</td>\n",
       "      <td>7993374.48</td>\n",
       "    </tr>\n",
       "    <tr>\n",
       "      <th>2</th>\n",
       "      <td>HP</td>\n",
       "      <td>250 G6</td>\n",
       "      <td>Notebook</td>\n",
       "      <td>15.6\"</td>\n",
       "      <td>Full HD 1920x1080</td>\n",
       "      <td>Intel Core i5 7200U 2.5GHz</td>\n",
       "      <td>8GB</td>\n",
       "      <td>256GB SSD</td>\n",
       "      <td>Intel HD Graphics 620</td>\n",
       "      <td>No OS</td>\n",
       "      <td>NaN</td>\n",
       "      <td>1.86kg</td>\n",
       "      <td>5112900.00</td>\n",
       "    </tr>\n",
       "    <tr>\n",
       "      <th>3</th>\n",
       "      <td>Apple</td>\n",
       "      <td>MacBook Pro</td>\n",
       "      <td>Ultrabook</td>\n",
       "      <td>15.4\"</td>\n",
       "      <td>IPS Panel Retina Display 2880x1800</td>\n",
       "      <td>Intel Core i7 2.7GHz</td>\n",
       "      <td>16GB</td>\n",
       "      <td>512GB SSD</td>\n",
       "      <td>AMD Radeon Pro 455</td>\n",
       "      <td>macOS</td>\n",
       "      <td>NaN</td>\n",
       "      <td>1.83kg</td>\n",
       "      <td>22563005.40</td>\n",
       "    </tr>\n",
       "    <tr>\n",
       "      <th>4</th>\n",
       "      <td>Apple</td>\n",
       "      <td>MacBook Pro</td>\n",
       "      <td>Ultrabook</td>\n",
       "      <td>13.3\"</td>\n",
       "      <td>IPS Panel Retina Display 2560x1600</td>\n",
       "      <td>Intel Core i5 3.1GHz</td>\n",
       "      <td>8GB</td>\n",
       "      <td>256GB SSD</td>\n",
       "      <td>Intel Iris Plus Graphics 650</td>\n",
       "      <td>macOS</td>\n",
       "      <td>NaN</td>\n",
       "      <td>1.37kg</td>\n",
       "      <td>16037611.20</td>\n",
       "    </tr>\n",
       "  </tbody>\n",
       "</table>\n",
       "</div>"
      ],
      "text/plain": [
       "  Manufacturer   Model_Name   Category Screen_Size  \\\n",
       "0        Apple  MacBook Pro  Ultrabook       13.3\"   \n",
       "1        Apple  Macbook Air  Ultrabook       13.3\"   \n",
       "2           HP       250 G6   Notebook       15.6\"   \n",
       "3        Apple  MacBook Pro  Ultrabook       15.4\"   \n",
       "4        Apple  MacBook Pro  Ultrabook       13.3\"   \n",
       "\n",
       "                               Screen                         CPU   RAM  \\\n",
       "0  IPS Panel Retina Display 2560x1600        Intel Core i5 2.3GHz   8GB   \n",
       "1                            1440x900        Intel Core i5 1.8GHz   8GB   \n",
       "2                   Full HD 1920x1080  Intel Core i5 7200U 2.5GHz   8GB   \n",
       "3  IPS Panel Retina Display 2880x1800        Intel Core i7 2.7GHz  16GB   \n",
       "4  IPS Panel Retina Display 2560x1600        Intel Core i5 3.1GHz   8GB   \n",
       "\n",
       "               Storage                           GPU     OS OS_Version  \\\n",
       "0            128GB SSD  Intel Iris Plus Graphics 640  macOS        NaN   \n",
       "1  128GB Flash Storage        Intel HD Graphics 6000  macOS        NaN   \n",
       "2            256GB SSD         Intel HD Graphics 620  No OS        NaN   \n",
       "3            512GB SSD            AMD Radeon Pro 455  macOS        NaN   \n",
       "4            256GB SSD  Intel Iris Plus Graphics 650  macOS        NaN   \n",
       "\n",
       "   Weight        Price  \n",
       "0  1.37kg  11912523.48  \n",
       "1  1.34kg   7993374.48  \n",
       "2  1.86kg   5112900.00  \n",
       "3  1.83kg  22563005.40  \n",
       "4  1.37kg  16037611.20  "
      ]
     },
     "execution_count": 6,
     "metadata": {},
     "output_type": "execute_result"
    }
   ],
   "source": [
    "df.rename(columns = {\"Model Name\":\"Model_Name\",\"Screen Size\":\"Screen_Size\",\" Storage\":\"Storage\",\"Operating System\":\"OS\",\"Operating System Version\":\"OS_Version\"},inplace=True)\n",
    "df.head()"
   ]
  },
  {
   "cell_type": "code",
   "execution_count": 7,
   "id": "492611a7",
   "metadata": {
    "execution": {
     "iopub.execute_input": "2023-09-13T12:53:32.710309Z",
     "iopub.status.busy": "2023-09-13T12:53:32.709388Z",
     "iopub.status.idle": "2023-09-13T12:53:32.741170Z",
     "shell.execute_reply": "2023-09-13T12:53:32.740006Z"
    },
    "papermill": {
     "duration": 0.072068,
     "end_time": "2023-09-13T12:53:32.743779",
     "exception": false,
     "start_time": "2023-09-13T12:53:32.671711",
     "status": "completed"
    },
    "tags": []
   },
   "outputs": [
    {
     "data": {
      "text/html": [
       "<div>\n",
       "<style scoped>\n",
       "    .dataframe tbody tr th:only-of-type {\n",
       "        vertical-align: middle;\n",
       "    }\n",
       "\n",
       "    .dataframe tbody tr th {\n",
       "        vertical-align: top;\n",
       "    }\n",
       "\n",
       "    .dataframe thead th {\n",
       "        text-align: right;\n",
       "    }\n",
       "</style>\n",
       "<table border=\"1\" class=\"dataframe\">\n",
       "  <thead>\n",
       "    <tr style=\"text-align: right;\">\n",
       "      <th></th>\n",
       "      <th>Manufacturer</th>\n",
       "      <th>Model_Name</th>\n",
       "      <th>Category</th>\n",
       "      <th>Screen_Size</th>\n",
       "      <th>Screen</th>\n",
       "      <th>CPU</th>\n",
       "      <th>RAM</th>\n",
       "      <th>Storage</th>\n",
       "      <th>GPU</th>\n",
       "      <th>OS</th>\n",
       "      <th>OS_Version</th>\n",
       "      <th>Weight</th>\n",
       "      <th>Price</th>\n",
       "    </tr>\n",
       "  </thead>\n",
       "  <tbody>\n",
       "    <tr>\n",
       "      <th>0</th>\n",
       "      <td>Apple</td>\n",
       "      <td>MacBook Pro</td>\n",
       "      <td>Ultrabook</td>\n",
       "      <td>13.3\"</td>\n",
       "      <td>IPS Panel Retina Display 2560x1600</td>\n",
       "      <td>Intel Core i5 2.3GHz</td>\n",
       "      <td>8GB</td>\n",
       "      <td>128GB SSD</td>\n",
       "      <td>Intel Iris Plus Graphics 640</td>\n",
       "      <td>macOS</td>\n",
       "      <td>NaN</td>\n",
       "      <td>1.37kg</td>\n",
       "      <td>11912523.48</td>\n",
       "    </tr>\n",
       "    <tr>\n",
       "      <th>1</th>\n",
       "      <td>Apple</td>\n",
       "      <td>Macbook Air</td>\n",
       "      <td>Ultrabook</td>\n",
       "      <td>13.3\"</td>\n",
       "      <td>1440x900</td>\n",
       "      <td>Intel Core i5 1.8GHz</td>\n",
       "      <td>8GB</td>\n",
       "      <td>128GB Flash Storage</td>\n",
       "      <td>Intel HD Graphics 6000</td>\n",
       "      <td>macOS</td>\n",
       "      <td>NaN</td>\n",
       "      <td>1.34kg</td>\n",
       "      <td>7993374.48</td>\n",
       "    </tr>\n",
       "    <tr>\n",
       "      <th>2</th>\n",
       "      <td>HP</td>\n",
       "      <td>250 G6</td>\n",
       "      <td>Notebook</td>\n",
       "      <td>15.6\"</td>\n",
       "      <td>Full HD 1920x1080</td>\n",
       "      <td>Intel Core i5 7200U 2.5GHz</td>\n",
       "      <td>8GB</td>\n",
       "      <td>256GB SSD</td>\n",
       "      <td>Intel HD Graphics 620</td>\n",
       "      <td>No OS</td>\n",
       "      <td>NaN</td>\n",
       "      <td>1.86kg</td>\n",
       "      <td>5112900.00</td>\n",
       "    </tr>\n",
       "    <tr>\n",
       "      <th>3</th>\n",
       "      <td>Apple</td>\n",
       "      <td>MacBook Pro</td>\n",
       "      <td>Ultrabook</td>\n",
       "      <td>15.4\"</td>\n",
       "      <td>IPS Panel Retina Display 2880x1800</td>\n",
       "      <td>Intel Core i7 2.7GHz</td>\n",
       "      <td>16GB</td>\n",
       "      <td>512GB SSD</td>\n",
       "      <td>AMD Radeon Pro 455</td>\n",
       "      <td>macOS</td>\n",
       "      <td>NaN</td>\n",
       "      <td>1.83kg</td>\n",
       "      <td>22563005.40</td>\n",
       "    </tr>\n",
       "    <tr>\n",
       "      <th>4</th>\n",
       "      <td>Apple</td>\n",
       "      <td>MacBook Pro</td>\n",
       "      <td>Ultrabook</td>\n",
       "      <td>13.3\"</td>\n",
       "      <td>IPS Panel Retina Display 2560x1600</td>\n",
       "      <td>Intel Core i5 3.1GHz</td>\n",
       "      <td>8GB</td>\n",
       "      <td>256GB SSD</td>\n",
       "      <td>Intel Iris Plus Graphics 650</td>\n",
       "      <td>macOS</td>\n",
       "      <td>NaN</td>\n",
       "      <td>1.37kg</td>\n",
       "      <td>16037611.20</td>\n",
       "    </tr>\n",
       "    <tr>\n",
       "      <th>...</th>\n",
       "      <td>...</td>\n",
       "      <td>...</td>\n",
       "      <td>...</td>\n",
       "      <td>...</td>\n",
       "      <td>...</td>\n",
       "      <td>...</td>\n",
       "      <td>...</td>\n",
       "      <td>...</td>\n",
       "      <td>...</td>\n",
       "      <td>...</td>\n",
       "      <td>...</td>\n",
       "      <td>...</td>\n",
       "      <td>...</td>\n",
       "    </tr>\n",
       "    <tr>\n",
       "      <th>292</th>\n",
       "      <td>Lenovo</td>\n",
       "      <td>Yoga 500-14ISK</td>\n",
       "      <td>2 in 1 Convertible</td>\n",
       "      <td>14.0\"</td>\n",
       "      <td>IPS Panel Full HD / Touchscreen 1920x1080</td>\n",
       "      <td>Intel Core i7 6500U 2.5GHz</td>\n",
       "      <td>4GB</td>\n",
       "      <td>128GB SSD</td>\n",
       "      <td>Intel HD Graphics 520</td>\n",
       "      <td>Windows</td>\n",
       "      <td>10</td>\n",
       "      <td>1.8kg</td>\n",
       "      <td>5673096.00</td>\n",
       "    </tr>\n",
       "    <tr>\n",
       "      <th>293</th>\n",
       "      <td>Lenovo</td>\n",
       "      <td>Yoga 900-13ISK</td>\n",
       "      <td>2 in 1 Convertible</td>\n",
       "      <td>13.3\"</td>\n",
       "      <td>IPS Panel Quad HD+ / Touchscreen 3200x1800</td>\n",
       "      <td>Intel Core i7 6500U 2.5GHz</td>\n",
       "      <td>16GB</td>\n",
       "      <td>512GB SSD</td>\n",
       "      <td>Intel HD Graphics 520</td>\n",
       "      <td>Windows</td>\n",
       "      <td>10</td>\n",
       "      <td>1.3kg</td>\n",
       "      <td>13329108.00</td>\n",
       "    </tr>\n",
       "    <tr>\n",
       "      <th>294</th>\n",
       "      <td>Lenovo</td>\n",
       "      <td>IdeaPad 100S-14IBR</td>\n",
       "      <td>Notebook</td>\n",
       "      <td>14.0\"</td>\n",
       "      <td>1366x768</td>\n",
       "      <td>Intel Celeron Dual Core N3050 1.6GHz</td>\n",
       "      <td>2GB</td>\n",
       "      <td>64GB Flash Storage</td>\n",
       "      <td>Intel HD Graphics</td>\n",
       "      <td>Windows</td>\n",
       "      <td>10</td>\n",
       "      <td>1.5kg</td>\n",
       "      <td>2036268.00</td>\n",
       "    </tr>\n",
       "    <tr>\n",
       "      <th>295</th>\n",
       "      <td>HP</td>\n",
       "      <td>15-AC110nv (i7-6500U/6GB/1TB/Radeon</td>\n",
       "      <td>Notebook</td>\n",
       "      <td>15.6\"</td>\n",
       "      <td>1366x768</td>\n",
       "      <td>Intel Core i7 6500U 2.5GHz</td>\n",
       "      <td>6GB</td>\n",
       "      <td>1TB HDD</td>\n",
       "      <td>AMD Radeon R5 M330</td>\n",
       "      <td>Windows</td>\n",
       "      <td>10</td>\n",
       "      <td>2.19kg</td>\n",
       "      <td>6793488.00</td>\n",
       "    </tr>\n",
       "    <tr>\n",
       "      <th>296</th>\n",
       "      <td>Asus</td>\n",
       "      <td>X553SA-XX031T (N3050/4GB/500GB/W10)</td>\n",
       "      <td>Notebook</td>\n",
       "      <td>15.6\"</td>\n",
       "      <td>1366x768</td>\n",
       "      <td>Intel Celeron Dual Core N3050 1.6GHz</td>\n",
       "      <td>4GB</td>\n",
       "      <td>500GB HDD</td>\n",
       "      <td>Intel HD Graphics</td>\n",
       "      <td>Windows</td>\n",
       "      <td>10</td>\n",
       "      <td>2.2kg</td>\n",
       "      <td>3281148.00</td>\n",
       "    </tr>\n",
       "  </tbody>\n",
       "</table>\n",
       "<p>1274 rows × 13 columns</p>\n",
       "</div>"
      ],
      "text/plain": [
       "    Manufacturer                           Model_Name            Category  \\\n",
       "0          Apple                          MacBook Pro           Ultrabook   \n",
       "1          Apple                          Macbook Air           Ultrabook   \n",
       "2             HP                               250 G6            Notebook   \n",
       "3          Apple                          MacBook Pro           Ultrabook   \n",
       "4          Apple                          MacBook Pro           Ultrabook   \n",
       "..           ...                                  ...                 ...   \n",
       "292       Lenovo                       Yoga 500-14ISK  2 in 1 Convertible   \n",
       "293       Lenovo                       Yoga 900-13ISK  2 in 1 Convertible   \n",
       "294       Lenovo                   IdeaPad 100S-14IBR            Notebook   \n",
       "295           HP  15-AC110nv (i7-6500U/6GB/1TB/Radeon            Notebook   \n",
       "296         Asus  X553SA-XX031T (N3050/4GB/500GB/W10)            Notebook   \n",
       "\n",
       "    Screen_Size                                      Screen  \\\n",
       "0         13.3\"          IPS Panel Retina Display 2560x1600   \n",
       "1         13.3\"                                    1440x900   \n",
       "2         15.6\"                           Full HD 1920x1080   \n",
       "3         15.4\"          IPS Panel Retina Display 2880x1800   \n",
       "4         13.3\"          IPS Panel Retina Display 2560x1600   \n",
       "..          ...                                         ...   \n",
       "292       14.0\"   IPS Panel Full HD / Touchscreen 1920x1080   \n",
       "293       13.3\"  IPS Panel Quad HD+ / Touchscreen 3200x1800   \n",
       "294       14.0\"                                    1366x768   \n",
       "295       15.6\"                                    1366x768   \n",
       "296       15.6\"                                    1366x768   \n",
       "\n",
       "                                      CPU   RAM              Storage  \\\n",
       "0                    Intel Core i5 2.3GHz   8GB            128GB SSD   \n",
       "1                    Intel Core i5 1.8GHz   8GB  128GB Flash Storage   \n",
       "2              Intel Core i5 7200U 2.5GHz   8GB            256GB SSD   \n",
       "3                    Intel Core i7 2.7GHz  16GB            512GB SSD   \n",
       "4                    Intel Core i5 3.1GHz   8GB            256GB SSD   \n",
       "..                                    ...   ...                  ...   \n",
       "292            Intel Core i7 6500U 2.5GHz   4GB            128GB SSD   \n",
       "293            Intel Core i7 6500U 2.5GHz  16GB            512GB SSD   \n",
       "294  Intel Celeron Dual Core N3050 1.6GHz   2GB   64GB Flash Storage   \n",
       "295            Intel Core i7 6500U 2.5GHz   6GB              1TB HDD   \n",
       "296  Intel Celeron Dual Core N3050 1.6GHz   4GB            500GB HDD   \n",
       "\n",
       "                              GPU       OS OS_Version  Weight        Price  \n",
       "0    Intel Iris Plus Graphics 640    macOS        NaN  1.37kg  11912523.48  \n",
       "1          Intel HD Graphics 6000    macOS        NaN  1.34kg   7993374.48  \n",
       "2           Intel HD Graphics 620    No OS        NaN  1.86kg   5112900.00  \n",
       "3              AMD Radeon Pro 455    macOS        NaN  1.83kg  22563005.40  \n",
       "4    Intel Iris Plus Graphics 650    macOS        NaN  1.37kg  16037611.20  \n",
       "..                            ...      ...        ...     ...          ...  \n",
       "292         Intel HD Graphics 520  Windows         10   1.8kg   5673096.00  \n",
       "293         Intel HD Graphics 520  Windows         10   1.3kg  13329108.00  \n",
       "294             Intel HD Graphics  Windows         10   1.5kg   2036268.00  \n",
       "295            AMD Radeon R5 M330  Windows         10  2.19kg   6793488.00  \n",
       "296             Intel HD Graphics  Windows         10   2.2kg   3281148.00  \n",
       "\n",
       "[1274 rows x 13 columns]"
      ]
     },
     "execution_count": 7,
     "metadata": {},
     "output_type": "execute_result"
    }
   ],
   "source": [
    "df.drop_duplicates()"
   ]
  },
  {
   "cell_type": "markdown",
   "id": "74e45456",
   "metadata": {
    "papermill": {
     "duration": 0.035246,
     "end_time": "2023-09-13T12:53:32.814769",
     "exception": false,
     "start_time": "2023-09-13T12:53:32.779523",
     "status": "completed"
    },
    "tags": []
   },
   "source": [
    "# missing value handling"
   ]
  },
  {
   "cell_type": "code",
   "execution_count": 8,
   "id": "bf66c136",
   "metadata": {
    "execution": {
     "iopub.execute_input": "2023-09-13T12:53:32.891149Z",
     "iopub.status.busy": "2023-09-13T12:53:32.890222Z",
     "iopub.status.idle": "2023-09-13T12:53:32.902138Z",
     "shell.execute_reply": "2023-09-13T12:53:32.900884Z"
    },
    "papermill": {
     "duration": 0.054062,
     "end_time": "2023-09-13T12:53:32.904683",
     "exception": false,
     "start_time": "2023-09-13T12:53:32.850621",
     "status": "completed"
    },
    "tags": []
   },
   "outputs": [
    {
     "data": {
      "text/plain": [
       "Manufacturer      0\n",
       "Model_Name        0\n",
       "Category          0\n",
       "Screen_Size       0\n",
       "Screen            0\n",
       "CPU               0\n",
       "RAM               0\n",
       "Storage           0\n",
       "GPU               0\n",
       "OS                0\n",
       "OS_Version      170\n",
       "Weight            0\n",
       "Price             0\n",
       "dtype: int64"
      ]
     },
     "execution_count": 8,
     "metadata": {},
     "output_type": "execute_result"
    }
   ],
   "source": [
    "df.isnull().sum()"
   ]
  },
  {
   "cell_type": "code",
   "execution_count": 9,
   "id": "97f93716",
   "metadata": {
    "execution": {
     "iopub.execute_input": "2023-09-13T12:53:32.980294Z",
     "iopub.status.busy": "2023-09-13T12:53:32.979411Z",
     "iopub.status.idle": "2023-09-13T12:53:32.989190Z",
     "shell.execute_reply": "2023-09-13T12:53:32.988104Z"
    },
    "papermill": {
     "duration": 0.05054,
     "end_time": "2023-09-13T12:53:32.991819",
     "exception": false,
     "start_time": "2023-09-13T12:53:32.941279",
     "status": "completed"
    },
    "tags": []
   },
   "outputs": [
    {
     "data": {
      "text/plain": [
       "OS_Version\n",
       "10      1071\n",
       "7         45\n",
       "X          8\n",
       "10 S       8\n",
       "Name: count, dtype: int64"
      ]
     },
     "execution_count": 9,
     "metadata": {},
     "output_type": "execute_result"
    }
   ],
   "source": [
    "df['OS_Version'].value_counts()"
   ]
  },
  {
   "cell_type": "code",
   "execution_count": 10,
   "id": "07300845",
   "metadata": {
    "execution": {
     "iopub.execute_input": "2023-09-13T12:53:33.069078Z",
     "iopub.status.busy": "2023-09-13T12:53:33.068204Z",
     "iopub.status.idle": "2023-09-13T12:53:33.075643Z",
     "shell.execute_reply": "2023-09-13T12:53:33.074836Z"
    },
    "papermill": {
     "duration": 0.048201,
     "end_time": "2023-09-13T12:53:33.078170",
     "exception": false,
     "start_time": "2023-09-13T12:53:33.029969",
     "status": "completed"
    },
    "tags": []
   },
   "outputs": [],
   "source": [
    "df['OS_Version']=df['OS_Version'].fillna(df['OS_Version'].mode()[0])"
   ]
  },
  {
   "cell_type": "code",
   "execution_count": 11,
   "id": "95d080bd",
   "metadata": {
    "execution": {
     "iopub.execute_input": "2023-09-13T12:53:33.155241Z",
     "iopub.status.busy": "2023-09-13T12:53:33.154704Z",
     "iopub.status.idle": "2023-09-13T12:53:33.166948Z",
     "shell.execute_reply": "2023-09-13T12:53:33.165558Z"
    },
    "papermill": {
     "duration": 0.053302,
     "end_time": "2023-09-13T12:53:33.169985",
     "exception": false,
     "start_time": "2023-09-13T12:53:33.116683",
     "status": "completed"
    },
    "tags": []
   },
   "outputs": [
    {
     "data": {
      "text/plain": [
       "Manufacturer    0\n",
       "Model_Name      0\n",
       "Category        0\n",
       "Screen_Size     0\n",
       "Screen          0\n",
       "CPU             0\n",
       "RAM             0\n",
       "Storage         0\n",
       "GPU             0\n",
       "OS              0\n",
       "OS_Version      0\n",
       "Weight          0\n",
       "Price           0\n",
       "dtype: int64"
      ]
     },
     "execution_count": 11,
     "metadata": {},
     "output_type": "execute_result"
    }
   ],
   "source": [
    "df.isnull().sum()"
   ]
  },
  {
   "cell_type": "code",
   "execution_count": 12,
   "id": "904ea219",
   "metadata": {
    "execution": {
     "iopub.execute_input": "2023-09-13T12:53:33.246537Z",
     "iopub.status.busy": "2023-09-13T12:53:33.245119Z",
     "iopub.status.idle": "2023-09-13T12:53:33.263299Z",
     "shell.execute_reply": "2023-09-13T12:53:33.262034Z"
    },
    "papermill": {
     "duration": 0.05946,
     "end_time": "2023-09-13T12:53:33.265864",
     "exception": false,
     "start_time": "2023-09-13T12:53:33.206404",
     "status": "completed"
    },
    "tags": []
   },
   "outputs": [
    {
     "data": {
      "text/html": [
       "<div>\n",
       "<style scoped>\n",
       "    .dataframe tbody tr th:only-of-type {\n",
       "        vertical-align: middle;\n",
       "    }\n",
       "\n",
       "    .dataframe tbody tr th {\n",
       "        vertical-align: top;\n",
       "    }\n",
       "\n",
       "    .dataframe thead th {\n",
       "        text-align: right;\n",
       "    }\n",
       "</style>\n",
       "<table border=\"1\" class=\"dataframe\">\n",
       "  <thead>\n",
       "    <tr style=\"text-align: right;\">\n",
       "      <th></th>\n",
       "      <th>Price</th>\n",
       "    </tr>\n",
       "  </thead>\n",
       "  <tbody>\n",
       "    <tr>\n",
       "      <th>count</th>\n",
       "      <td>1.302000e+03</td>\n",
       "    </tr>\n",
       "    <tr>\n",
       "      <th>mean</th>\n",
       "      <td>9.987213e+06</td>\n",
       "    </tr>\n",
       "    <tr>\n",
       "      <th>std</th>\n",
       "      <td>6.215746e+06</td>\n",
       "    </tr>\n",
       "    <tr>\n",
       "      <th>min</th>\n",
       "      <td>1.547208e+06</td>\n",
       "    </tr>\n",
       "    <tr>\n",
       "      <th>25%</th>\n",
       "      <td>5.326308e+06</td>\n",
       "    </tr>\n",
       "    <tr>\n",
       "      <th>50%</th>\n",
       "      <td>8.687484e+06</td>\n",
       "    </tr>\n",
       "    <tr>\n",
       "      <th>75%</th>\n",
       "      <td>1.321198e+07</td>\n",
       "    </tr>\n",
       "    <tr>\n",
       "      <th>max</th>\n",
       "      <td>5.423231e+07</td>\n",
       "    </tr>\n",
       "  </tbody>\n",
       "</table>\n",
       "</div>"
      ],
      "text/plain": [
       "              Price\n",
       "count  1.302000e+03\n",
       "mean   9.987213e+06\n",
       "std    6.215746e+06\n",
       "min    1.547208e+06\n",
       "25%    5.326308e+06\n",
       "50%    8.687484e+06\n",
       "75%    1.321198e+07\n",
       "max    5.423231e+07"
      ]
     },
     "execution_count": 12,
     "metadata": {},
     "output_type": "execute_result"
    }
   ],
   "source": [
    "df.describe()"
   ]
  },
  {
   "cell_type": "code",
   "execution_count": 13,
   "id": "1430f758",
   "metadata": {
    "execution": {
     "iopub.execute_input": "2023-09-13T12:53:33.341562Z",
     "iopub.status.busy": "2023-09-13T12:53:33.340801Z",
     "iopub.status.idle": "2023-09-13T12:53:33.360994Z",
     "shell.execute_reply": "2023-09-13T12:53:33.359806Z"
    },
    "papermill": {
     "duration": 0.061655,
     "end_time": "2023-09-13T12:53:33.363517",
     "exception": false,
     "start_time": "2023-09-13T12:53:33.301862",
     "status": "completed"
    },
    "tags": []
   },
   "outputs": [
    {
     "data": {
      "text/html": [
       "<div>\n",
       "<style scoped>\n",
       "    .dataframe tbody tr th:only-of-type {\n",
       "        vertical-align: middle;\n",
       "    }\n",
       "\n",
       "    .dataframe tbody tr th {\n",
       "        vertical-align: top;\n",
       "    }\n",
       "\n",
       "    .dataframe thead th {\n",
       "        text-align: right;\n",
       "    }\n",
       "</style>\n",
       "<table border=\"1\" class=\"dataframe\">\n",
       "  <thead>\n",
       "    <tr style=\"text-align: right;\">\n",
       "      <th></th>\n",
       "      <th>Manufacturer</th>\n",
       "      <th>Model_Name</th>\n",
       "      <th>Category</th>\n",
       "      <th>Screen_Size</th>\n",
       "      <th>Screen</th>\n",
       "      <th>CPU</th>\n",
       "      <th>RAM</th>\n",
       "      <th>Storage</th>\n",
       "      <th>GPU</th>\n",
       "      <th>OS</th>\n",
       "      <th>OS_Version</th>\n",
       "      <th>Weight</th>\n",
       "      <th>Price</th>\n",
       "    </tr>\n",
       "  </thead>\n",
       "  <tbody>\n",
       "    <tr>\n",
       "      <th>0</th>\n",
       "      <td>Apple</td>\n",
       "      <td>MacBook Pro</td>\n",
       "      <td>Ultrabook</td>\n",
       "      <td>13.3\"</td>\n",
       "      <td>IPS Panel Retina Display 2560x1600</td>\n",
       "      <td>Intel Core i5 2.3GHz</td>\n",
       "      <td>8GB</td>\n",
       "      <td>128GB SSD</td>\n",
       "      <td>Intel Iris Plus Graphics 640</td>\n",
       "      <td>macOS</td>\n",
       "      <td>10</td>\n",
       "      <td>1.37kg</td>\n",
       "      <td>11912523.48</td>\n",
       "    </tr>\n",
       "    <tr>\n",
       "      <th>1</th>\n",
       "      <td>Apple</td>\n",
       "      <td>Macbook Air</td>\n",
       "      <td>Ultrabook</td>\n",
       "      <td>13.3\"</td>\n",
       "      <td>1440x900</td>\n",
       "      <td>Intel Core i5 1.8GHz</td>\n",
       "      <td>8GB</td>\n",
       "      <td>128GB Flash Storage</td>\n",
       "      <td>Intel HD Graphics 6000</td>\n",
       "      <td>macOS</td>\n",
       "      <td>10</td>\n",
       "      <td>1.34kg</td>\n",
       "      <td>7993374.48</td>\n",
       "    </tr>\n",
       "    <tr>\n",
       "      <th>2</th>\n",
       "      <td>HP</td>\n",
       "      <td>250 G6</td>\n",
       "      <td>Notebook</td>\n",
       "      <td>15.6\"</td>\n",
       "      <td>Full HD 1920x1080</td>\n",
       "      <td>Intel Core i5 7200U 2.5GHz</td>\n",
       "      <td>8GB</td>\n",
       "      <td>256GB SSD</td>\n",
       "      <td>Intel HD Graphics 620</td>\n",
       "      <td>No OS</td>\n",
       "      <td>10</td>\n",
       "      <td>1.86kg</td>\n",
       "      <td>5112900.00</td>\n",
       "    </tr>\n",
       "    <tr>\n",
       "      <th>3</th>\n",
       "      <td>Apple</td>\n",
       "      <td>MacBook Pro</td>\n",
       "      <td>Ultrabook</td>\n",
       "      <td>15.4\"</td>\n",
       "      <td>IPS Panel Retina Display 2880x1800</td>\n",
       "      <td>Intel Core i7 2.7GHz</td>\n",
       "      <td>16GB</td>\n",
       "      <td>512GB SSD</td>\n",
       "      <td>AMD Radeon Pro 455</td>\n",
       "      <td>macOS</td>\n",
       "      <td>10</td>\n",
       "      <td>1.83kg</td>\n",
       "      <td>22563005.40</td>\n",
       "    </tr>\n",
       "    <tr>\n",
       "      <th>4</th>\n",
       "      <td>Apple</td>\n",
       "      <td>MacBook Pro</td>\n",
       "      <td>Ultrabook</td>\n",
       "      <td>13.3\"</td>\n",
       "      <td>IPS Panel Retina Display 2560x1600</td>\n",
       "      <td>Intel Core i5 3.1GHz</td>\n",
       "      <td>8GB</td>\n",
       "      <td>256GB SSD</td>\n",
       "      <td>Intel Iris Plus Graphics 650</td>\n",
       "      <td>macOS</td>\n",
       "      <td>10</td>\n",
       "      <td>1.37kg</td>\n",
       "      <td>16037611.20</td>\n",
       "    </tr>\n",
       "  </tbody>\n",
       "</table>\n",
       "</div>"
      ],
      "text/plain": [
       "  Manufacturer   Model_Name   Category Screen_Size  \\\n",
       "0        Apple  MacBook Pro  Ultrabook       13.3\"   \n",
       "1        Apple  Macbook Air  Ultrabook       13.3\"   \n",
       "2           HP       250 G6   Notebook       15.6\"   \n",
       "3        Apple  MacBook Pro  Ultrabook       15.4\"   \n",
       "4        Apple  MacBook Pro  Ultrabook       13.3\"   \n",
       "\n",
       "                               Screen                         CPU   RAM  \\\n",
       "0  IPS Panel Retina Display 2560x1600        Intel Core i5 2.3GHz   8GB   \n",
       "1                            1440x900        Intel Core i5 1.8GHz   8GB   \n",
       "2                   Full HD 1920x1080  Intel Core i5 7200U 2.5GHz   8GB   \n",
       "3  IPS Panel Retina Display 2880x1800        Intel Core i7 2.7GHz  16GB   \n",
       "4  IPS Panel Retina Display 2560x1600        Intel Core i5 3.1GHz   8GB   \n",
       "\n",
       "               Storage                           GPU     OS OS_Version  \\\n",
       "0            128GB SSD  Intel Iris Plus Graphics 640  macOS         10   \n",
       "1  128GB Flash Storage        Intel HD Graphics 6000  macOS         10   \n",
       "2            256GB SSD         Intel HD Graphics 620  No OS         10   \n",
       "3            512GB SSD            AMD Radeon Pro 455  macOS         10   \n",
       "4            256GB SSD  Intel Iris Plus Graphics 650  macOS         10   \n",
       "\n",
       "   Weight        Price  \n",
       "0  1.37kg  11912523.48  \n",
       "1  1.34kg   7993374.48  \n",
       "2  1.86kg   5112900.00  \n",
       "3  1.83kg  22563005.40  \n",
       "4  1.37kg  16037611.20  "
      ]
     },
     "execution_count": 13,
     "metadata": {},
     "output_type": "execute_result"
    }
   ],
   "source": [
    "df.head()"
   ]
  },
  {
   "cell_type": "markdown",
   "id": "e6704c7a",
   "metadata": {
    "papermill": {
     "duration": 0.037385,
     "end_time": "2023-09-13T12:53:33.439180",
     "exception": false,
     "start_time": "2023-09-13T12:53:33.401795",
     "status": "completed"
    },
    "tags": []
   },
   "source": [
    "# Check unique values and understand data"
   ]
  },
  {
   "cell_type": "code",
   "execution_count": 14,
   "id": "6ce9357b",
   "metadata": {
    "execution": {
     "iopub.execute_input": "2023-09-13T12:53:33.515141Z",
     "iopub.status.busy": "2023-09-13T12:53:33.514282Z",
     "iopub.status.idle": "2023-09-13T12:53:33.541675Z",
     "shell.execute_reply": "2023-09-13T12:53:33.538328Z"
    },
    "papermill": {
     "duration": 0.068182,
     "end_time": "2023-09-13T12:53:33.544266",
     "exception": false,
     "start_time": "2023-09-13T12:53:33.476084",
     "status": "completed"
    },
    "tags": []
   },
   "outputs": [
    {
     "name": "stdout",
     "output_type": "stream",
     "text": [
      "Manufacturer\n",
      "Dell         297\n",
      "Lenovo       297\n",
      "HP           274\n",
      "Asus         157\n",
      "Acer         103\n",
      "MSI           54\n",
      "Toshiba       48\n",
      "Apple         21\n",
      "Samsung        9\n",
      "Razer          7\n",
      "Mediacom       7\n",
      "Microsoft      6\n",
      "Xiaomi         4\n",
      "Vero           4\n",
      "Chuwi          3\n",
      "Google         3\n",
      "Fujitsu        3\n",
      "LG             3\n",
      "Huawei         2\n",
      "Name: count, dtype: int64 \n",
      "\n",
      "Model_Name\n",
      "XPS 13                                  30\n",
      "Inspiron 3567                           29\n",
      "250 G6                                  21\n",
      "Legion Y520-15IKBN                      19\n",
      "Vostro 3568                             19\n",
      "                                        ..\n",
      "SmartBook 130                            1\n",
      "A541NA-GO342 (N3350/4GB/500GB/Linux)     1\n",
      "17-X047na (i3-6006U/8GB/1TB/W10)         1\n",
      "V310-15ISK (i5-6200U/4GB/1TB/FHD/No      1\n",
      "15-cd005nv (A9-9420/6GB/256GB/Radeon     1\n",
      "Name: count, Length: 617, dtype: int64 \n",
      "\n",
      "Category\n",
      "Notebook              727\n",
      "Gaming                205\n",
      "Ultrabook             196\n",
      "2 in 1 Convertible    120\n",
      "Workstation            29\n",
      "Netbook                25\n",
      "Name: count, dtype: int64 \n",
      "\n",
      "Screen_Size\n",
      "15.6\"    664\n",
      "14.0\"    197\n",
      "13.3\"    164\n",
      "17.3\"    164\n",
      "12.5\"     39\n",
      "11.6\"     33\n",
      "12.0\"      6\n",
      "13.5\"      6\n",
      "13.9\"      6\n",
      "12.3\"      5\n",
      "10.1\"      4\n",
      "15.4\"      4\n",
      "15.0\"      4\n",
      "13.0\"      2\n",
      "18.4\"      1\n",
      "17.0\"      1\n",
      "14.1\"      1\n",
      "11.3\"      1\n",
      "Name: count, dtype: int64 \n",
      "\n",
      "Screen\n",
      "Full HD 1920x1080                                507\n",
      "1366x768                                         281\n",
      "IPS Panel Full HD 1920x1080                      230\n",
      "IPS Panel Full HD / Touchscreen 1920x1080         53\n",
      "Full HD / Touchscreen 1920x1080                   47\n",
      "1600x900                                          23\n",
      "Touchscreen 1366x768                              16\n",
      "Quad HD+ / Touchscreen 3200x1800                  15\n",
      "IPS Panel 4K Ultra HD 3840x2160                   12\n",
      "IPS Panel 4K Ultra HD / Touchscreen 3840x2160     11\n",
      "4K Ultra HD / Touchscreen 3840x2160                9\n",
      "4K Ultra HD 3840x2160                              7\n",
      "Touchscreen 2560x1440                              7\n",
      "IPS Panel 1366x768                                 7\n",
      "IPS Panel Quad HD+ / Touchscreen 3200x1800         6\n",
      "IPS Panel Retina Display 2560x1600                 6\n",
      "IPS Panel Retina Display 2304x1440                 6\n",
      "Touchscreen 2256x1504                              6\n",
      "IPS Panel Touchscreen 2560x1440                    5\n",
      "IPS Panel Retina Display 2880x1800                 4\n",
      "IPS Panel Touchscreen 1920x1200                    4\n",
      "1440x900                                           4\n",
      "IPS Panel 2560x1440                                4\n",
      "IPS Panel Quad HD+ 2560x1440                       3\n",
      "Quad HD+ 3200x1800                                 3\n",
      "1920x1080                                          3\n",
      "Touchscreen 2400x1600                              3\n",
      "2560x1440                                          3\n",
      "IPS Panel Touchscreen 1366x768                     3\n",
      "IPS Panel Touchscreen / 4K Ultra HD 3840x2160      2\n",
      "IPS Panel Full HD 2160x1440                        2\n",
      "IPS Panel Quad HD+ 3200x1800                       2\n",
      "IPS Panel Retina Display 2736x1824                 1\n",
      "IPS Panel Full HD 1920x1200                        1\n",
      "IPS Panel Full HD 2560x1440                        1\n",
      "IPS Panel Full HD 1366x768                         1\n",
      "Touchscreen / Full HD 1920x1080                    1\n",
      "Touchscreen / Quad HD+ 3200x1800                   1\n",
      "Touchscreen / 4K Ultra HD 3840x2160                1\n",
      "IPS Panel Touchscreen 2400x1600                    1\n",
      "Name: count, dtype: int64 \n",
      "\n",
      "CPU\n",
      "Intel Core i5 7200U 2.5GHz       190\n",
      "Intel Core i7 7700HQ 2.8GHz      146\n",
      "Intel Core i7 7500U 2.7GHz       133\n",
      "Intel Core i7 8550U 1.8GHz        73\n",
      "Intel Core i5 8250U 1.6GHz        72\n",
      "                                ... \n",
      "Intel Core M M3-6Y30 0.9GHz        1\n",
      "AMD A9-Series 9420 2.9GHz          1\n",
      "Intel Core i3 6006U 2.2GHz         1\n",
      "AMD A6-Series 7310 2GHz            1\n",
      "Intel Xeon E3-1535M v6 3.1GHz      1\n",
      "Name: count, Length: 118, dtype: int64 \n",
      "\n",
      "RAM\n",
      "8GB     619\n",
      "4GB     375\n",
      "16GB    199\n",
      "6GB      41\n",
      "12GB     25\n",
      "2GB      22\n",
      "32GB     17\n",
      "24GB      3\n",
      "64GB      1\n",
      "Name: count, dtype: int64 \n",
      "\n",
      "Storage\n",
      "256GB SSD                        412\n",
      "1TB HDD                          224\n",
      "500GB HDD                        132\n",
      "512GB SSD                        118\n",
      "128GB SSD +  1TB HDD              94\n",
      "128GB SSD                         76\n",
      "256GB SSD +  1TB HDD              73\n",
      "32GB Flash Storage                38\n",
      "2TB HDD                           16\n",
      "64GB Flash Storage                15\n",
      "512GB SSD +  1TB HDD              14\n",
      "1TB SSD                           14\n",
      "256GB SSD +  2TB HDD              10\n",
      "1TB Hybrid                         9\n",
      "256GB Flash Storage                8\n",
      "16GB Flash Storage                 7\n",
      "32GB SSD                           6\n",
      "1GB SSD                            5\n",
      "128GB Flash Storage                4\n",
      "16GB SSD                           3\n",
      "512GB Flash Storage                2\n",
      "1TB SSD +  1TB HDD                 2\n",
      "512GB SSD +  2TB HDD               2\n",
      "256GB SSD +  500GB HDD             2\n",
      "128GB SSD +  2TB HDD               2\n",
      "256GB SSD +  256GB SSD             2\n",
      "512GB SSD +  256GB SSD             1\n",
      "512GB SSD +  512GB SSD             1\n",
      "64GB Flash Storage +  1TB HDD      1\n",
      "1TB HDD +  1TB HDD                 1\n",
      "32GB HDD                           1\n",
      "64GB SSD                           1\n",
      "128GB HDD                          1\n",
      "240GB SSD                          1\n",
      "8GB SSD                            1\n",
      "508GB Hybrid                       1\n",
      "512GB SSD +  1TB Hybrid            1\n",
      "256GB SSD +  1TB Hybrid            1\n",
      "Name: count, dtype: int64 \n",
      "\n",
      "GPU\n",
      "Intel HD Graphics 620      281\n",
      "Intel HD Graphics 520      185\n",
      "Intel UHD Graphics 620      68\n",
      "Nvidia GeForce GTX 1050     66\n",
      "Nvidia GeForce GTX 1060     48\n",
      "                          ... \n",
      "AMD Radeon R5 520            1\n",
      "AMD Radeon R7                1\n",
      "Intel HD Graphics 540        1\n",
      "AMD Radeon 540               1\n",
      "ARM Mali T860 MP4            1\n",
      "Name: count, Length: 110, dtype: int64 \n",
      "\n",
      "OS\n",
      "Windows      1124\n",
      "No OS          66\n",
      "Linux          62\n",
      "Chrome OS      27\n",
      "macOS          13\n",
      "Mac OS          8\n",
      "Android         2\n",
      "Name: count, dtype: int64 \n",
      "\n",
      "OS_Version\n",
      "10      1241\n",
      "7         45\n",
      "X          8\n",
      "10 S       8\n",
      "Name: count, dtype: int64 \n",
      "\n",
      "Weight\n",
      "2.2kg     121\n",
      "2.1kg      58\n",
      "2.4kg      44\n",
      "2.3kg      40\n",
      "2.5kg      38\n",
      "         ... \n",
      "3.25kg      1\n",
      "4.7kg       1\n",
      "1.55kg      1\n",
      "1.18kg      1\n",
      "4.0kg       1\n",
      "Name: count, Length: 179, dtype: int64 \n",
      "\n",
      "Price\n",
      "13329108.0    14\n",
      "9772308.0     14\n",
      "15996708.0    13\n",
      "7993908.0     11\n",
      "10661508.0    11\n",
      "              ..\n",
      "18584280.0     1\n",
      "2703168.0      1\n",
      "6749028.0      1\n",
      "16521336.0     1\n",
      "23999508.0     1\n",
      "Name: count, Length: 791, dtype: int64 \n",
      "\n"
     ]
    }
   ],
   "source": [
    "for i in df.columns:\n",
    "    print(df[i].value_counts(),'\\n')"
   ]
  },
  {
   "cell_type": "markdown",
   "id": "fb430b81",
   "metadata": {
    "papermill": {
     "duration": 0.036516,
     "end_time": "2023-09-13T12:53:33.617683",
     "exception": false,
     "start_time": "2023-09-13T12:53:33.581167",
     "status": "completed"
    },
    "tags": []
   },
   "source": [
    "# Analyse dataset"
   ]
  },
  {
   "cell_type": "code",
   "execution_count": 15,
   "id": "9035b667",
   "metadata": {
    "execution": {
     "iopub.execute_input": "2023-09-13T12:53:33.693858Z",
     "iopub.status.busy": "2023-09-13T12:53:33.693120Z",
     "iopub.status.idle": "2023-09-13T12:53:33.698002Z",
     "shell.execute_reply": "2023-09-13T12:53:33.697142Z"
    },
    "papermill": {
     "duration": 0.045495,
     "end_time": "2023-09-13T12:53:33.700152",
     "exception": false,
     "start_time": "2023-09-13T12:53:33.654657",
     "status": "completed"
    },
    "tags": []
   },
   "outputs": [],
   "source": [
    "def order(x,num):\n",
    "    return df[x].value_counts().head(num).index"
   ]
  },
  {
   "cell_type": "markdown",
   "id": "2cde97ff",
   "metadata": {
    "papermill": {
     "duration": 0.037358,
     "end_time": "2023-09-13T12:53:33.774350",
     "exception": false,
     "start_time": "2023-09-13T12:53:33.736992",
     "status": "completed"
    },
    "tags": []
   },
   "source": [
    "# Laptop manufacturer"
   ]
  },
  {
   "cell_type": "code",
   "execution_count": 16,
   "id": "d87fbfab",
   "metadata": {
    "execution": {
     "iopub.execute_input": "2023-09-13T12:53:33.852778Z",
     "iopub.status.busy": "2023-09-13T12:53:33.852003Z",
     "iopub.status.idle": "2023-09-13T12:53:34.328296Z",
     "shell.execute_reply": "2023-09-13T12:53:34.325128Z"
    },
    "papermill": {
     "duration": 0.520163,
     "end_time": "2023-09-13T12:53:34.332030",
     "exception": false,
     "start_time": "2023-09-13T12:53:33.811867",
     "status": "completed"
    },
    "tags": []
   },
   "outputs": [
    {
     "data": {
      "text/plain": [
       "<Axes: title={'center': 'Popular Manufacturer of Laptops'}, xlabel='count', ylabel='Manufacturer'>"
      ]
     },
     "execution_count": 16,
     "metadata": {},
     "output_type": "execute_result"
    },
    {
     "data": {
      "image/png": "[encoded data removed]",
      "text/plain": [
       "<Figure size 640x480 with 1 Axes>"
      ]
     },
     "metadata": {},
     "output_type": "display_data"
    }
   ],
   "source": [
    "plt.title('Popular Manufacturer of Laptops')\n",
    "sns.countplot(y=df['Manufacturer'],order=order('Manufacturer',15))"
   ]
  },
  {
   "cell_type": "code",
   "execution_count": 17,
   "id": "ce775d7f",
   "metadata": {
    "execution": {
     "iopub.execute_input": "2023-09-13T12:53:34.434839Z",
     "iopub.status.busy": "2023-09-13T12:53:34.434402Z",
     "iopub.status.idle": "2023-09-13T12:53:34.444071Z",
     "shell.execute_reply": "2023-09-13T12:53:34.443154Z"
    },
    "papermill": {
     "duration": 0.055935,
     "end_time": "2023-09-13T12:53:34.446349",
     "exception": false,
     "start_time": "2023-09-13T12:53:34.390414",
     "status": "completed"
    },
    "tags": []
   },
   "outputs": [
    {
     "data": {
      "text/plain": [
       "Manufacturer\n",
       "Dell         297\n",
       "Lenovo       297\n",
       "HP           274\n",
       "Asus         157\n",
       "Acer         103\n",
       "MSI           54\n",
       "Toshiba       48\n",
       "Apple         21\n",
       "Samsung        9\n",
       "Razer          7\n",
       "Mediacom       7\n",
       "Microsoft      6\n",
       "Xiaomi         4\n",
       "Vero           4\n",
       "Chuwi          3\n",
       "Google         3\n",
       "Fujitsu        3\n",
       "LG             3\n",
       "Huawei         2\n",
       "Name: count, dtype: int64"
      ]
     },
     "execution_count": 17,
     "metadata": {},
     "output_type": "execute_result"
    }
   ],
   "source": [
    "df['Manufacturer'].value_counts()"
   ]
  },
  {
   "cell_type": "markdown",
   "id": "a3d76a7f",
   "metadata": {
    "papermill": {
     "duration": 0.041554,
     "end_time": "2023-09-13T12:53:34.526869",
     "exception": false,
     "start_time": "2023-09-13T12:53:34.485315",
     "status": "completed"
    },
    "tags": []
   },
   "source": [
    "# Lable encoder"
   ]
  },
  {
   "cell_type": "code",
   "execution_count": 18,
   "id": "87ad48d7",
   "metadata": {
    "execution": {
     "iopub.execute_input": "2023-09-13T12:53:34.623862Z",
     "iopub.status.busy": "2023-09-13T12:53:34.622762Z",
     "iopub.status.idle": "2023-09-13T12:53:34.797777Z",
     "shell.execute_reply": "2023-09-13T12:53:34.796497Z"
    },
    "papermill": {
     "duration": 0.223173,
     "end_time": "2023-09-13T12:53:34.801037",
     "exception": false,
     "start_time": "2023-09-13T12:53:34.577864",
     "status": "completed"
    },
    "tags": []
   },
   "outputs": [],
   "source": [
    "from sklearn.preprocessing import LabelEncoder\n",
    "lr=LabelEncoder()\n",
    "df['Manufacturer']=lr.fit_transform(df['Manufacturer'])"
   ]
  },
  {
   "cell_type": "code",
   "execution_count": 19,
   "id": "7bb185aa",
   "metadata": {
    "execution": {
     "iopub.execute_input": "2023-09-13T12:53:34.881708Z",
     "iopub.status.busy": "2023-09-13T12:53:34.881251Z",
     "iopub.status.idle": "2023-09-13T12:53:34.887736Z",
     "shell.execute_reply": "2023-09-13T12:53:34.886432Z"
    },
    "papermill": {
     "duration": 0.051266,
     "end_time": "2023-09-13T12:53:34.890789",
     "exception": false,
     "start_time": "2023-09-13T12:53:34.839523",
     "status": "completed"
    },
    "tags": []
   },
   "outputs": [
    {
     "name": "stdout",
     "output_type": "stream",
     "text": [
      "['Acer' 'Apple' 'Asus' 'Chuwi' 'Dell' 'Fujitsu' 'Google' 'HP' 'Huawei'\n",
      " 'LG' 'Lenovo' 'MSI' 'Mediacom' 'Microsoft' 'Razer' 'Samsung' 'Toshiba'\n",
      " 'Vero' 'Xiaomi']\n"
     ]
    }
   ],
   "source": [
    "print(lr.classes_)"
   ]
  },
  {
   "cell_type": "code",
   "execution_count": 20,
   "id": "d2d66f76",
   "metadata": {
    "execution": {
     "iopub.execute_input": "2023-09-13T12:53:34.971107Z",
     "iopub.status.busy": "2023-09-13T12:53:34.970284Z",
     "iopub.status.idle": "2023-09-13T12:53:34.978728Z",
     "shell.execute_reply": "2023-09-13T12:53:34.977773Z"
    },
    "papermill": {
     "duration": 0.050919,
     "end_time": "2023-09-13T12:53:34.981040",
     "exception": false,
     "start_time": "2023-09-13T12:53:34.930121",
     "status": "completed"
    },
    "tags": []
   },
   "outputs": [
    {
     "data": {
      "text/plain": [
       "0    1\n",
       "1    1\n",
       "2    7\n",
       "3    1\n",
       "4    1\n",
       "Name: Manufacturer, dtype: int64"
      ]
     },
     "execution_count": 20,
     "metadata": {},
     "output_type": "execute_result"
    }
   ],
   "source": [
    "df['Manufacturer'].head()"
   ]
  },
  {
   "cell_type": "code",
   "execution_count": 21,
   "id": "e8762742",
   "metadata": {
    "execution": {
     "iopub.execute_input": "2023-09-13T12:53:35.063265Z",
     "iopub.status.busy": "2023-09-13T12:53:35.062483Z",
     "iopub.status.idle": "2023-09-13T12:53:35.082376Z",
     "shell.execute_reply": "2023-09-13T12:53:35.080967Z"
    },
    "papermill": {
     "duration": 0.062364,
     "end_time": "2023-09-13T12:53:35.085198",
     "exception": false,
     "start_time": "2023-09-13T12:53:35.022834",
     "status": "completed"
    },
    "tags": []
   },
   "outputs": [
    {
     "data": {
      "text/html": [
       "<div>\n",
       "<style scoped>\n",
       "    .dataframe tbody tr th:only-of-type {\n",
       "        vertical-align: middle;\n",
       "    }\n",
       "\n",
       "    .dataframe tbody tr th {\n",
       "        vertical-align: top;\n",
       "    }\n",
       "\n",
       "    .dataframe thead th {\n",
       "        text-align: right;\n",
       "    }\n",
       "</style>\n",
       "<table border=\"1\" class=\"dataframe\">\n",
       "  <thead>\n",
       "    <tr style=\"text-align: right;\">\n",
       "      <th></th>\n",
       "      <th>Manufacturer</th>\n",
       "      <th>Model_Name</th>\n",
       "      <th>Category</th>\n",
       "      <th>Screen_Size</th>\n",
       "      <th>Screen</th>\n",
       "      <th>CPU</th>\n",
       "      <th>RAM</th>\n",
       "      <th>Storage</th>\n",
       "      <th>GPU</th>\n",
       "      <th>OS</th>\n",
       "      <th>OS_Version</th>\n",
       "      <th>Weight</th>\n",
       "      <th>Price</th>\n",
       "    </tr>\n",
       "  </thead>\n",
       "  <tbody>\n",
       "    <tr>\n",
       "      <th>0</th>\n",
       "      <td>1</td>\n",
       "      <td>MacBook Pro</td>\n",
       "      <td>Ultrabook</td>\n",
       "      <td>13.3\"</td>\n",
       "      <td>IPS Panel Retina Display 2560x1600</td>\n",
       "      <td>Intel Core i5 2.3GHz</td>\n",
       "      <td>8GB</td>\n",
       "      <td>128GB SSD</td>\n",
       "      <td>Intel Iris Plus Graphics 640</td>\n",
       "      <td>macOS</td>\n",
       "      <td>10</td>\n",
       "      <td>1.37kg</td>\n",
       "      <td>11912523.48</td>\n",
       "    </tr>\n",
       "    <tr>\n",
       "      <th>1</th>\n",
       "      <td>1</td>\n",
       "      <td>Macbook Air</td>\n",
       "      <td>Ultrabook</td>\n",
       "      <td>13.3\"</td>\n",
       "      <td>1440x900</td>\n",
       "      <td>Intel Core i5 1.8GHz</td>\n",
       "      <td>8GB</td>\n",
       "      <td>128GB Flash Storage</td>\n",
       "      <td>Intel HD Graphics 6000</td>\n",
       "      <td>macOS</td>\n",
       "      <td>10</td>\n",
       "      <td>1.34kg</td>\n",
       "      <td>7993374.48</td>\n",
       "    </tr>\n",
       "    <tr>\n",
       "      <th>2</th>\n",
       "      <td>7</td>\n",
       "      <td>250 G6</td>\n",
       "      <td>Notebook</td>\n",
       "      <td>15.6\"</td>\n",
       "      <td>Full HD 1920x1080</td>\n",
       "      <td>Intel Core i5 7200U 2.5GHz</td>\n",
       "      <td>8GB</td>\n",
       "      <td>256GB SSD</td>\n",
       "      <td>Intel HD Graphics 620</td>\n",
       "      <td>No OS</td>\n",
       "      <td>10</td>\n",
       "      <td>1.86kg</td>\n",
       "      <td>5112900.00</td>\n",
       "    </tr>\n",
       "    <tr>\n",
       "      <th>3</th>\n",
       "      <td>1</td>\n",
       "      <td>MacBook Pro</td>\n",
       "      <td>Ultrabook</td>\n",
       "      <td>15.4\"</td>\n",
       "      <td>IPS Panel Retina Display 2880x1800</td>\n",
       "      <td>Intel Core i7 2.7GHz</td>\n",
       "      <td>16GB</td>\n",
       "      <td>512GB SSD</td>\n",
       "      <td>AMD Radeon Pro 455</td>\n",
       "      <td>macOS</td>\n",
       "      <td>10</td>\n",
       "      <td>1.83kg</td>\n",
       "      <td>22563005.40</td>\n",
       "    </tr>\n",
       "    <tr>\n",
       "      <th>4</th>\n",
       "      <td>1</td>\n",
       "      <td>MacBook Pro</td>\n",
       "      <td>Ultrabook</td>\n",
       "      <td>13.3\"</td>\n",
       "      <td>IPS Panel Retina Display 2560x1600</td>\n",
       "      <td>Intel Core i5 3.1GHz</td>\n",
       "      <td>8GB</td>\n",
       "      <td>256GB SSD</td>\n",
       "      <td>Intel Iris Plus Graphics 650</td>\n",
       "      <td>macOS</td>\n",
       "      <td>10</td>\n",
       "      <td>1.37kg</td>\n",
       "      <td>16037611.20</td>\n",
       "    </tr>\n",
       "  </tbody>\n",
       "</table>\n",
       "</div>"
      ],
      "text/plain": [
       "   Manufacturer   Model_Name   Category Screen_Size  \\\n",
       "0             1  MacBook Pro  Ultrabook       13.3\"   \n",
       "1             1  Macbook Air  Ultrabook       13.3\"   \n",
       "2             7       250 G6   Notebook       15.6\"   \n",
       "3             1  MacBook Pro  Ultrabook       15.4\"   \n",
       "4             1  MacBook Pro  Ultrabook       13.3\"   \n",
       "\n",
       "                               Screen                         CPU   RAM  \\\n",
       "0  IPS Panel Retina Display 2560x1600        Intel Core i5 2.3GHz   8GB   \n",
       "1                            1440x900        Intel Core i5 1.8GHz   8GB   \n",
       "2                   Full HD 1920x1080  Intel Core i5 7200U 2.5GHz   8GB   \n",
       "3  IPS Panel Retina Display 2880x1800        Intel Core i7 2.7GHz  16GB   \n",
       "4  IPS Panel Retina Display 2560x1600        Intel Core i5 3.1GHz   8GB   \n",
       "\n",
       "               Storage                           GPU     OS OS_Version  \\\n",
       "0            128GB SSD  Intel Iris Plus Graphics 640  macOS         10   \n",
       "1  128GB Flash Storage        Intel HD Graphics 6000  macOS         10   \n",
       "2            256GB SSD         Intel HD Graphics 620  No OS         10   \n",
       "3            512GB SSD            AMD Radeon Pro 455  macOS         10   \n",
       "4            256GB SSD  Intel Iris Plus Graphics 650  macOS         10   \n",
       "\n",
       "   Weight        Price  \n",
       "0  1.37kg  11912523.48  \n",
       "1  1.34kg   7993374.48  \n",
       "2  1.86kg   5112900.00  \n",
       "3  1.83kg  22563005.40  \n",
       "4  1.37kg  16037611.20  "
      ]
     },
     "execution_count": 21,
     "metadata": {},
     "output_type": "execute_result"
    }
   ],
   "source": [
    "df.head()"
   ]
  },
  {
   "cell_type": "markdown",
   "id": "9857a39c",
   "metadata": {
    "papermill": {
     "duration": 0.039681,
     "end_time": "2023-09-13T12:53:35.167989",
     "exception": false,
     "start_time": "2023-09-13T12:53:35.128308",
     "status": "completed"
    },
    "tags": []
   },
   "source": [
    "# Model name"
   ]
  },
  {
   "cell_type": "code",
   "execution_count": 22,
   "id": "80a427ed",
   "metadata": {
    "execution": {
     "iopub.execute_input": "2023-09-13T12:53:35.250495Z",
     "iopub.status.busy": "2023-09-13T12:53:35.249724Z",
     "iopub.status.idle": "2023-09-13T12:53:35.260985Z",
     "shell.execute_reply": "2023-09-13T12:53:35.260129Z"
    },
    "papermill": {
     "duration": 0.055922,
     "end_time": "2023-09-13T12:53:35.263504",
     "exception": false,
     "start_time": "2023-09-13T12:53:35.207582",
     "status": "completed"
    },
    "tags": []
   },
   "outputs": [
    {
     "data": {
      "text/plain": [
       "array(['MacBook Pro', 'Macbook Air', '250 G6', 'Aspire 3',\n",
       "       'ZenBook UX430UN', 'Swift 3', 'Inspiron 3567', 'MacBook 12\"',\n",
       "       'IdeaPad 320-15IKB', 'XPS 13', 'Vivobook E200HA',\n",
       "       'Legion Y520-15IKBN', '255 G6', 'Inspiron 5379',\n",
       "       '15-BS101nv (i7-8550U/8GB/256GB/FHD/W10)', 'MacBook Air',\n",
       "       'Inspiron 5570', 'Latitude 5590', 'ProBook 470', 'LapBook 15.6\"',\n",
       "       'E402WA-GA010T (E2-6110/2GB/32GB/W10)',\n",
       "       '17-ak001nv (A6-9220/4GB/500GB/Radeon', 'IdeaPad 120S-14IAP',\n",
       "       'Inspiron 5770', 'ProBook 450',\n",
       "       'X540UA-DM186 (i3-6006U/4GB/1TB/FHD/Linux)', 'Inspiron 7577',\n",
       "       'X542UQ-GO005 (i5-7200U/8GB/1TB/GeForce', 'Aspire A515-51G',\n",
       "       'Inspiron 7773', 'IdeaPad 320-15ISK', 'Rog Strix',\n",
       "       'X751NV-TY001T (N4200/4GB/1TB/GeForce', 'Yoga Book', 'ProBook 430',\n",
       "       'Inspiron 3576', '15-bs002nv (i3-6006U/4GB/128GB/FHD/W10)',\n",
       "       'VivoBook Max', 'GS73VR 7RG',\n",
       "       'X541UA-DM1897 (i3-6006U/4GB/256GB/FHD/Linux)', 'Vostro 5471',\n",
       "       'IdeaPad 520S-14IKB',\n",
       "       'UX410UA-GV350T (i5-8250U/8GB/256GB/FHD/W10)', 'ZenBook Pro',\n",
       "       'Stream 14-AX040wm', 'V310-15ISK (i5-7200U/4GB/1TB/FHD/W10)',\n",
       "       'FX753VE-GC093 (i7-7700HQ/12GB/1TB/GeForce', 'Surface Laptop',\n",
       "       'Inspiron 5370', 'GL72M 7RDX', 'Aspire E5-475',\n",
       "       'FX503VD-E4022T (i7-7700HQ/8GB/1TB/GeForce', 'IdeaPad 320-15IKBN',\n",
       "       'Aspire A515-51G-32MX', 'ProBook 440', 'IdeaPad 320-15AST',\n",
       "       'Pavilion 15-CK000nv', 'FX503VM-E4007T (i7-7700HQ/16GB/1TB',\n",
       "       'FX550IK-DM018T (FX-9830P/8GB/1TB/Radeon', 'Aspire 5',\n",
       "       'Probook 430', 'Zenbook UX430UA', 'Spin 5',\n",
       "       'X541UV-DM1439T (i3-7100U/6GB/256GB/GeForce', 'Omen 15-ce007nv',\n",
       "       '15-bs017nv (i7-7500U/8GB/256GB/Radeon',\n",
       "       '15-bw000nv (E2-9000e/4GB/500GB/Radeon', 'Envy 13-ad009n',\n",
       "       'Pavilion 14-BK001nv', 'Ideapad 310-15ISK',\n",
       "       'UX430UQ-GV209R (i7-7500U/8GB/256GB/GeForce', 'GP62M 7REX',\n",
       "       'Thinkpad T470', 'VivoBook S15', 'ThinkPad Yoga', 'Probook 440',\n",
       "       'Spectre x360', 'Inspiron 7570',\n",
       "       'X705UV-BX074T (i3-6006U/4GB/1TB/GeForce', 'Spin 3', 'GS63VR 7RG',\n",
       "       'Probook 470', 'E402WA-GA007T (E2-6110/4GB/64GB/W10',\n",
       "       'Inspiron 5567', 'Aspire A515-51G-37JS',\n",
       "       '15-BS078nr (i7-7500U/8GB/1TB/W10)',\n",
       "       'V110-15IAP (N3350/4GB/1TB/No',\n",
       "       'FX753VD-GC086T (i5-7300HQ/8GB/1TB', 'Envy 13-AD007nv',\n",
       "       'ThinkPad E480', 'Satellite Pro', 'ZenBook UX430UA',\n",
       "       'EliteBook Folio', 'X541NA (N3350/4GB/1TB/FHD/W10)', 'GE72MVR 7RG',\n",
       "       'Aspire A315-51', 'Inspiron 5577', 'Inspiron 7567',\n",
       "       'V110-15IKB (i5-7200U/4GB/128GB/W10)', 'GE73VR 7RE',\n",
       "       'EliteBook 840', '15-BS103nv (i5-8250U/6GB/256GB/Radeon',\n",
       "       'Yoga 520-14IKB', 'ZenBook Flip', 'Inspiron 5579',\n",
       "       'X555BP-XX180T (A9-9420/4GB/1TB/Radeon', 'Aspire A517-51G',\n",
       "       'Aspire A315-31', 'GE63VR 7RE', 'MateBook X',\n",
       "       '17-bs001nv (i5-7200U/6GB/2TB/Radeon', 'GT80S 6QF-074US',\n",
       "       'V310-15IKB (i5-7200U/8GB/1TB', 'Yoga 920-13IKB', 'Mi Notebook',\n",
       "       'XPS 15', 'Swift 7', 'Thinkpad Yoga',\n",
       "       'K147 (N3350/4GB/32GB/FHD/W10)', 'IdeaPad 320-17IKBR', 'Blade Pro',\n",
       "       'Omen 17-W295', 'V110-15ISK (i5-6200U/4GB/128GB/W10)',\n",
       "       'Aspire E5-576G', 'Legion Y720-15IKB', 'Precision 7520',\n",
       "       'Aspire 7', 'ROG GL703VD-GC028T',\n",
       "       '15-bs018nq (i3-6006U/4GB/500GB/FHD/No', 'IdeaPad 320-17IKB',\n",
       "       'Latitude 5490', 'Portege Z30-C-16L', 'Alienware 17',\n",
       "       'Vivobook X541UV-DM1217T', 'K756UX-T4340T (i5-7200U/8GB/500GB',\n",
       "       'ZBook 15u', 'Pro P2540UA-XO0198T',\n",
       "       '15-rb013nv (E2-9000e/4GB/500GB/W10)', 'Vostro 5468', 'Aspire R7',\n",
       "       'X555QG-DM242T (A10-9620P/4GB/1TB', 'ROG G703VI-E5062T',\n",
       "       'Nitro AN515-51', 'VivoBook Pro',\n",
       "       'F756UX-T4201D (i7-7500U/8GB/128GB', 'Yoga 910-13IKB',\n",
       "       '15-bs015dx (i5-7200U/8GB/1TB/W10)', 'Rog G701VIK-BA060T',\n",
       "       'ROG G752VSK-GC493T', 'X505BP-BR019T (A9-9420/4GB/1TB/Radeon',\n",
       "       'Vostro 5370', '15-BW094nd (A6-9220/8GB/128GB/W10)',\n",
       "       'Envy 17-U275cl', 'GT73EVR 7RE', 'Yoga 720-15IKB', 'Vostro 3568',\n",
       "       'V330-15IKB (i7-8550U/8GB/256GB/FHD/W10)', 'ThinkPad X1',\n",
       "       'IdeaPad 320-17ISK', 'Ideapad 320-15IKBN',\n",
       "       'SP315-51 (i7-7500U/12GB/1TB/FHD/W10)', 'Thinkpad T570',\n",
       "       'Chromebook C910-C2ST',\n",
       "       'FX753VD-GC071T (i7-7700HQ/8GB/1TB/GeForce',\n",
       "       '17-BS037cl (i3-6006U/8GB/1TB/W10)',\n",
       "       'V330-15IKB (i5-8250U/8GB/256GB/FHD/W10)', 'Aspire A715-71G',\n",
       "       'Precision 7720', 'IdeaPad 310-15ABR', 'ZenBook UX530UQ-PRO',\n",
       "       'VivoBook S14', 'Rog GL702VS-GC095T',\n",
       "       'GL553VE-FY082T (i7-7700HQ/8GB/1TB', 'IdeaPad 320-15IAP',\n",
       "       'EliteBook x360', 'IdeaPad 720S-13IKB', 'GE63VR 7RF',\n",
       "       'ES1-523-84K7 (A8-7410/8GB/256GB/FHD/W10)', 'VivoBook Flip',\n",
       "       'ThinkPad 13', 'ProBook 640', 'TravelMate B', 'Elitebook 840',\n",
       "       'ZenBook UX410UA-GV183T', 'Aspire E5-575', 'Elitebook 820',\n",
       "       'GL72M 7REX', 'UX510UX-CN269T (i7-7500U/8GB/256GB',\n",
       "       'V310-15ISK (i3-6006U/4GB/1TB/FHD/W10)',\n",
       "       'FX553VD-FY647T (i7-7700HQ/8GB/256GB/GeForce', 'Elitebook 850',\n",
       "       'X541NA (N3350/4GB/1TB/Linux)', 'Inspiron 3552',\n",
       "       'IdeaPad 320-15ABR', 'Stream 14-AX001nv', 'GP72MVR 7RFX',\n",
       "       'Zbook 15', 'Tecra A50-C-21G', 'Latitude 7480',\n",
       "       'Zenbook UX410UA-GV027T', '15-AY023na (N3710/8GB/2TB/W10)',\n",
       "       'Elitebook 1040', 'IdeaPad 110-17ACL',\n",
       "       '15-bw003nv (A9-Series-9420/4GB/256GB/FHD/W10)', 'Yoga 11e',\n",
       "       'VivoBook E403NA', 'Omen 17-w212nv',\n",
       "       'V310-15ISK (i3-6006U/4GB/128GB/FHD/No', 'ROG Strix',\n",
       "       'IdeaPad 720S-14IKB', 'Zenbook Flip', 'Thinkpad X1',\n",
       "       'Ideapad 510S-13IKB', 'Precision 3510', 'Precision 5520',\n",
       "       'Rog GL753VD-GC042T', 'Rog GL753VE-GC070T', 'Leopard GP72M',\n",
       "       '15-BW004nv (A9-9420/4GB/256GB/Radeon', 'ThinkPad E580',\n",
       "       'ThinkPad L470', 'Precision M5520',\n",
       "       'FX753VD-GC461T (i7-7700HQ/16GB/1TB', 'GE73VR 7RF', 'Zenbook 3',\n",
       "       'Portege Z30-C-16P', 'Lenovo IdeaPad', 'ThinkPad P51',\n",
       "       'Thinkpad T470p', '15-BS028nv (i3-6006U/4GB/1TB/Radeon',\n",
       "       'Latitude 3380', 'EliteBook 1040', 'LapBook 12.3', 'ProBook 650',\n",
       "       'X542UQ-DM117 (i3-7100U/8GB/1TB/GeForce', 'Latitude 5480',\n",
       "       'Omen 17-w207nv', 'FlexBook Edge', 'Chromebook 3', 'Thinkpad 13',\n",
       "       'IdeaPad 320s-14IKB', 'Thinkpad P51',\n",
       "       '15-ra044nv (N3060/4GB/500GB/W10)', 'Pixelbook (Core',\n",
       "       'ThinkPad T470s', 'ThinkPad X270', 'Omen 15-AX205na',\n",
       "       'Aspire ES1-572', 'Precision 3520', 'GV62 7RD-1686NL',\n",
       "       '15-bs024nv (i5-7200U/8GB/128GB/W10)', 'ThinkPad T470',\n",
       "       'Inspiron 3168', '17-BS092ND (i3-6006U/8GB/256GB/W10)',\n",
       "       'Pro P2540UA-AB51', 'IdeaPad 510s-14IKB',\n",
       "       'X541NA-PD1003Y (N4200/4GB/500GB/W10)', 'Omen 17-an006nv',\n",
       "       'Thinkpad T460s', 'Latitude 7390', 'Latitude E5470',\n",
       "       'Portege X30-D-10J', 'Lapbook 15,6', 'ThinkPad E570',\n",
       "       'Thinkpad X270', 'Zenbook UX390UA', 'Thinkpad E570',\n",
       "       'Portege X30-D-10L', 'Rog G752VL-UH71T', 'Thinkpad X260',\n",
       "       'Ideapad 520-15IKBR', 'ThinkPad L570', 'VivoBook E201NA',\n",
       "       '15-BS026nv (i5-7200U/8GB/256GB/Radeon', 'IdeaPad 320-14IAP',\n",
       "       'Chromebook N23', 'ZenBook UX510UX-CN211T', 'Aspire A515-51G-59QF',\n",
       "       'Envy 13-AB002nv', 'Vostro 5568', 'VivoBook E12',\n",
       "       '15-bs190od (i5-8250U/4GB/1TB/W10)', 'ROG Zephyrus', 'Probook 450',\n",
       "       'FX753VE-GC155T (i7-7700HQ/16GB/1TB', 'Spectre X360',\n",
       "       'Latitude 5580', 'Zenbook UX510UW-FI095T', 'SmartBook Edge',\n",
       "       'Omen 15-ce006nv', 'Thinkpad E470', 'Envy 13-AB020nr',\n",
       "       'VivoBook X540YA-XX519T', 'ThinkPad E470',\n",
       "       'V310-15ISK (i5-6200U/4GB/1TB/FHD/No', 'ThinkPad T570',\n",
       "       '17-X047na (i3-6006U/8GB/1TB/W10)',\n",
       "       'A541NA-GO342 (N3350/4GB/500GB/Linux)', 'SmartBook 130',\n",
       "       '15-bw007nv (A10-9620P/6GB/128GB/Radeon', 'Spin SP111-31',\n",
       "       'V330-15IKB (i3-7130U/4GB/128GB/FHD/W10)', 'EliteBook 1030',\n",
       "       'Thinkpad P71', 'FX553VD-DM627T (i5-7300HQ/8GB/1TB',\n",
       "       'Lifebook A557', 'ZBook 17', '14-am079na (N3710/8GB/2TB/W10)',\n",
       "       '15-cd005nv (A9-9420/6GB/256GB/Radeon',\n",
       "       'V330-15IKB (i5-8250U/4GB/500GB/FHD/W10)', 'SmartBook 141',\n",
       "       'Tecra X40-D-10H', 'IdeaPad Y910-17ISK', 'GT73VR Titan',\n",
       "       'Chromebook 11', 'GT80S 6QE', 'Omen 17-AN010nv',\n",
       "       'Ideapad 320-15IKBR', 'TP501UA-CJ131T (i5-7200U/8GB/1TB/W10)',\n",
       "       'Inspiron 3179', 'Notebook Odyssey',\n",
       "       'V320-17ISK (i3-6006U/4GB/500GB/FHD/No', 'IdeaPad 110-15ISK',\n",
       "       'Latitude 5289', 'EliteBook 850', 'Aspire 1', 'Laptop MSI',\n",
       "       'GS63VR 7RF', 'Tecra Z50-C-144', 'IdeaPad 310-15IKB',\n",
       "       'Swift SF114-31-P5HY', 'Inspiron 7559',\n",
       "       'FX753VD-GC007T (i7-7700HQ/8GB/1TB', 'GT62VR 7RE',\n",
       "       'CB5-132T-C9KK (N3160/4GB/32GB/Chrome', 'LifeBook A557',\n",
       "       'SmartBook 140', 'Q304UA-BHI5T11 (i5-7200U/6GB/1TB/FHD/W10)',\n",
       "       'ZenBook 3', 'V330-15IKB (i5-8250U/4GB/256GB/FHD/W10)',\n",
       "       'Ideapad 320-15ISK', 'X541NA-GO414T (N3350/8GB/1TB/W10)',\n",
       "       'IdeaPad 100S-14IBR', '17-AK091ND (A9-9420/8GB/1TB/W10)',\n",
       "       'ROG GL553VE-FY022', 'Extensa EX2540', 'Portege Z30-C-16J',\n",
       "       'ROG G701VI', 'A715-71G-59DH (i5-7300HQ/8GB/1TB/GeForce',\n",
       "       'GL62M 7REX', 'Tecra A50-D-11M', 'IdeaPad Y700-15ISK',\n",
       "       'Latitude E7470', 'Ideapad 320-15IAP',\n",
       "       '15-ay047nv (i3-6006U/6GB/1TB/Radeon', 'GP72VR Leopard',\n",
       "       'Latitude 3580', '15-bs012nv (i7-7500U/8GB/1TB/Radeon',\n",
       "       'Tecra Z50-D-10E', 'V310-15ISK (i5-7200U/8GB/1TB',\n",
       "       'Yoga 720-13IKB', 'Pavilion X360', 'GP62 7RDX', 'Chromebook X360',\n",
       "       'Gram 15Z975', 'Aspire VX5-591G', 'GV62M 7RD',\n",
       "       'L502NA-GO052T (N3350/4GB/128GB/W10)', 'Alienware 15',\n",
       "       '17-bs000nv I3', 'Yoga 730', '17-Y002nv (A10-9600P/6GB/2TB/Radeon',\n",
       "       'V110-15ISK (3855U/4GB/500GB/W10)', 'Chromebook 14',\n",
       "       'IdeaPad 520s-14IKB', 'TravelMate B117-M', 'Chromebook Flip',\n",
       "       'Portege Z30T-C-133', '15-bs011nv (i7-7500U/4GB/500GB/Radeon',\n",
       "       'V310-15IKB (i5-7200U/4GB/1TB/FHD/W10)',\n",
       "       'V310-15ISK (i3-6006U/4GB/500GB/No', 'ThinkPad P51s',\n",
       "       'Thinkpad T460p', '17-ak002nv (A10-9620P/6GB/2TB/Radeon',\n",
       "       '110-15ACL (A6-7310/4GB/500GB/W10)', 'Smartbook 142',\n",
       "       'V310-15IKB (i5-7200U/4GB/1TB/No', 'Inspiron 5378',\n",
       "       '15-BW037na (A9-9420/4GB/1TB/Radeon', 'Predator 17',\n",
       "       '15-BW091ND (A9-9420/6GB/1TB', 'Extensa EX2540-58KR',\n",
       "       'V310-15IKB (i7-7500U/4GB/1TB/FHD/W10)', 'ZBook 15',\n",
       "       'Inspiron 7560', 'Tecra X40-D-10G', 'Flex 5', 'Thinkpad P51s',\n",
       "       'Notebook 9', 'Zbook 17', 'N23 (N3060/4GB/128GB/W10)',\n",
       "       'X550VX-XX015D (i5-6300HQ/4GB/1TB/GeForce', 'Thinkpad T460',\n",
       "       'Pro P2540UA-XO0192R', 'Yoga 900-13ISK',\n",
       "       '15-cb003na (i5-7300HQ/8GB/1TB', 'Latitude 7280',\n",
       "       'Zenbook UX330UA-AH5Q', 'TravelMate P238-M',\n",
       "       'X751NV-TY001 (N4200/4GB/1TB/GeForce', 'Tecra A40-C-1E5',\n",
       "       'EliteBook 820', 'Q524UQ-BHI7T15 (i7-7500U/12GB/2TB/GeForce',\n",
       "       'Thinkpad P50', 'Vivobook Max', 'Rog G752VS-BA171T',\n",
       "       'Tecra Z40-C-161', 'IdeaPad 110-15IBR', 'GS43VR 7RE',\n",
       "       'GL62M (i5-7300HQ/8GB/1TB', 'Predator G9-793',\n",
       "       'FX502VM-DM560T (i7-7700HQ/8GB/1TB', 'K146 (N3350/4GB/32GB/W10)',\n",
       "       'Yoga 510-15IKB', 'R417NA-RS01 (N3350/4GB/32GB/W10)',\n",
       "       'Pro P2540UA-XS51', 'Latitude 3180',\n",
       "       '15-ba043na (A12-9700P/8GB/2TB/W10)', 'Omen 17-an012dx',\n",
       "       'Thinkpad T470s', 'Blade Stealth', 'Latitude 3480',\n",
       "       'V110-15ISK (i3-6006U/4GB/500GB/W10)', 'Tecra X40-D-10Z',\n",
       "       'GL62M 7RD', 'Rog GL702VS-BA023T', 'N42-20 Chromebook',\n",
       "       'R558UA-DM966T (i5-7200U/8GB/128GB/FHD/W10)', 'Rog GL702VM-GC017T',\n",
       "       'ZenBook UX310UQ-GL026T', 'Rog GL502VM-DS74', 'Inspiron 5767',\n",
       "       'ThinkPad T470p', 'K556UR-DM621T (i7-7500U/8GB/256GB/GeForce',\n",
       "       'X541NA (N4200/4GB/1TB/W10)', 'Inspiron 5368', 'Portege X30-D-10X',\n",
       "       'Portégé Z30-C-188',\n",
       "       'TMX349-G2-M-50FS (i5-7200U/8GB/256GB/FHD/W10)', 'Tecra A50-D-11D',\n",
       "       'X541NA-GO121 (N4200/4GB/1TB/Linux)', 'Pavilion x360',\n",
       "       'VivoBook L402NA', 'IdeaPad 510-15ISK', 'Rog GL753VD-GC082T',\n",
       "       'Chromebook C731-C78G', 'Probook 640', 'Envy x360',\n",
       "       'GS73VR Stealth', 'Portege X30-D-10V',\n",
       "       'G701VO-IH74K (i7-6820HK/32GB/2x', 'Gram 15Z970',\n",
       "       'Chromebook CB5-571-C1DZ', 'Gram 14Z970', 'Elitebook Folio',\n",
       "       'IdeaPad 510-15IKB', 'GE72VR 6RF', 'Envy 13-AB077cl',\n",
       "       'Tecra Z50-C-140', 'Probook 650', 'Tecra Z40-C-12X',\n",
       "       'GP62M Leopard', 'Omen 17-W006na',\n",
       "       'X751SV-TY001T (N3710/4GB/1TB/GeForce', 'TravelMate P259-G2',\n",
       "       'Tecra A50-C-1ZV', 'Yoga 700-11ISK', 'IdeaPad Y700-15ACZ',\n",
       "       'Insprion 5767', 'ZBook Studio', 'Portege Z30-C-1CW',\n",
       "       'ProBook x360', 'Chromebook C738T-C2EJ', 'Portege Z30-C-16Z',\n",
       "       'Aspire F5-573G-510L', 'Portege X20W-D-10V', 'Tecra A40-C-1DF',\n",
       "       'ThinkPad T460', '15-bs053od (i7-7500U/6GB/1TB/W10)',\n",
       "       'Rog GL753VE-DS74', 'Inspiron 7579', 'Portege Z30-C-1CV',\n",
       "       'LifeBook A556', 'Tecra A40-C-1KF', '15-bs005nv (i3-6006U/4GB/1TB',\n",
       "       'V110-15IAP (N3350/4GB/128GB/No', 'ThinkPad T560',\n",
       "       'ZenBook UX310UA-FB485T', 'Spectre 13-V111dx', 'Aspire ES1-533',\n",
       "       'Rog GL553VE-DS74', 'Nitro 5', 'ENVY -', 'Portege Z30-C-16H',\n",
       "       'Portege A30-C-1CZ', 'ThinkPad P70', 'Tecra Z40-C-12Z',\n",
       "       'Inspiron 5568', 'Portégé Z30-C-16K', 'Spectre 13-V100nv',\n",
       "       'Latitude E5570', 'Tecra Z40-C-136', 'Yoga 500-15ISK',\n",
       "       'V142 (X5-Z8350/2GB/32GB/W10)', 'Tecra A50-C-218', 'Thinkpad L560',\n",
       "       'GT72S Dominator', 'IdeaPad Y900-17ISK', 'Chromebook C202SA',\n",
       "       'Noteb Pav', 'Inspiron 5578', '250 G5', 'Aspire ES1-523',\n",
       "       'Inspiron 7378', 'GT62VR 6RD', 'Rog G752VL-GC088D', 'GS63VR 6RF',\n",
       "       'ROG G701VO', 'Latitude 3570', 'IdeaPad 300-17ISK',\n",
       "       'Ideapad 700-15ISK', 'GT72VR Dominator',\n",
       "       'V110-15ISK (i5-6200U/4GB/500GB/W10)', 'Yoga 900S-12ISK',\n",
       "       'Chromebook 13', 'Rog GL702VM-GC354T', 'Aspire F5-573G',\n",
       "       'GS70 Stealth', 'G752VY-GC162T (i7-6700HQ/16GB/1TB',\n",
       "       'Latitude E5270', 'Chromebook 15', 'GE72 Apache',\n",
       "       '15-bw011nv (A6-9220/4GB/1TB/FHD/W10)', 'Rog GL552VW-CN470T',\n",
       "       'Vostro 3559', 'V110-15ISK (i3-6006U/4GB/128GB/W10)',\n",
       "       'Spectre Pro', 'Portege X30-D-10K', 'Rog GL752VW-T4308T',\n",
       "       'V131 (X5-Z8350/4GB/32GB/FHD/W10)', 'Omen -',\n",
       "       '15-bs078cl (i7-7500U/8GB/2TB/W10)', 'ThinkPad P40',\n",
       "       'L403NA-GA013TS (N3350/4GB/32GB/W10)', 'IdeaPad 500-15ISK',\n",
       "       'GP62M 7RDX', 'V110-15ISK (i3-6006U/4GB/1TB/No',\n",
       "       '15-BA015wm (E2-7110/4GB/500GB/W10)',\n",
       "       'B51-80 (i5-6200U/8GB/1TB/Radeon',\n",
       "       '15-bw002nv (A6-9220/4GB/256GB/Radeon', 'GP72M 7REX',\n",
       "       'ThinkPad T460s', 'B51-80 (i5-6200U/8GB/1008GB/Radeon',\n",
       "       'GS40 Phantom', 'Pavilion 15-cb003nv', 'IdeaPad 310-15ISK',\n",
       "       '250 G4', '320-15ISK (i3-6006U/4GB/1TB/GeForce',\n",
       "       'Stream 14-AX000nv', 'PL60 7RD',\n",
       "       'X553SA-XX021T (N3050/4GB/500GB/W10)',\n",
       "       'V110-15ISK (i5-6200U/4GB/500GB/No',\n",
       "       'UX410UA-GV097T (i3-7100U/4GB/256GB/FHD/W10)',\n",
       "       'B51-80 (i7-6500U/4GB/1008GB/FHD/W7)', 'GS60 Ghost',\n",
       "       'Pavilion 15-BC000nv', 'Rog GL552VW-DM201T', 'Chromebook Plus',\n",
       "       'Pavilion Power', 'V110-15ISK (i3-6006U/4GB/1TB/Radeon',\n",
       "       'Rog G752VY-GC229T', 'GS73VR 7RF',\n",
       "       'FX502VM-DM105T (i7-6700HQ/8GB/1TB/GeForce',\n",
       "       '15-bs025nv (i5-7200U/8GB/256GB/W10)', 'Aspire E5-774G',\n",
       "       'FX502VM-AS73 (i7-7700HQ/16GB/1TB',\n",
       "       'C740-C9QX (3205U/2GB/32GB/Chrome', 'E5 774G',\n",
       "       'SP714-51 (i7-7Y75/8GB/256GB/FHD/W10)', 'Thinkpad T560',\n",
       "       'GP62MVR 6RF', '15-bw009nv (A12-9720P/6GB/1TB/Radeon',\n",
       "       'Latitude E7270', 'X540SA-RBPDN09 (N3710/4GB/1TB/W10)',\n",
       "       'GL62M 7RDX', 'GE72VR Apache',\n",
       "       '15-bs023nv (i3-6006U/4GB/1TB/FHD/W10)', 'GL62 6QF',\n",
       "       'ZenBook UX310UA-WB71', 'Inspiron 7779', 'Rog GL553VE-FY052T',\n",
       "       'Rog GL502VS', 'V510-15IKB (i5-7200U/8GB/256GB/FHD/No',\n",
       "       'ThinkPad L460', 'X541NA-GO020T (N3350/4GB/1TB/W10)',\n",
       "       'Rog G752VT-GC073T', 'B51-80 (i7-6500U/8GB/1008GB/Radeon',\n",
       "       'GE62 Apache', 'Yoga 500-14IBD', 'ZenBook UX305CA-UBM1',\n",
       "       'Aspire ES1-531', 'Pavilion 15-AW003nv', 'Stream 11-Y000na',\n",
       "       'X556UJ-XO044T (i7-6500U/4GB/500GB/GeForce', 'Yoga 500-14ISK',\n",
       "       '15-AC110nv (i7-6500U/6GB/1TB/Radeon',\n",
       "       'X553SA-XX031T (N3050/4GB/500GB/W10)'], dtype=object)"
      ]
     },
     "execution_count": 22,
     "metadata": {},
     "output_type": "execute_result"
    }
   ],
   "source": [
    "df['Model_Name'].unique()"
   ]
  },
  {
   "cell_type": "code",
   "execution_count": 23,
   "id": "8e38a830",
   "metadata": {
    "execution": {
     "iopub.execute_input": "2023-09-13T12:53:35.346757Z",
     "iopub.status.busy": "2023-09-13T12:53:35.346010Z",
     "iopub.status.idle": "2023-09-13T12:53:35.353494Z",
     "shell.execute_reply": "2023-09-13T12:53:35.352306Z"
    },
    "papermill": {
     "duration": 0.051978,
     "end_time": "2023-09-13T12:53:35.355983",
     "exception": false,
     "start_time": "2023-09-13T12:53:35.304005",
     "status": "completed"
    },
    "tags": []
   },
   "outputs": [
    {
     "data": {
      "text/plain": [
       "617"
      ]
     },
     "execution_count": 23,
     "metadata": {},
     "output_type": "execute_result"
    }
   ],
   "source": [
    "len(df['Model_Name'].value_counts())"
   ]
  },
  {
   "cell_type": "code",
   "execution_count": 24,
   "id": "91d0d56d",
   "metadata": {
    "execution": {
     "iopub.execute_input": "2023-09-13T12:53:35.440083Z",
     "iopub.status.busy": "2023-09-13T12:53:35.439335Z",
     "iopub.status.idle": "2023-09-13T12:53:35.445678Z",
     "shell.execute_reply": "2023-09-13T12:53:35.444471Z"
    },
    "papermill": {
     "duration": 0.051234,
     "end_time": "2023-09-13T12:53:35.448157",
     "exception": false,
     "start_time": "2023-09-13T12:53:35.396923",
     "status": "completed"
    },
    "tags": []
   },
   "outputs": [],
   "source": [
    "df.drop('Model_Name',axis=1,inplace=True)"
   ]
  },
  {
   "cell_type": "markdown",
   "id": "26eb1ac5",
   "metadata": {
    "papermill": {
     "duration": 0.040901,
     "end_time": "2023-09-13T12:53:35.529847",
     "exception": false,
     "start_time": "2023-09-13T12:53:35.488946",
     "status": "completed"
    },
    "tags": []
   },
   "source": [
    "# Category of laptops"
   ]
  },
  {
   "cell_type": "code",
   "execution_count": 25,
   "id": "8411a210",
   "metadata": {
    "execution": {
     "iopub.execute_input": "2023-09-13T12:53:35.612780Z",
     "iopub.status.busy": "2023-09-13T12:53:35.612044Z",
     "iopub.status.idle": "2023-09-13T12:53:35.874303Z",
     "shell.execute_reply": "2023-09-13T12:53:35.873069Z"
    },
    "papermill": {
     "duration": 0.306718,
     "end_time": "2023-09-13T12:53:35.876897",
     "exception": false,
     "start_time": "2023-09-13T12:53:35.570179",
     "status": "completed"
    },
    "tags": []
   },
   "outputs": [
    {
     "data": {
      "text/plain": [
       "<Axes: title={'center': 'Laptop popularity by catrgory'}, xlabel='count', ylabel='Category'>"
      ]
     },
     "execution_count": 25,
     "metadata": {},
     "output_type": "execute_result"
    },
    {
     "data": {
      "image/png": "[encoded data removed]",
      "text/plain": [
       "<Figure size 640x480 with 1 Axes>"
      ]
     },
     "metadata": {},
     "output_type": "display_data"
    }
   ],
   "source": [
    "plt.title('Laptop popularity by catrgory')\n",
    "sns.countplot(y=df['Category'],order=order('Category',10))"
   ]
  },
  {
   "cell_type": "code",
   "execution_count": 26,
   "id": "f36b112d",
   "metadata": {
    "execution": {
     "iopub.execute_input": "2023-09-13T12:53:35.961396Z",
     "iopub.status.busy": "2023-09-13T12:53:35.960948Z",
     "iopub.status.idle": "2023-09-13T12:53:35.968128Z",
     "shell.execute_reply": "2023-09-13T12:53:35.966794Z"
    },
    "papermill": {
     "duration": 0.052373,
     "end_time": "2023-09-13T12:53:35.970696",
     "exception": false,
     "start_time": "2023-09-13T12:53:35.918323",
     "status": "completed"
    },
    "tags": []
   },
   "outputs": [],
   "source": [
    "df['Category'].replace({\"Netbook\":'Notebook'},inplace=True)"
   ]
  },
  {
   "cell_type": "code",
   "execution_count": 27,
   "id": "70b2ef8f",
   "metadata": {
    "execution": {
     "iopub.execute_input": "2023-09-13T12:53:36.055748Z",
     "iopub.status.busy": "2023-09-13T12:53:36.055258Z",
     "iopub.status.idle": "2023-09-13T12:53:36.063962Z",
     "shell.execute_reply": "2023-09-13T12:53:36.062577Z"
    },
    "papermill": {
     "duration": 0.053803,
     "end_time": "2023-09-13T12:53:36.066705",
     "exception": false,
     "start_time": "2023-09-13T12:53:36.012902",
     "status": "completed"
    },
    "tags": []
   },
   "outputs": [
    {
     "data": {
      "text/plain": [
       "array(['Ultrabook', 'Notebook', 'Gaming', '2 in 1 Convertible',\n",
       "       'Workstation'], dtype=object)"
      ]
     },
     "execution_count": 27,
     "metadata": {},
     "output_type": "execute_result"
    }
   ],
   "source": [
    "df['Category'].unique()"
   ]
  },
  {
   "cell_type": "code",
   "execution_count": 28,
   "id": "5f5bafe2",
   "metadata": {
    "execution": {
     "iopub.execute_input": "2023-09-13T12:53:36.154122Z",
     "iopub.status.busy": "2023-09-13T12:53:36.152856Z",
     "iopub.status.idle": "2023-09-13T12:53:36.159656Z",
     "shell.execute_reply": "2023-09-13T12:53:36.158859Z"
    },
    "papermill": {
     "duration": 0.054456,
     "end_time": "2023-09-13T12:53:36.162012",
     "exception": false,
     "start_time": "2023-09-13T12:53:36.107556",
     "status": "completed"
    },
    "tags": []
   },
   "outputs": [],
   "source": [
    "lr=LabelEncoder()\n",
    "\n",
    "df['Category']=lr.fit_transform(df['Category'])"
   ]
  },
  {
   "cell_type": "code",
   "execution_count": 29,
   "id": "b0c8dab9",
   "metadata": {
    "execution": {
     "iopub.execute_input": "2023-09-13T12:53:36.246152Z",
     "iopub.status.busy": "2023-09-13T12:53:36.245603Z",
     "iopub.status.idle": "2023-09-13T12:53:36.252331Z",
     "shell.execute_reply": "2023-09-13T12:53:36.250851Z"
    },
    "papermill": {
     "duration": 0.051531,
     "end_time": "2023-09-13T12:53:36.254542",
     "exception": false,
     "start_time": "2023-09-13T12:53:36.203011",
     "status": "completed"
    },
    "tags": []
   },
   "outputs": [
    {
     "name": "stdout",
     "output_type": "stream",
     "text": [
      "['2 in 1 Convertible' 'Gaming' 'Notebook' 'Ultrabook' 'Workstation']\n"
     ]
    }
   ],
   "source": [
    "print(lr.classes_)"
   ]
  },
  {
   "cell_type": "code",
   "execution_count": 30,
   "id": "8cc63314",
   "metadata": {
    "execution": {
     "iopub.execute_input": "2023-09-13T12:53:36.338102Z",
     "iopub.status.busy": "2023-09-13T12:53:36.336545Z",
     "iopub.status.idle": "2023-09-13T12:53:36.356191Z",
     "shell.execute_reply": "2023-09-13T12:53:36.354960Z"
    },
    "papermill": {
     "duration": 0.064411,
     "end_time": "2023-09-13T12:53:36.359216",
     "exception": false,
     "start_time": "2023-09-13T12:53:36.294805",
     "status": "completed"
    },
    "tags": []
   },
   "outputs": [
    {
     "data": {
      "text/html": [
       "<div>\n",
       "<style scoped>\n",
       "    .dataframe tbody tr th:only-of-type {\n",
       "        vertical-align: middle;\n",
       "    }\n",
       "\n",
       "    .dataframe tbody tr th {\n",
       "        vertical-align: top;\n",
       "    }\n",
       "\n",
       "    .dataframe thead th {\n",
       "        text-align: right;\n",
       "    }\n",
       "</style>\n",
       "<table border=\"1\" class=\"dataframe\">\n",
       "  <thead>\n",
       "    <tr style=\"text-align: right;\">\n",
       "      <th></th>\n",
       "      <th>Manufacturer</th>\n",
       "      <th>Category</th>\n",
       "      <th>Screen_Size</th>\n",
       "      <th>Screen</th>\n",
       "      <th>CPU</th>\n",
       "      <th>RAM</th>\n",
       "      <th>Storage</th>\n",
       "      <th>GPU</th>\n",
       "      <th>OS</th>\n",
       "      <th>OS_Version</th>\n",
       "      <th>Weight</th>\n",
       "      <th>Price</th>\n",
       "    </tr>\n",
       "  </thead>\n",
       "  <tbody>\n",
       "    <tr>\n",
       "      <th>0</th>\n",
       "      <td>1</td>\n",
       "      <td>3</td>\n",
       "      <td>13.3\"</td>\n",
       "      <td>IPS Panel Retina Display 2560x1600</td>\n",
       "      <td>Intel Core i5 2.3GHz</td>\n",
       "      <td>8GB</td>\n",
       "      <td>128GB SSD</td>\n",
       "      <td>Intel Iris Plus Graphics 640</td>\n",
       "      <td>macOS</td>\n",
       "      <td>10</td>\n",
       "      <td>1.37kg</td>\n",
       "      <td>11912523.48</td>\n",
       "    </tr>\n",
       "    <tr>\n",
       "      <th>1</th>\n",
       "      <td>1</td>\n",
       "      <td>3</td>\n",
       "      <td>13.3\"</td>\n",
       "      <td>1440x900</td>\n",
       "      <td>Intel Core i5 1.8GHz</td>\n",
       "      <td>8GB</td>\n",
       "      <td>128GB Flash Storage</td>\n",
       "      <td>Intel HD Graphics 6000</td>\n",
       "      <td>macOS</td>\n",
       "      <td>10</td>\n",
       "      <td>1.34kg</td>\n",
       "      <td>7993374.48</td>\n",
       "    </tr>\n",
       "    <tr>\n",
       "      <th>2</th>\n",
       "      <td>7</td>\n",
       "      <td>2</td>\n",
       "      <td>15.6\"</td>\n",
       "      <td>Full HD 1920x1080</td>\n",
       "      <td>Intel Core i5 7200U 2.5GHz</td>\n",
       "      <td>8GB</td>\n",
       "      <td>256GB SSD</td>\n",
       "      <td>Intel HD Graphics 620</td>\n",
       "      <td>No OS</td>\n",
       "      <td>10</td>\n",
       "      <td>1.86kg</td>\n",
       "      <td>5112900.00</td>\n",
       "    </tr>\n",
       "    <tr>\n",
       "      <th>3</th>\n",
       "      <td>1</td>\n",
       "      <td>3</td>\n",
       "      <td>15.4\"</td>\n",
       "      <td>IPS Panel Retina Display 2880x1800</td>\n",
       "      <td>Intel Core i7 2.7GHz</td>\n",
       "      <td>16GB</td>\n",
       "      <td>512GB SSD</td>\n",
       "      <td>AMD Radeon Pro 455</td>\n",
       "      <td>macOS</td>\n",
       "      <td>10</td>\n",
       "      <td>1.83kg</td>\n",
       "      <td>22563005.40</td>\n",
       "    </tr>\n",
       "    <tr>\n",
       "      <th>4</th>\n",
       "      <td>1</td>\n",
       "      <td>3</td>\n",
       "      <td>13.3\"</td>\n",
       "      <td>IPS Panel Retina Display 2560x1600</td>\n",
       "      <td>Intel Core i5 3.1GHz</td>\n",
       "      <td>8GB</td>\n",
       "      <td>256GB SSD</td>\n",
       "      <td>Intel Iris Plus Graphics 650</td>\n",
       "      <td>macOS</td>\n",
       "      <td>10</td>\n",
       "      <td>1.37kg</td>\n",
       "      <td>16037611.20</td>\n",
       "    </tr>\n",
       "  </tbody>\n",
       "</table>\n",
       "</div>"
      ],
      "text/plain": [
       "   Manufacturer  Category Screen_Size                              Screen  \\\n",
       "0             1         3       13.3\"  IPS Panel Retina Display 2560x1600   \n",
       "1             1         3       13.3\"                            1440x900   \n",
       "2             7         2       15.6\"                   Full HD 1920x1080   \n",
       "3             1         3       15.4\"  IPS Panel Retina Display 2880x1800   \n",
       "4             1         3       13.3\"  IPS Panel Retina Display 2560x1600   \n",
       "\n",
       "                          CPU   RAM              Storage  \\\n",
       "0        Intel Core i5 2.3GHz   8GB            128GB SSD   \n",
       "1        Intel Core i5 1.8GHz   8GB  128GB Flash Storage   \n",
       "2  Intel Core i5 7200U 2.5GHz   8GB            256GB SSD   \n",
       "3        Intel Core i7 2.7GHz  16GB            512GB SSD   \n",
       "4        Intel Core i5 3.1GHz   8GB            256GB SSD   \n",
       "\n",
       "                            GPU     OS OS_Version  Weight        Price  \n",
       "0  Intel Iris Plus Graphics 640  macOS         10  1.37kg  11912523.48  \n",
       "1        Intel HD Graphics 6000  macOS         10  1.34kg   7993374.48  \n",
       "2         Intel HD Graphics 620  No OS         10  1.86kg   5112900.00  \n",
       "3            AMD Radeon Pro 455  macOS         10  1.83kg  22563005.40  \n",
       "4  Intel Iris Plus Graphics 650  macOS         10  1.37kg  16037611.20  "
      ]
     },
     "execution_count": 30,
     "metadata": {},
     "output_type": "execute_result"
    }
   ],
   "source": [
    "df.head()"
   ]
  },
  {
   "cell_type": "markdown",
   "id": "18ca1302",
   "metadata": {
    "papermill": {
     "duration": 0.040762,
     "end_time": "2023-09-13T12:53:36.440775",
     "exception": false,
     "start_time": "2023-09-13T12:53:36.400013",
     "status": "completed"
    },
    "tags": []
   },
   "source": [
    "# Screen size"
   ]
  },
  {
   "cell_type": "code",
   "execution_count": 31,
   "id": "a90b3d6f",
   "metadata": {
    "execution": {
     "iopub.execute_input": "2023-09-13T12:53:36.525336Z",
     "iopub.status.busy": "2023-09-13T12:53:36.524858Z",
     "iopub.status.idle": "2023-09-13T12:53:36.531994Z",
     "shell.execute_reply": "2023-09-13T12:53:36.530718Z"
    },
    "papermill": {
     "duration": 0.052577,
     "end_time": "2023-09-13T12:53:36.534563",
     "exception": false,
     "start_time": "2023-09-13T12:53:36.481986",
     "status": "completed"
    },
    "tags": []
   },
   "outputs": [
    {
     "data": {
      "text/plain": [
       "array(['13.3\"', '15.6\"', '15.4\"', '14.0\"', '12.0\"', '11.6\"', '17.3\"',\n",
       "       '10.1\"', '13.5\"', '12.5\"', '13.0\"', '18.4\"', '13.9\"', '12.3\"',\n",
       "       '17.0\"', '15.0\"', '14.1\"', '11.3\"'], dtype=object)"
      ]
     },
     "execution_count": 31,
     "metadata": {},
     "output_type": "execute_result"
    }
   ],
   "source": [
    "df['Screen_Size'].unique()"
   ]
  },
  {
   "cell_type": "code",
   "execution_count": 32,
   "id": "8c91eb85",
   "metadata": {
    "execution": {
     "iopub.execute_input": "2023-09-13T12:53:36.620440Z",
     "iopub.status.busy": "2023-09-13T12:53:36.618962Z",
     "iopub.status.idle": "2023-09-13T12:53:36.628163Z",
     "shell.execute_reply": "2023-09-13T12:53:36.626916Z"
    },
    "papermill": {
     "duration": 0.05457,
     "end_time": "2023-09-13T12:53:36.630823",
     "exception": false,
     "start_time": "2023-09-13T12:53:36.576253",
     "status": "completed"
    },
    "tags": []
   },
   "outputs": [
    {
     "data": {
      "text/plain": [
       "18"
      ]
     },
     "execution_count": 32,
     "metadata": {},
     "output_type": "execute_result"
    }
   ],
   "source": [
    "df['Screen_Size'].nunique()"
   ]
  },
  {
   "cell_type": "code",
   "execution_count": 33,
   "id": "f0ae9d9a",
   "metadata": {
    "execution": {
     "iopub.execute_input": "2023-09-13T12:53:36.717738Z",
     "iopub.status.busy": "2023-09-13T12:53:36.717297Z",
     "iopub.status.idle": "2023-09-13T12:53:36.726309Z",
     "shell.execute_reply": "2023-09-13T12:53:36.724749Z"
    },
    "papermill": {
     "duration": 0.05544,
     "end_time": "2023-09-13T12:53:36.729119",
     "exception": false,
     "start_time": "2023-09-13T12:53:36.673679",
     "status": "completed"
    },
    "tags": []
   },
   "outputs": [],
   "source": [
    "df['Screen_Size']=df['Screen_Size'].str.replace('\"','').astype('float')"
   ]
  },
  {
   "cell_type": "code",
   "execution_count": 34,
   "id": "95c236a4",
   "metadata": {
    "execution": {
     "iopub.execute_input": "2023-09-13T12:53:36.815012Z",
     "iopub.status.busy": "2023-09-13T12:53:36.814560Z",
     "iopub.status.idle": "2023-09-13T12:53:36.830610Z",
     "shell.execute_reply": "2023-09-13T12:53:36.828828Z"
    },
    "papermill": {
     "duration": 0.061554,
     "end_time": "2023-09-13T12:53:36.833133",
     "exception": false,
     "start_time": "2023-09-13T12:53:36.771579",
     "status": "completed"
    },
    "tags": []
   },
   "outputs": [
    {
     "name": "stdout",
     "output_type": "stream",
     "text": [
      "<class 'pandas.core.frame.DataFrame'>\n",
      "Index: 1302 entries, 0 to 324\n",
      "Data columns (total 12 columns):\n",
      " #   Column        Non-Null Count  Dtype  \n",
      "---  ------        --------------  -----  \n",
      " 0   Manufacturer  1302 non-null   int64  \n",
      " 1   Category      1302 non-null   int64  \n",
      " 2   Screen_Size   1302 non-null   float64\n",
      " 3   Screen        1302 non-null   object \n",
      " 4   CPU           1302 non-null   object \n",
      " 5   RAM           1302 non-null   object \n",
      " 6   Storage       1302 non-null   object \n",
      " 7   GPU           1302 non-null   object \n",
      " 8   OS            1302 non-null   object \n",
      " 9   OS_Version    1302 non-null   object \n",
      " 10  Weight        1302 non-null   object \n",
      " 11  Price         1302 non-null   float64\n",
      "dtypes: float64(2), int64(2), object(8)\n",
      "memory usage: 132.2+ KB\n"
     ]
    }
   ],
   "source": [
    "df.info()"
   ]
  },
  {
   "cell_type": "markdown",
   "id": "bf2a48ad",
   "metadata": {
    "papermill": {
     "duration": 0.041488,
     "end_time": "2023-09-13T12:53:36.916513",
     "exception": false,
     "start_time": "2023-09-13T12:53:36.875025",
     "status": "completed"
    },
    "tags": []
   },
   "source": [
    "# Screen"
   ]
  },
  {
   "cell_type": "code",
   "execution_count": 35,
   "id": "0887317e",
   "metadata": {
    "execution": {
     "iopub.execute_input": "2023-09-13T12:53:37.000332Z",
     "iopub.status.busy": "2023-09-13T12:53:36.999863Z",
     "iopub.status.idle": "2023-09-13T12:53:37.010561Z",
     "shell.execute_reply": "2023-09-13T12:53:37.008837Z"
    },
    "papermill": {
     "duration": 0.055911,
     "end_time": "2023-09-13T12:53:37.013413",
     "exception": false,
     "start_time": "2023-09-13T12:53:36.957502",
     "status": "completed"
    },
    "tags": []
   },
   "outputs": [
    {
     "data": {
      "text/plain": [
       "array(['IPS Panel Retina Display 2560x1600', '1440x900',\n",
       "       'Full HD 1920x1080', 'IPS Panel Retina Display 2880x1800',\n",
       "       '1366x768', 'IPS Panel Full HD 1920x1080',\n",
       "       'IPS Panel Retina Display 2304x1440',\n",
       "       'IPS Panel Full HD / Touchscreen 1920x1080',\n",
       "       'Full HD / Touchscreen 1920x1080',\n",
       "       'Touchscreen / Quad HD+ 3200x1800',\n",
       "       'IPS Panel Touchscreen 1920x1200', 'Touchscreen 2256x1504',\n",
       "       'Quad HD+ / Touchscreen 3200x1800', 'IPS Panel 1366x768',\n",
       "       'IPS Panel 4K Ultra HD / Touchscreen 3840x2160',\n",
       "       'IPS Panel Full HD 2160x1440',\n",
       "       '4K Ultra HD / Touchscreen 3840x2160', 'Touchscreen 2560x1440',\n",
       "       '1600x900', 'IPS Panel 4K Ultra HD 3840x2160',\n",
       "       '4K Ultra HD 3840x2160', 'Touchscreen 1366x768',\n",
       "       'IPS Panel Full HD 1366x768', 'IPS Panel 2560x1440',\n",
       "       'IPS Panel Full HD 2560x1440',\n",
       "       'IPS Panel Retina Display 2736x1824', 'Touchscreen 2400x1600',\n",
       "       '2560x1440', 'IPS Panel Quad HD+ 2560x1440',\n",
       "       'IPS Panel Quad HD+ 3200x1800',\n",
       "       'IPS Panel Quad HD+ / Touchscreen 3200x1800',\n",
       "       'IPS Panel Touchscreen 1366x768', '1920x1080',\n",
       "       'IPS Panel Full HD 1920x1200',\n",
       "       'IPS Panel Touchscreen / 4K Ultra HD 3840x2160',\n",
       "       'IPS Panel Touchscreen 2560x1440',\n",
       "       'Touchscreen / Full HD 1920x1080', 'Quad HD+ 3200x1800',\n",
       "       'Touchscreen / 4K Ultra HD 3840x2160',\n",
       "       'IPS Panel Touchscreen 2400x1600'], dtype=object)"
      ]
     },
     "execution_count": 35,
     "metadata": {},
     "output_type": "execute_result"
    }
   ],
   "source": [
    "df.Screen.unique()"
   ]
  },
  {
   "cell_type": "code",
   "execution_count": 36,
   "id": "1a9fe7f0",
   "metadata": {
    "execution": {
     "iopub.execute_input": "2023-09-13T12:53:37.098239Z",
     "iopub.status.busy": "2023-09-13T12:53:37.097779Z",
     "iopub.status.idle": "2023-09-13T12:53:37.106525Z",
     "shell.execute_reply": "2023-09-13T12:53:37.105447Z"
    },
    "papermill": {
     "duration": 0.053695,
     "end_time": "2023-09-13T12:53:37.108742",
     "exception": false,
     "start_time": "2023-09-13T12:53:37.055047",
     "status": "completed"
    },
    "tags": []
   },
   "outputs": [],
   "source": [
    "df['Touchscreen']=df['Screen'].str.contains('Touchscreen',case=False).astype('int')"
   ]
  },
  {
   "cell_type": "code",
   "execution_count": 37,
   "id": "c28748c5",
   "metadata": {
    "execution": {
     "iopub.execute_input": "2023-09-13T12:53:37.198752Z",
     "iopub.status.busy": "2023-09-13T12:53:37.198374Z",
     "iopub.status.idle": "2023-09-13T12:53:37.212093Z",
     "shell.execute_reply": "2023-09-13T12:53:37.211239Z"
    },
    "papermill": {
     "duration": 0.061123,
     "end_time": "2023-09-13T12:53:37.214844",
     "exception": false,
     "start_time": "2023-09-13T12:53:37.153721",
     "status": "completed"
    },
    "tags": []
   },
   "outputs": [
    {
     "name": "stdout",
     "output_type": "stream",
     "text": [
      "<class 'pandas.core.frame.DataFrame'>\n",
      "Index: 1302 entries, 0 to 324\n",
      "Data columns (total 13 columns):\n",
      " #   Column        Non-Null Count  Dtype  \n",
      "---  ------        --------------  -----  \n",
      " 0   Manufacturer  1302 non-null   int64  \n",
      " 1   Category      1302 non-null   int64  \n",
      " 2   Screen_Size   1302 non-null   float64\n",
      " 3   Screen        1302 non-null   object \n",
      " 4   CPU           1302 non-null   object \n",
      " 5   RAM           1302 non-null   object \n",
      " 6   Storage       1302 non-null   object \n",
      " 7   GPU           1302 non-null   object \n",
      " 8   OS            1302 non-null   object \n",
      " 9   OS_Version    1302 non-null   object \n",
      " 10  Weight        1302 non-null   object \n",
      " 11  Price         1302 non-null   float64\n",
      " 12  Touchscreen   1302 non-null   int64  \n",
      "dtypes: float64(2), int64(3), object(8)\n",
      "memory usage: 142.4+ KB\n"
     ]
    }
   ],
   "source": [
    "df.info()"
   ]
  },
  {
   "cell_type": "code",
   "execution_count": 38,
   "id": "3f3937c0",
   "metadata": {
    "execution": {
     "iopub.execute_input": "2023-09-13T12:53:37.303375Z",
     "iopub.status.busy": "2023-09-13T12:53:37.302914Z",
     "iopub.status.idle": "2023-09-13T12:53:37.310830Z",
     "shell.execute_reply": "2023-09-13T12:53:37.310009Z"
    },
    "papermill": {
     "duration": 0.054196,
     "end_time": "2023-09-13T12:53:37.312859",
     "exception": false,
     "start_time": "2023-09-13T12:53:37.258663",
     "status": "completed"
    },
    "tags": []
   },
   "outputs": [
    {
     "data": {
      "text/plain": [
       "Touchscreen\n",
       "0    1111\n",
       "1     191\n",
       "Name: count, dtype: int64"
      ]
     },
     "execution_count": 38,
     "metadata": {},
     "output_type": "execute_result"
    }
   ],
   "source": [
    "df['Touchscreen'].value_counts()"
   ]
  },
  {
   "cell_type": "code",
   "execution_count": 39,
   "id": "734ffa45",
   "metadata": {
    "execution": {
     "iopub.execute_input": "2023-09-13T12:53:37.400629Z",
     "iopub.status.busy": "2023-09-13T12:53:37.400193Z",
     "iopub.status.idle": "2023-09-13T12:53:37.543645Z",
     "shell.execute_reply": "2023-09-13T12:53:37.542235Z"
    },
    "papermill": {
     "duration": 0.194341,
     "end_time": "2023-09-13T12:53:37.549472",
     "exception": false,
     "start_time": "2023-09-13T12:53:37.355131",
     "status": "completed"
    },
    "tags": []
   },
   "outputs": [
    {
     "data": {
      "text/plain": [
       "([<matplotlib.patches.Wedge at 0x7b1500e45d80>,\n",
       "  <matplotlib.patches.Wedge at 0x7b1500e45e10>],\n",
       " [Text(-0.9852357053278478, 0.48919383167323216, 'Yes'),\n",
       "  Text(0.9852356824270305, -0.48919387779544377, 'No')],\n",
       " [Text(-0.5374012938151896, 0.2668329990944902, '85.3%'),\n",
       "  Text(0.5374012813238348, -0.2668330242520602, '14.7%')])"
      ]
     },
     "execution_count": 39,
     "metadata": {},
     "output_type": "execute_result"
    },
    {
     "data": {
      "image/png": "[encoded data removed]",
      "text/plain": [
       "<Figure size 640x480 with 1 Axes>"
      ]
     },
     "metadata": {},
     "output_type": "display_data"
    }
   ],
   "source": [
    "plt.title('Touchscreen')\n",
    "plt.pie(df['Touchscreen'].value_counts(),labels=['Yes','No'],autopct='%.1f%%',colors=['Green','Orange'])"
   ]
  },
  {
   "cell_type": "code",
   "execution_count": 40,
   "id": "9c1c3d6e",
   "metadata": {
    "execution": {
     "iopub.execute_input": "2023-09-13T12:53:37.681597Z",
     "iopub.status.busy": "2023-09-13T12:53:37.681113Z",
     "iopub.status.idle": "2023-09-13T12:53:37.691137Z",
     "shell.execute_reply": "2023-09-13T12:53:37.689758Z"
    },
    "papermill": {
     "duration": 0.056537,
     "end_time": "2023-09-13T12:53:37.693581",
     "exception": false,
     "start_time": "2023-09-13T12:53:37.637044",
     "status": "completed"
    },
    "tags": []
   },
   "outputs": [],
   "source": [
    "#IPS\n",
    "df['IPS_Panel']= df['Screen'].str.contains('IPS',case=False).astype('int')"
   ]
  },
  {
   "cell_type": "code",
   "execution_count": 41,
   "id": "d98d7012",
   "metadata": {
    "execution": {
     "iopub.execute_input": "2023-09-13T12:53:37.780246Z",
     "iopub.status.busy": "2023-09-13T12:53:37.779782Z",
     "iopub.status.idle": "2023-09-13T12:53:37.789915Z",
     "shell.execute_reply": "2023-09-13T12:53:37.788565Z"
    },
    "papermill": {
     "duration": 0.056536,
     "end_time": "2023-09-13T12:53:37.792451",
     "exception": false,
     "start_time": "2023-09-13T12:53:37.735915",
     "status": "completed"
    },
    "tags": []
   },
   "outputs": [
    {
     "data": {
      "text/plain": [
       "IPS_Panel\n",
       "0    937\n",
       "1    365\n",
       "Name: count, dtype: int64"
      ]
     },
     "execution_count": 41,
     "metadata": {},
     "output_type": "execute_result"
    }
   ],
   "source": [
    "df['IPS_Panel'].value_counts()"
   ]
  },
  {
   "cell_type": "code",
   "execution_count": 42,
   "id": "a14ff197",
   "metadata": {
    "execution": {
     "iopub.execute_input": "2023-09-13T12:53:37.879119Z",
     "iopub.status.busy": "2023-09-13T12:53:37.878629Z",
     "iopub.status.idle": "2023-09-13T12:53:37.895086Z",
     "shell.execute_reply": "2023-09-13T12:53:37.893948Z"
    },
    "papermill": {
     "duration": 0.063078,
     "end_time": "2023-09-13T12:53:37.897692",
     "exception": false,
     "start_time": "2023-09-13T12:53:37.834614",
     "status": "completed"
    },
    "tags": []
   },
   "outputs": [
    {
     "name": "stdout",
     "output_type": "stream",
     "text": [
      "<class 'pandas.core.frame.DataFrame'>\n",
      "Index: 1302 entries, 0 to 324\n",
      "Data columns (total 14 columns):\n",
      " #   Column        Non-Null Count  Dtype  \n",
      "---  ------        --------------  -----  \n",
      " 0   Manufacturer  1302 non-null   int64  \n",
      " 1   Category      1302 non-null   int64  \n",
      " 2   Screen_Size   1302 non-null   float64\n",
      " 3   Screen        1302 non-null   object \n",
      " 4   CPU           1302 non-null   object \n",
      " 5   RAM           1302 non-null   object \n",
      " 6   Storage       1302 non-null   object \n",
      " 7   GPU           1302 non-null   object \n",
      " 8   OS            1302 non-null   object \n",
      " 9   OS_Version    1302 non-null   object \n",
      " 10  Weight        1302 non-null   object \n",
      " 11  Price         1302 non-null   float64\n",
      " 12  Touchscreen   1302 non-null   int64  \n",
      " 13  IPS_Panel     1302 non-null   int64  \n",
      "dtypes: float64(2), int64(4), object(8)\n",
      "memory usage: 152.6+ KB\n"
     ]
    }
   ],
   "source": [
    "df.info()"
   ]
  },
  {
   "cell_type": "code",
   "execution_count": 43,
   "id": "22b942fc",
   "metadata": {
    "execution": {
     "iopub.execute_input": "2023-09-13T12:53:37.987368Z",
     "iopub.status.busy": "2023-09-13T12:53:37.986930Z",
     "iopub.status.idle": "2023-09-13T12:53:38.144277Z",
     "shell.execute_reply": "2023-09-13T12:53:38.142168Z"
    },
    "papermill": {
     "duration": 0.206185,
     "end_time": "2023-09-13T12:53:38.147613",
     "exception": false,
     "start_time": "2023-09-13T12:53:37.941428",
     "status": "completed"
    },
    "tags": []
   },
   "outputs": [
    {
     "data": {
      "text/plain": [
       "([<matplotlib.patches.Wedge at 0x7b1500c68f70>,\n",
       "  <matplotlib.patches.Wedge at 0x7b1500c42e90>],\n",
       " [Text(-0.7002661873943783, 0.8483084738419991, 'Yes'),\n",
       "  Text(0.7002661873943782, -0.8483084738419993, 'No')],\n",
       " [Text(-0.38196337494238813, 0.46271371300472675, '72.0%'),\n",
       "  Text(0.381963374942388, -0.4627137130047268, '28.0%')])"
      ]
     },
     "execution_count": 43,
     "metadata": {},
     "output_type": "execute_result"
    },
    {
     "data": {
      "image/png": "[encoded data removed]",
      "text/plain": [
       "<Figure size 640x480 with 1 Axes>"
      ]
     },
     "metadata": {},
     "output_type": "display_data"
    }
   ],
   "source": [
    "plt.title('IPS_Panel')\n",
    "plt.pie(df['IPS_Panel'].value_counts(),labels=['Yes','No'],autopct='%.1f%%',colors=['Green','Orange'])"
   ]
  },
  {
   "cell_type": "code",
   "execution_count": 44,
   "id": "e781c5d2",
   "metadata": {
    "execution": {
     "iopub.execute_input": "2023-09-13T12:53:38.264747Z",
     "iopub.status.busy": "2023-09-13T12:53:38.263821Z",
     "iopub.status.idle": "2023-09-13T12:53:38.272153Z",
     "shell.execute_reply": "2023-09-13T12:53:38.271276Z"
    },
    "papermill": {
     "duration": 0.056587,
     "end_time": "2023-09-13T12:53:38.274415",
     "exception": false,
     "start_time": "2023-09-13T12:53:38.217828",
     "status": "completed"
    },
    "tags": []
   },
   "outputs": [],
   "source": [
    "#Retina\n",
    "df['Retina_display']= df['Screen'].str.contains('Retina',case=False).astype('int')"
   ]
  },
  {
   "cell_type": "code",
   "execution_count": 45,
   "id": "b5f6bad9",
   "metadata": {
    "execution": {
     "iopub.execute_input": "2023-09-13T12:53:38.366494Z",
     "iopub.status.busy": "2023-09-13T12:53:38.365098Z",
     "iopub.status.idle": "2023-09-13T12:53:38.375233Z",
     "shell.execute_reply": "2023-09-13T12:53:38.373943Z"
    },
    "papermill": {
     "duration": 0.058686,
     "end_time": "2023-09-13T12:53:38.377560",
     "exception": false,
     "start_time": "2023-09-13T12:53:38.318874",
     "status": "completed"
    },
    "tags": []
   },
   "outputs": [
    {
     "data": {
      "text/plain": [
       "Retina_display\n",
       "0    1285\n",
       "1      17\n",
       "Name: count, dtype: int64"
      ]
     },
     "execution_count": 45,
     "metadata": {},
     "output_type": "execute_result"
    }
   ],
   "source": [
    "df['Retina_display'].value_counts()"
   ]
  },
  {
   "cell_type": "code",
   "execution_count": 46,
   "id": "a03a3859",
   "metadata": {
    "execution": {
     "iopub.execute_input": "2023-09-13T12:53:38.470503Z",
     "iopub.status.busy": "2023-09-13T12:53:38.468954Z",
     "iopub.status.idle": "2023-09-13T12:53:38.486106Z",
     "shell.execute_reply": "2023-09-13T12:53:38.484551Z"
    },
    "papermill": {
     "duration": 0.065607,
     "end_time": "2023-09-13T12:53:38.488616",
     "exception": false,
     "start_time": "2023-09-13T12:53:38.423009",
     "status": "completed"
    },
    "tags": []
   },
   "outputs": [
    {
     "name": "stdout",
     "output_type": "stream",
     "text": [
      "<class 'pandas.core.frame.DataFrame'>\n",
      "Index: 1302 entries, 0 to 324\n",
      "Data columns (total 15 columns):\n",
      " #   Column          Non-Null Count  Dtype  \n",
      "---  ------          --------------  -----  \n",
      " 0   Manufacturer    1302 non-null   int64  \n",
      " 1   Category        1302 non-null   int64  \n",
      " 2   Screen_Size     1302 non-null   float64\n",
      " 3   Screen          1302 non-null   object \n",
      " 4   CPU             1302 non-null   object \n",
      " 5   RAM             1302 non-null   object \n",
      " 6   Storage         1302 non-null   object \n",
      " 7   GPU             1302 non-null   object \n",
      " 8   OS              1302 non-null   object \n",
      " 9   OS_Version      1302 non-null   object \n",
      " 10  Weight          1302 non-null   object \n",
      " 11  Price           1302 non-null   float64\n",
      " 12  Touchscreen     1302 non-null   int64  \n",
      " 13  IPS_Panel       1302 non-null   int64  \n",
      " 14  Retina_display  1302 non-null   int64  \n",
      "dtypes: float64(2), int64(5), object(8)\n",
      "memory usage: 162.8+ KB\n"
     ]
    }
   ],
   "source": [
    "df.info()"
   ]
  },
  {
   "cell_type": "code",
   "execution_count": 47,
   "id": "ee211599",
   "metadata": {
    "execution": {
     "iopub.execute_input": "2023-09-13T12:53:38.580025Z",
     "iopub.status.busy": "2023-09-13T12:53:38.579016Z",
     "iopub.status.idle": "2023-09-13T12:53:38.730177Z",
     "shell.execute_reply": "2023-09-13T12:53:38.728714Z"
    },
    "papermill": {
     "duration": 0.202671,
     "end_time": "2023-09-13T12:53:38.735867",
     "exception": false,
     "start_time": "2023-09-13T12:53:38.533196",
     "status": "completed"
    },
    "tags": []
   },
   "outputs": [
    {
     "data": {
      "text/plain": [
       "([<matplotlib.patches.Wedge at 0x7b1500c9fe80>,\n",
       "  <matplotlib.patches.Wedge at 0x7b1500c9d960>],\n",
       " [Text(-1.0990747139403685, 0.04510846014770897, 'Yes'),\n",
       "  Text(1.0990747169759052, -0.04510838618632075, 'No')],\n",
       " [Text(-0.5994952985129282, 0.024604614626023074, '98.7%'),\n",
       "  Text(0.5994953001686755, -0.024604574283447683, '1.3%')])"
      ]
     },
     "execution_count": 47,
     "metadata": {},
     "output_type": "execute_result"
    },
    {
     "data": {
      "image/png": "[encoded data removed]",
      "text/plain": [
       "<Figure size 640x480 with 1 Axes>"
      ]
     },
     "metadata": {},
     "output_type": "display_data"
    }
   ],
   "source": [
    "plt.title('Retina_display')\n",
    "plt.pie(df['Retina_display'].value_counts(),labels=['Yes','No'],autopct='%.1f%%',colors=['Green','Orange'])"
   ]
  },
  {
   "cell_type": "code",
   "execution_count": 48,
   "id": "c17a6603",
   "metadata": {
    "execution": {
     "iopub.execute_input": "2023-09-13T12:53:38.860471Z",
     "iopub.status.busy": "2023-09-13T12:53:38.860011Z",
     "iopub.status.idle": "2023-09-13T12:53:38.868317Z",
     "shell.execute_reply": "2023-09-13T12:53:38.867464Z"
    },
    "papermill": {
     "duration": 0.05671,
     "end_time": "2023-09-13T12:53:38.870406",
     "exception": false,
     "start_time": "2023-09-13T12:53:38.813696",
     "status": "completed"
    },
    "tags": []
   },
   "outputs": [],
   "source": [
    "#Full_HD_display\n",
    "\n",
    "df['Full_HD_display']= df['Screen'].str.contains('Full_HD',case=False).astype('int')"
   ]
  },
  {
   "cell_type": "code",
   "execution_count": 49,
   "id": "cc798543",
   "metadata": {
    "execution": {
     "iopub.execute_input": "2023-09-13T12:53:38.963243Z",
     "iopub.status.busy": "2023-09-13T12:53:38.962536Z",
     "iopub.status.idle": "2023-09-13T12:53:38.970658Z",
     "shell.execute_reply": "2023-09-13T12:53:38.969460Z"
    },
    "papermill": {
     "duration": 0.057163,
     "end_time": "2023-09-13T12:53:38.972855",
     "exception": false,
     "start_time": "2023-09-13T12:53:38.915692",
     "status": "completed"
    },
    "tags": []
   },
   "outputs": [
    {
     "data": {
      "text/plain": [
       "Full_HD_display\n",
       "0    1302\n",
       "Name: count, dtype: int64"
      ]
     },
     "execution_count": 49,
     "metadata": {},
     "output_type": "execute_result"
    }
   ],
   "source": [
    "df['Full_HD_display'].value_counts()"
   ]
  },
  {
   "cell_type": "code",
   "execution_count": 50,
   "id": "11440533",
   "metadata": {
    "execution": {
     "iopub.execute_input": "2023-09-13T12:53:39.066443Z",
     "iopub.status.busy": "2023-09-13T12:53:39.065723Z",
     "iopub.status.idle": "2023-09-13T12:53:39.081697Z",
     "shell.execute_reply": "2023-09-13T12:53:39.080252Z"
    },
    "papermill": {
     "duration": 0.065413,
     "end_time": "2023-09-13T12:53:39.084351",
     "exception": false,
     "start_time": "2023-09-13T12:53:39.018938",
     "status": "completed"
    },
    "tags": []
   },
   "outputs": [
    {
     "name": "stdout",
     "output_type": "stream",
     "text": [
      "<class 'pandas.core.frame.DataFrame'>\n",
      "Index: 1302 entries, 0 to 324\n",
      "Data columns (total 16 columns):\n",
      " #   Column           Non-Null Count  Dtype  \n",
      "---  ------           --------------  -----  \n",
      " 0   Manufacturer     1302 non-null   int64  \n",
      " 1   Category         1302 non-null   int64  \n",
      " 2   Screen_Size      1302 non-null   float64\n",
      " 3   Screen           1302 non-null   object \n",
      " 4   CPU              1302 non-null   object \n",
      " 5   RAM              1302 non-null   object \n",
      " 6   Storage          1302 non-null   object \n",
      " 7   GPU              1302 non-null   object \n",
      " 8   OS               1302 non-null   object \n",
      " 9   OS_Version       1302 non-null   object \n",
      " 10  Weight           1302 non-null   object \n",
      " 11  Price            1302 non-null   float64\n",
      " 12  Touchscreen      1302 non-null   int64  \n",
      " 13  IPS_Panel        1302 non-null   int64  \n",
      " 14  Retina_display   1302 non-null   int64  \n",
      " 15  Full_HD_display  1302 non-null   int64  \n",
      "dtypes: float64(2), int64(6), object(8)\n",
      "memory usage: 172.9+ KB\n"
     ]
    }
   ],
   "source": [
    "df.info()"
   ]
  },
  {
   "cell_type": "code",
   "execution_count": 51,
   "id": "02b522ae",
   "metadata": {
    "execution": {
     "iopub.execute_input": "2023-09-13T12:53:39.181613Z",
     "iopub.status.busy": "2023-09-13T12:53:39.181151Z",
     "iopub.status.idle": "2023-09-13T12:53:39.312612Z",
     "shell.execute_reply": "2023-09-13T12:53:39.311012Z"
    },
    "papermill": {
     "duration": 0.185844,
     "end_time": "2023-09-13T12:53:39.316627",
     "exception": false,
     "start_time": "2023-09-13T12:53:39.130783",
     "status": "completed"
    },
    "tags": []
   },
   "outputs": [
    {
     "data": {
      "image/png": "[encoded data removed]",
      "text/plain": [
       "<Figure size 640x480 with 1 Axes>"
      ]
     },
     "metadata": {},
     "output_type": "display_data"
    }
   ],
   "source": [
    "plt.title('Full_HD_display')\n",
    "plt.pie(df['Full_HD_display'].value_counts(),labels=['Yes'],autopct='%.1f%%',colors=['Green','Orange'])\n",
    "plt.show()"
   ]
  },
  {
   "cell_type": "code",
   "execution_count": 52,
   "id": "6fbf532f",
   "metadata": {
    "execution": {
     "iopub.execute_input": "2023-09-13T12:53:39.445135Z",
     "iopub.status.busy": "2023-09-13T12:53:39.444287Z",
     "iopub.status.idle": "2023-09-13T12:53:39.452634Z",
     "shell.execute_reply": "2023-09-13T12:53:39.451766Z"
    },
    "papermill": {
     "duration": 0.058086,
     "end_time": "2023-09-13T12:53:39.454778",
     "exception": false,
     "start_time": "2023-09-13T12:53:39.396692",
     "status": "completed"
    },
    "tags": []
   },
   "outputs": [],
   "source": [
    "#Quad_HD_display\n",
    "\n",
    "df['Quad_HD_display']= df['Screen'].str.contains('Quad_HD',case=False).astype('int')"
   ]
  },
  {
   "cell_type": "code",
   "execution_count": 53,
   "id": "8a0d39ec",
   "metadata": {
    "execution": {
     "iopub.execute_input": "2023-09-13T12:53:39.550130Z",
     "iopub.status.busy": "2023-09-13T12:53:39.549038Z",
     "iopub.status.idle": "2023-09-13T12:53:39.558761Z",
     "shell.execute_reply": "2023-09-13T12:53:39.557630Z"
    },
    "papermill": {
     "duration": 0.059593,
     "end_time": "2023-09-13T12:53:39.561080",
     "exception": false,
     "start_time": "2023-09-13T12:53:39.501487",
     "status": "completed"
    },
    "tags": []
   },
   "outputs": [
    {
     "data": {
      "text/plain": [
       "Quad_HD_display\n",
       "0    1302\n",
       "Name: count, dtype: int64"
      ]
     },
     "execution_count": 53,
     "metadata": {},
     "output_type": "execute_result"
    }
   ],
   "source": [
    "df['Quad_HD_display'].value_counts()"
   ]
  },
  {
   "cell_type": "code",
   "execution_count": 54,
   "id": "7973a70f",
   "metadata": {
    "execution": {
     "iopub.execute_input": "2023-09-13T12:53:39.659224Z",
     "iopub.status.busy": "2023-09-13T12:53:39.658013Z",
     "iopub.status.idle": "2023-09-13T12:53:39.672709Z",
     "shell.execute_reply": "2023-09-13T12:53:39.671598Z"
    },
    "papermill": {
     "duration": 0.068291,
     "end_time": "2023-09-13T12:53:39.675464",
     "exception": false,
     "start_time": "2023-09-13T12:53:39.607173",
     "status": "completed"
    },
    "tags": []
   },
   "outputs": [
    {
     "name": "stdout",
     "output_type": "stream",
     "text": [
      "<class 'pandas.core.frame.DataFrame'>\n",
      "Index: 1302 entries, 0 to 324\n",
      "Data columns (total 17 columns):\n",
      " #   Column           Non-Null Count  Dtype  \n",
      "---  ------           --------------  -----  \n",
      " 0   Manufacturer     1302 non-null   int64  \n",
      " 1   Category         1302 non-null   int64  \n",
      " 2   Screen_Size      1302 non-null   float64\n",
      " 3   Screen           1302 non-null   object \n",
      " 4   CPU              1302 non-null   object \n",
      " 5   RAM              1302 non-null   object \n",
      " 6   Storage          1302 non-null   object \n",
      " 7   GPU              1302 non-null   object \n",
      " 8   OS               1302 non-null   object \n",
      " 9   OS_Version       1302 non-null   object \n",
      " 10  Weight           1302 non-null   object \n",
      " 11  Price            1302 non-null   float64\n",
      " 12  Touchscreen      1302 non-null   int64  \n",
      " 13  IPS_Panel        1302 non-null   int64  \n",
      " 14  Retina_display   1302 non-null   int64  \n",
      " 15  Full_HD_display  1302 non-null   int64  \n",
      " 16  Quad_HD_display  1302 non-null   int64  \n",
      "dtypes: float64(2), int64(7), object(8)\n",
      "memory usage: 183.1+ KB\n"
     ]
    }
   ],
   "source": [
    "df.info()"
   ]
  },
  {
   "cell_type": "code",
   "execution_count": 55,
   "id": "23ab54a1",
   "metadata": {
    "execution": {
     "iopub.execute_input": "2023-09-13T12:53:39.769353Z",
     "iopub.status.busy": "2023-09-13T12:53:39.768620Z",
     "iopub.status.idle": "2023-09-13T12:53:39.898287Z",
     "shell.execute_reply": "2023-09-13T12:53:39.896678Z"
    },
    "papermill": {
     "duration": 0.181372,
     "end_time": "2023-09-13T12:53:39.902521",
     "exception": false,
     "start_time": "2023-09-13T12:53:39.721149",
     "status": "completed"
    },
    "tags": []
   },
   "outputs": [
    {
     "data": {
      "image/png": "[encoded data removed]",
      "text/plain": [
       "<Figure size 640x480 with 1 Axes>"
      ]
     },
     "metadata": {},
     "output_type": "display_data"
    }
   ],
   "source": [
    "plt.title('Quad_HD_display')\n",
    "plt.pie(df['Quad_HD_display'].value_counts(),labels=['Yes'],autopct='%.1f%%',colors=['Green','Orange'])\n",
    "plt.show()"
   ]
  },
  {
   "cell_type": "code",
   "execution_count": 56,
   "id": "6123dfd2",
   "metadata": {
    "execution": {
     "iopub.execute_input": "2023-09-13T12:53:40.032147Z",
     "iopub.status.busy": "2023-09-13T12:53:40.031450Z",
     "iopub.status.idle": "2023-09-13T12:53:40.050475Z",
     "shell.execute_reply": "2023-09-13T12:53:40.049236Z"
    },
    "papermill": {
     "duration": 0.072242,
     "end_time": "2023-09-13T12:53:40.053432",
     "exception": false,
     "start_time": "2023-09-13T12:53:39.981190",
     "status": "completed"
    },
    "tags": []
   },
   "outputs": [],
   "source": [
    "df['xres'] = df['Screen'].str.extract(r'(\\d+)x\\d+').astype('int')\n",
    "df['yres'] = df['Screen'].str.extract(r'\\d+x(\\d+)').astype('int')\n",
    "df.drop('Screen',axis=1,inplace=True)"
   ]
  },
  {
   "cell_type": "code",
   "execution_count": 57,
   "id": "831af700",
   "metadata": {
    "execution": {
     "iopub.execute_input": "2023-09-13T12:53:40.146259Z",
     "iopub.status.busy": "2023-09-13T12:53:40.145390Z",
     "iopub.status.idle": "2023-09-13T12:53:40.155902Z",
     "shell.execute_reply": "2023-09-13T12:53:40.154722Z"
    },
    "papermill": {
     "duration": 0.060398,
     "end_time": "2023-09-13T12:53:40.158728",
     "exception": false,
     "start_time": "2023-09-13T12:53:40.098330",
     "status": "completed"
    },
    "tags": []
   },
   "outputs": [],
   "source": [
    "df['PPI']=(((df['xres']**2+df['yres']**2)**0.5)/df['Screen_Size'])"
   ]
  },
  {
   "cell_type": "code",
   "execution_count": 58,
   "id": "ac27f89f",
   "metadata": {
    "execution": {
     "iopub.execute_input": "2023-09-13T12:53:40.253170Z",
     "iopub.status.busy": "2023-09-13T12:53:40.252707Z",
     "iopub.status.idle": "2023-09-13T12:53:40.260544Z",
     "shell.execute_reply": "2023-09-13T12:53:40.259254Z"
    },
    "papermill": {
     "duration": 0.057692,
     "end_time": "2023-09-13T12:53:40.262946",
     "exception": false,
     "start_time": "2023-09-13T12:53:40.205254",
     "status": "completed"
    },
    "tags": []
   },
   "outputs": [],
   "source": [
    "df.drop(['xres','yres'],axis=1,inplace=True)"
   ]
  },
  {
   "cell_type": "code",
   "execution_count": 59,
   "id": "bd3e3adf",
   "metadata": {
    "execution": {
     "iopub.execute_input": "2023-09-13T12:53:40.355969Z",
     "iopub.status.busy": "2023-09-13T12:53:40.355485Z",
     "iopub.status.idle": "2023-09-13T12:53:40.374246Z",
     "shell.execute_reply": "2023-09-13T12:53:40.372659Z"
    },
    "papermill": {
     "duration": 0.068563,
     "end_time": "2023-09-13T12:53:40.376886",
     "exception": false,
     "start_time": "2023-09-13T12:53:40.308323",
     "status": "completed"
    },
    "tags": []
   },
   "outputs": [
    {
     "name": "stdout",
     "output_type": "stream",
     "text": [
      "<class 'pandas.core.frame.DataFrame'>\n",
      "Index: 1302 entries, 0 to 324\n",
      "Data columns (total 17 columns):\n",
      " #   Column           Non-Null Count  Dtype  \n",
      "---  ------           --------------  -----  \n",
      " 0   Manufacturer     1302 non-null   int64  \n",
      " 1   Category         1302 non-null   int64  \n",
      " 2   Screen_Size      1302 non-null   float64\n",
      " 3   CPU              1302 non-null   object \n",
      " 4   RAM              1302 non-null   object \n",
      " 5   Storage          1302 non-null   object \n",
      " 6   GPU              1302 non-null   object \n",
      " 7   OS               1302 non-null   object \n",
      " 8   OS_Version       1302 non-null   object \n",
      " 9   Weight           1302 non-null   object \n",
      " 10  Price            1302 non-null   float64\n",
      " 11  Touchscreen      1302 non-null   int64  \n",
      " 12  IPS_Panel        1302 non-null   int64  \n",
      " 13  Retina_display   1302 non-null   int64  \n",
      " 14  Full_HD_display  1302 non-null   int64  \n",
      " 15  Quad_HD_display  1302 non-null   int64  \n",
      " 16  PPI              1302 non-null   float64\n",
      "dtypes: float64(3), int64(7), object(7)\n",
      "memory usage: 183.1+ KB\n"
     ]
    }
   ],
   "source": [
    "df.info()"
   ]
  },
  {
   "cell_type": "markdown",
   "id": "64109c80",
   "metadata": {
    "papermill": {
     "duration": 0.045102,
     "end_time": "2023-09-13T12:53:40.467216",
     "exception": false,
     "start_time": "2023-09-13T12:53:40.422114",
     "status": "completed"
    },
    "tags": []
   },
   "source": [
    "# Weight"
   ]
  },
  {
   "cell_type": "code",
   "execution_count": 60,
   "id": "f7a14659",
   "metadata": {
    "execution": {
     "iopub.execute_input": "2023-09-13T12:53:40.561157Z",
     "iopub.status.busy": "2023-09-13T12:53:40.560036Z",
     "iopub.status.idle": "2023-09-13T12:53:40.572294Z",
     "shell.execute_reply": "2023-09-13T12:53:40.570757Z"
    },
    "papermill": {
     "duration": 0.06251,
     "end_time": "2023-09-13T12:53:40.574917",
     "exception": false,
     "start_time": "2023-09-13T12:53:40.512407",
     "status": "completed"
    },
    "tags": []
   },
   "outputs": [
    {
     "data": {
      "text/plain": [
       "Weight\n",
       "2.2kg     121\n",
       "2.1kg      58\n",
       "2.4kg      44\n",
       "2.3kg      40\n",
       "2.5kg      38\n",
       "2kg        35\n",
       "2.8kg      28\n",
       "1.2kg      26\n",
       "1.86kg     25\n",
       "1.4kg      24\n",
       "Name: count, dtype: int64"
      ]
     },
     "execution_count": 60,
     "metadata": {},
     "output_type": "execute_result"
    }
   ],
   "source": [
    "df['Weight'].value_counts().head(10)"
   ]
  },
  {
   "cell_type": "code",
   "execution_count": 61,
   "id": "a0181c47",
   "metadata": {
    "execution": {
     "iopub.execute_input": "2023-09-13T12:53:40.669443Z",
     "iopub.status.busy": "2023-09-13T12:53:40.668975Z",
     "iopub.status.idle": "2023-09-13T12:53:40.680722Z",
     "shell.execute_reply": "2023-09-13T12:53:40.679312Z"
    },
    "papermill": {
     "duration": 0.061912,
     "end_time": "2023-09-13T12:53:40.683353",
     "exception": false,
     "start_time": "2023-09-13T12:53:40.621441",
     "status": "completed"
    },
    "tags": []
   },
   "outputs": [],
   "source": [
    "df['Weight']=df['Weight'].str.extract(r'(\\d+\\.?\\d*)').astype('float')"
   ]
  },
  {
   "cell_type": "markdown",
   "id": "14ce7a0d",
   "metadata": {
    "papermill": {
     "duration": 0.045193,
     "end_time": "2023-09-13T12:53:40.773871",
     "exception": false,
     "start_time": "2023-09-13T12:53:40.728678",
     "status": "completed"
    },
    "tags": []
   },
   "source": [
    "# GPU"
   ]
  },
  {
   "cell_type": "code",
   "execution_count": 62,
   "id": "5f841c46",
   "metadata": {
    "execution": {
     "iopub.execute_input": "2023-09-13T12:53:40.866906Z",
     "iopub.status.busy": "2023-09-13T12:53:40.866434Z",
     "iopub.status.idle": "2023-09-13T12:53:40.884568Z",
     "shell.execute_reply": "2023-09-13T12:53:40.883153Z"
    },
    "papermill": {
     "duration": 0.067318,
     "end_time": "2023-09-13T12:53:40.886873",
     "exception": false,
     "start_time": "2023-09-13T12:53:40.819555",
     "status": "completed"
    },
    "tags": []
   },
   "outputs": [
    {
     "data": {
      "text/plain": [
       "GPU\n",
       "    1302\n",
       "Name: count, dtype: int64"
      ]
     },
     "execution_count": 62,
     "metadata": {},
     "output_type": "execute_result"
    }
   ],
   "source": [
    "n=df['GPU'].str.split('',n=1,expand=True)\n",
    "df['GPU']=n[0]\n",
    "df['GPU'].value_counts()"
   ]
  },
  {
   "cell_type": "code",
   "execution_count": 63,
   "id": "596f429e",
   "metadata": {
    "execution": {
     "iopub.execute_input": "2023-09-13T12:53:40.982988Z",
     "iopub.status.busy": "2023-09-13T12:53:40.982582Z",
     "iopub.status.idle": "2023-09-13T12:53:41.005536Z",
     "shell.execute_reply": "2023-09-13T12:53:41.004027Z"
    },
    "papermill": {
     "duration": 0.074498,
     "end_time": "2023-09-13T12:53:41.008381",
     "exception": false,
     "start_time": "2023-09-13T12:53:40.933883",
     "status": "completed"
    },
    "tags": []
   },
   "outputs": [
    {
     "data": {
      "text/html": [
       "<div>\n",
       "<style scoped>\n",
       "    .dataframe tbody tr th:only-of-type {\n",
       "        vertical-align: middle;\n",
       "    }\n",
       "\n",
       "    .dataframe tbody tr th {\n",
       "        vertical-align: top;\n",
       "    }\n",
       "\n",
       "    .dataframe thead th {\n",
       "        text-align: right;\n",
       "    }\n",
       "</style>\n",
       "<table border=\"1\" class=\"dataframe\">\n",
       "  <thead>\n",
       "    <tr style=\"text-align: right;\">\n",
       "      <th></th>\n",
       "      <th>Manufacturer</th>\n",
       "      <th>Category</th>\n",
       "      <th>Screen_Size</th>\n",
       "      <th>CPU</th>\n",
       "      <th>RAM</th>\n",
       "      <th>Storage</th>\n",
       "      <th>GPU</th>\n",
       "      <th>OS</th>\n",
       "      <th>OS_Version</th>\n",
       "      <th>Weight</th>\n",
       "      <th>Price</th>\n",
       "      <th>Touchscreen</th>\n",
       "      <th>IPS_Panel</th>\n",
       "      <th>Retina_display</th>\n",
       "      <th>Full_HD_display</th>\n",
       "      <th>Quad_HD_display</th>\n",
       "      <th>PPI</th>\n",
       "    </tr>\n",
       "  </thead>\n",
       "  <tbody>\n",
       "    <tr>\n",
       "      <th>0</th>\n",
       "      <td>1</td>\n",
       "      <td>3</td>\n",
       "      <td>13.3</td>\n",
       "      <td>Intel Core i5 2.3GHz</td>\n",
       "      <td>8GB</td>\n",
       "      <td>128GB SSD</td>\n",
       "      <td></td>\n",
       "      <td>macOS</td>\n",
       "      <td>10</td>\n",
       "      <td>1.37</td>\n",
       "      <td>11912523.48</td>\n",
       "      <td>0</td>\n",
       "      <td>1</td>\n",
       "      <td>1</td>\n",
       "      <td>0</td>\n",
       "      <td>0</td>\n",
       "      <td>226.983005</td>\n",
       "    </tr>\n",
       "    <tr>\n",
       "      <th>1</th>\n",
       "      <td>1</td>\n",
       "      <td>3</td>\n",
       "      <td>13.3</td>\n",
       "      <td>Intel Core i5 1.8GHz</td>\n",
       "      <td>8GB</td>\n",
       "      <td>128GB Flash Storage</td>\n",
       "      <td></td>\n",
       "      <td>macOS</td>\n",
       "      <td>10</td>\n",
       "      <td>1.34</td>\n",
       "      <td>7993374.48</td>\n",
       "      <td>0</td>\n",
       "      <td>0</td>\n",
       "      <td>0</td>\n",
       "      <td>0</td>\n",
       "      <td>0</td>\n",
       "      <td>127.677940</td>\n",
       "    </tr>\n",
       "    <tr>\n",
       "      <th>2</th>\n",
       "      <td>7</td>\n",
       "      <td>2</td>\n",
       "      <td>15.6</td>\n",
       "      <td>Intel Core i5 7200U 2.5GHz</td>\n",
       "      <td>8GB</td>\n",
       "      <td>256GB SSD</td>\n",
       "      <td></td>\n",
       "      <td>No OS</td>\n",
       "      <td>10</td>\n",
       "      <td>1.86</td>\n",
       "      <td>5112900.00</td>\n",
       "      <td>0</td>\n",
       "      <td>0</td>\n",
       "      <td>0</td>\n",
       "      <td>0</td>\n",
       "      <td>0</td>\n",
       "      <td>141.211998</td>\n",
       "    </tr>\n",
       "    <tr>\n",
       "      <th>3</th>\n",
       "      <td>1</td>\n",
       "      <td>3</td>\n",
       "      <td>15.4</td>\n",
       "      <td>Intel Core i7 2.7GHz</td>\n",
       "      <td>16GB</td>\n",
       "      <td>512GB SSD</td>\n",
       "      <td></td>\n",
       "      <td>macOS</td>\n",
       "      <td>10</td>\n",
       "      <td>1.83</td>\n",
       "      <td>22563005.40</td>\n",
       "      <td>0</td>\n",
       "      <td>1</td>\n",
       "      <td>1</td>\n",
       "      <td>0</td>\n",
       "      <td>0</td>\n",
       "      <td>220.534624</td>\n",
       "    </tr>\n",
       "    <tr>\n",
       "      <th>4</th>\n",
       "      <td>1</td>\n",
       "      <td>3</td>\n",
       "      <td>13.3</td>\n",
       "      <td>Intel Core i5 3.1GHz</td>\n",
       "      <td>8GB</td>\n",
       "      <td>256GB SSD</td>\n",
       "      <td></td>\n",
       "      <td>macOS</td>\n",
       "      <td>10</td>\n",
       "      <td>1.37</td>\n",
       "      <td>16037611.20</td>\n",
       "      <td>0</td>\n",
       "      <td>1</td>\n",
       "      <td>1</td>\n",
       "      <td>0</td>\n",
       "      <td>0</td>\n",
       "      <td>226.983005</td>\n",
       "    </tr>\n",
       "  </tbody>\n",
       "</table>\n",
       "</div>"
      ],
      "text/plain": [
       "   Manufacturer  Category  Screen_Size                         CPU   RAM  \\\n",
       "0             1         3         13.3        Intel Core i5 2.3GHz   8GB   \n",
       "1             1         3         13.3        Intel Core i5 1.8GHz   8GB   \n",
       "2             7         2         15.6  Intel Core i5 7200U 2.5GHz   8GB   \n",
       "3             1         3         15.4        Intel Core i7 2.7GHz  16GB   \n",
       "4             1         3         13.3        Intel Core i5 3.1GHz   8GB   \n",
       "\n",
       "               Storage GPU     OS OS_Version  Weight        Price  \\\n",
       "0            128GB SSD      macOS         10    1.37  11912523.48   \n",
       "1  128GB Flash Storage      macOS         10    1.34   7993374.48   \n",
       "2            256GB SSD      No OS         10    1.86   5112900.00   \n",
       "3            512GB SSD      macOS         10    1.83  22563005.40   \n",
       "4            256GB SSD      macOS         10    1.37  16037611.20   \n",
       "\n",
       "   Touchscreen  IPS_Panel  Retina_display  Full_HD_display  Quad_HD_display  \\\n",
       "0            0          1               1                0                0   \n",
       "1            0          0               0                0                0   \n",
       "2            0          0               0                0                0   \n",
       "3            0          1               1                0                0   \n",
       "4            0          1               1                0                0   \n",
       "\n",
       "          PPI  \n",
       "0  226.983005  \n",
       "1  127.677940  \n",
       "2  141.211998  \n",
       "3  220.534624  \n",
       "4  226.983005  "
      ]
     },
     "execution_count": 63,
     "metadata": {},
     "output_type": "execute_result"
    }
   ],
   "source": [
    "df.head()"
   ]
  },
  {
   "cell_type": "code",
   "execution_count": 64,
   "id": "e438787f",
   "metadata": {
    "execution": {
     "iopub.execute_input": "2023-09-13T12:53:41.105644Z",
     "iopub.status.busy": "2023-09-13T12:53:41.105203Z",
     "iopub.status.idle": "2023-09-13T12:53:41.112281Z",
     "shell.execute_reply": "2023-09-13T12:53:41.110807Z"
    },
    "papermill": {
     "duration": 0.058651,
     "end_time": "2023-09-13T12:53:41.114674",
     "exception": false,
     "start_time": "2023-09-13T12:53:41.056023",
     "status": "completed"
    },
    "tags": []
   },
   "outputs": [],
   "source": [
    "lr=LabelEncoder()\n",
    "df['GPU']=lr.fit_transform(df['GPU'])"
   ]
  },
  {
   "cell_type": "markdown",
   "id": "bb8ef465",
   "metadata": {
    "papermill": {
     "duration": 0.047358,
     "end_time": "2023-09-13T12:53:41.210565",
     "exception": false,
     "start_time": "2023-09-13T12:53:41.163207",
     "status": "completed"
    },
    "tags": []
   },
   "source": [
    "# RAM"
   ]
  },
  {
   "cell_type": "code",
   "execution_count": 65,
   "id": "36b93b54",
   "metadata": {
    "execution": {
     "iopub.execute_input": "2023-09-13T12:53:41.305248Z",
     "iopub.status.busy": "2023-09-13T12:53:41.304822Z",
     "iopub.status.idle": "2023-09-13T12:53:41.313105Z",
     "shell.execute_reply": "2023-09-13T12:53:41.312103Z"
    },
    "papermill": {
     "duration": 0.058891,
     "end_time": "2023-09-13T12:53:41.315456",
     "exception": false,
     "start_time": "2023-09-13T12:53:41.256565",
     "status": "completed"
    },
    "tags": []
   },
   "outputs": [],
   "source": [
    "df['RAM']=df['RAM'].str.replace('GB','')\n",
    "df['RAM']=df['RAM'].astype('int')                                "
   ]
  },
  {
   "cell_type": "code",
   "execution_count": 66,
   "id": "60f43c1f",
   "metadata": {
    "execution": {
     "iopub.execute_input": "2023-09-13T12:53:41.414547Z",
     "iopub.status.busy": "2023-09-13T12:53:41.412889Z",
     "iopub.status.idle": "2023-09-13T12:53:41.436840Z",
     "shell.execute_reply": "2023-09-13T12:53:41.435481Z"
    },
    "papermill": {
     "duration": 0.076746,
     "end_time": "2023-09-13T12:53:41.439495",
     "exception": false,
     "start_time": "2023-09-13T12:53:41.362749",
     "status": "completed"
    },
    "tags": []
   },
   "outputs": [
    {
     "data": {
      "text/html": [
       "<div>\n",
       "<style scoped>\n",
       "    .dataframe tbody tr th:only-of-type {\n",
       "        vertical-align: middle;\n",
       "    }\n",
       "\n",
       "    .dataframe tbody tr th {\n",
       "        vertical-align: top;\n",
       "    }\n",
       "\n",
       "    .dataframe thead th {\n",
       "        text-align: right;\n",
       "    }\n",
       "</style>\n",
       "<table border=\"1\" class=\"dataframe\">\n",
       "  <thead>\n",
       "    <tr style=\"text-align: right;\">\n",
       "      <th></th>\n",
       "      <th>Manufacturer</th>\n",
       "      <th>Category</th>\n",
       "      <th>Screen_Size</th>\n",
       "      <th>CPU</th>\n",
       "      <th>RAM</th>\n",
       "      <th>Storage</th>\n",
       "      <th>GPU</th>\n",
       "      <th>OS</th>\n",
       "      <th>OS_Version</th>\n",
       "      <th>Weight</th>\n",
       "      <th>Price</th>\n",
       "      <th>Touchscreen</th>\n",
       "      <th>IPS_Panel</th>\n",
       "      <th>Retina_display</th>\n",
       "      <th>Full_HD_display</th>\n",
       "      <th>Quad_HD_display</th>\n",
       "      <th>PPI</th>\n",
       "    </tr>\n",
       "  </thead>\n",
       "  <tbody>\n",
       "    <tr>\n",
       "      <th>0</th>\n",
       "      <td>1</td>\n",
       "      <td>3</td>\n",
       "      <td>13.3</td>\n",
       "      <td>Intel Core i5 2.3GHz</td>\n",
       "      <td>8</td>\n",
       "      <td>128GB SSD</td>\n",
       "      <td>0</td>\n",
       "      <td>macOS</td>\n",
       "      <td>10</td>\n",
       "      <td>1.37</td>\n",
       "      <td>11912523.48</td>\n",
       "      <td>0</td>\n",
       "      <td>1</td>\n",
       "      <td>1</td>\n",
       "      <td>0</td>\n",
       "      <td>0</td>\n",
       "      <td>226.983005</td>\n",
       "    </tr>\n",
       "    <tr>\n",
       "      <th>1</th>\n",
       "      <td>1</td>\n",
       "      <td>3</td>\n",
       "      <td>13.3</td>\n",
       "      <td>Intel Core i5 1.8GHz</td>\n",
       "      <td>8</td>\n",
       "      <td>128GB Flash Storage</td>\n",
       "      <td>0</td>\n",
       "      <td>macOS</td>\n",
       "      <td>10</td>\n",
       "      <td>1.34</td>\n",
       "      <td>7993374.48</td>\n",
       "      <td>0</td>\n",
       "      <td>0</td>\n",
       "      <td>0</td>\n",
       "      <td>0</td>\n",
       "      <td>0</td>\n",
       "      <td>127.677940</td>\n",
       "    </tr>\n",
       "    <tr>\n",
       "      <th>2</th>\n",
       "      <td>7</td>\n",
       "      <td>2</td>\n",
       "      <td>15.6</td>\n",
       "      <td>Intel Core i5 7200U 2.5GHz</td>\n",
       "      <td>8</td>\n",
       "      <td>256GB SSD</td>\n",
       "      <td>0</td>\n",
       "      <td>No OS</td>\n",
       "      <td>10</td>\n",
       "      <td>1.86</td>\n",
       "      <td>5112900.00</td>\n",
       "      <td>0</td>\n",
       "      <td>0</td>\n",
       "      <td>0</td>\n",
       "      <td>0</td>\n",
       "      <td>0</td>\n",
       "      <td>141.211998</td>\n",
       "    </tr>\n",
       "    <tr>\n",
       "      <th>3</th>\n",
       "      <td>1</td>\n",
       "      <td>3</td>\n",
       "      <td>15.4</td>\n",
       "      <td>Intel Core i7 2.7GHz</td>\n",
       "      <td>16</td>\n",
       "      <td>512GB SSD</td>\n",
       "      <td>0</td>\n",
       "      <td>macOS</td>\n",
       "      <td>10</td>\n",
       "      <td>1.83</td>\n",
       "      <td>22563005.40</td>\n",
       "      <td>0</td>\n",
       "      <td>1</td>\n",
       "      <td>1</td>\n",
       "      <td>0</td>\n",
       "      <td>0</td>\n",
       "      <td>220.534624</td>\n",
       "    </tr>\n",
       "    <tr>\n",
       "      <th>4</th>\n",
       "      <td>1</td>\n",
       "      <td>3</td>\n",
       "      <td>13.3</td>\n",
       "      <td>Intel Core i5 3.1GHz</td>\n",
       "      <td>8</td>\n",
       "      <td>256GB SSD</td>\n",
       "      <td>0</td>\n",
       "      <td>macOS</td>\n",
       "      <td>10</td>\n",
       "      <td>1.37</td>\n",
       "      <td>16037611.20</td>\n",
       "      <td>0</td>\n",
       "      <td>1</td>\n",
       "      <td>1</td>\n",
       "      <td>0</td>\n",
       "      <td>0</td>\n",
       "      <td>226.983005</td>\n",
       "    </tr>\n",
       "  </tbody>\n",
       "</table>\n",
       "</div>"
      ],
      "text/plain": [
       "   Manufacturer  Category  Screen_Size                         CPU  RAM  \\\n",
       "0             1         3         13.3        Intel Core i5 2.3GHz    8   \n",
       "1             1         3         13.3        Intel Core i5 1.8GHz    8   \n",
       "2             7         2         15.6  Intel Core i5 7200U 2.5GHz    8   \n",
       "3             1         3         15.4        Intel Core i7 2.7GHz   16   \n",
       "4             1         3         13.3        Intel Core i5 3.1GHz    8   \n",
       "\n",
       "               Storage  GPU     OS OS_Version  Weight        Price  \\\n",
       "0            128GB SSD    0  macOS         10    1.37  11912523.48   \n",
       "1  128GB Flash Storage    0  macOS         10    1.34   7993374.48   \n",
       "2            256GB SSD    0  No OS         10    1.86   5112900.00   \n",
       "3            512GB SSD    0  macOS         10    1.83  22563005.40   \n",
       "4            256GB SSD    0  macOS         10    1.37  16037611.20   \n",
       "\n",
       "   Touchscreen  IPS_Panel  Retina_display  Full_HD_display  Quad_HD_display  \\\n",
       "0            0          1               1                0                0   \n",
       "1            0          0               0                0                0   \n",
       "2            0          0               0                0                0   \n",
       "3            0          1               1                0                0   \n",
       "4            0          1               1                0                0   \n",
       "\n",
       "          PPI  \n",
       "0  226.983005  \n",
       "1  127.677940  \n",
       "2  141.211998  \n",
       "3  220.534624  \n",
       "4  226.983005  "
      ]
     },
     "execution_count": 66,
     "metadata": {},
     "output_type": "execute_result"
    }
   ],
   "source": [
    "df.head()"
   ]
  },
  {
   "cell_type": "code",
   "execution_count": 67,
   "id": "45ced778",
   "metadata": {
    "execution": {
     "iopub.execute_input": "2023-09-13T12:53:41.535303Z",
     "iopub.status.busy": "2023-09-13T12:53:41.534883Z",
     "iopub.status.idle": "2023-09-13T12:53:41.551967Z",
     "shell.execute_reply": "2023-09-13T12:53:41.551146Z"
    },
    "papermill": {
     "duration": 0.067847,
     "end_time": "2023-09-13T12:53:41.554677",
     "exception": false,
     "start_time": "2023-09-13T12:53:41.486830",
     "status": "completed"
    },
    "tags": []
   },
   "outputs": [
    {
     "name": "stdout",
     "output_type": "stream",
     "text": [
      "<class 'pandas.core.frame.DataFrame'>\n",
      "Index: 1302 entries, 0 to 324\n",
      "Data columns (total 17 columns):\n",
      " #   Column           Non-Null Count  Dtype  \n",
      "---  ------           --------------  -----  \n",
      " 0   Manufacturer     1302 non-null   int64  \n",
      " 1   Category         1302 non-null   int64  \n",
      " 2   Screen_Size      1302 non-null   float64\n",
      " 3   CPU              1302 non-null   object \n",
      " 4   RAM              1302 non-null   int64  \n",
      " 5   Storage          1302 non-null   object \n",
      " 6   GPU              1302 non-null   int64  \n",
      " 7   OS               1302 non-null   object \n",
      " 8   OS_Version       1302 non-null   object \n",
      " 9   Weight           1302 non-null   float64\n",
      " 10  Price            1302 non-null   float64\n",
      " 11  Touchscreen      1302 non-null   int64  \n",
      " 12  IPS_Panel        1302 non-null   int64  \n",
      " 13  Retina_display   1302 non-null   int64  \n",
      " 14  Full_HD_display  1302 non-null   int64  \n",
      " 15  Quad_HD_display  1302 non-null   int64  \n",
      " 16  PPI              1302 non-null   float64\n",
      "dtypes: float64(4), int64(9), object(4)\n",
      "memory usage: 183.1+ KB\n"
     ]
    }
   ],
   "source": [
    "df.info()"
   ]
  },
  {
   "cell_type": "markdown",
   "id": "23e9339a",
   "metadata": {
    "papermill": {
     "duration": 0.048084,
     "end_time": "2023-09-13T12:53:41.651318",
     "exception": false,
     "start_time": "2023-09-13T12:53:41.603234",
     "status": "completed"
    },
    "tags": []
   },
   "source": [
    "# OS_Version"
   ]
  },
  {
   "cell_type": "code",
   "execution_count": 68,
   "id": "072fb870",
   "metadata": {
    "execution": {
     "iopub.execute_input": "2023-09-13T12:53:41.749937Z",
     "iopub.status.busy": "2023-09-13T12:53:41.749150Z",
     "iopub.status.idle": "2023-09-13T12:53:41.755490Z",
     "shell.execute_reply": "2023-09-13T12:53:41.754582Z"
    },
    "papermill": {
     "duration": 0.058051,
     "end_time": "2023-09-13T12:53:41.757738",
     "exception": false,
     "start_time": "2023-09-13T12:53:41.699687",
     "status": "completed"
    },
    "tags": []
   },
   "outputs": [],
   "source": [
    "df.drop('OS_Version',axis=1,inplace=True)"
   ]
  },
  {
   "cell_type": "code",
   "execution_count": 69,
   "id": "97bcfff3",
   "metadata": {
    "execution": {
     "iopub.execute_input": "2023-09-13T12:53:41.855552Z",
     "iopub.status.busy": "2023-09-13T12:53:41.854713Z",
     "iopub.status.idle": "2023-09-13T12:53:41.871969Z",
     "shell.execute_reply": "2023-09-13T12:53:41.870694Z"
    },
    "papermill": {
     "duration": 0.069673,
     "end_time": "2023-09-13T12:53:41.874990",
     "exception": false,
     "start_time": "2023-09-13T12:53:41.805317",
     "status": "completed"
    },
    "tags": []
   },
   "outputs": [
    {
     "name": "stdout",
     "output_type": "stream",
     "text": [
      "<class 'pandas.core.frame.DataFrame'>\n",
      "Index: 1302 entries, 0 to 324\n",
      "Data columns (total 16 columns):\n",
      " #   Column           Non-Null Count  Dtype  \n",
      "---  ------           --------------  -----  \n",
      " 0   Manufacturer     1302 non-null   int64  \n",
      " 1   Category         1302 non-null   int64  \n",
      " 2   Screen_Size      1302 non-null   float64\n",
      " 3   CPU              1302 non-null   object \n",
      " 4   RAM              1302 non-null   int64  \n",
      " 5   Storage          1302 non-null   object \n",
      " 6   GPU              1302 non-null   int64  \n",
      " 7   OS               1302 non-null   object \n",
      " 8   Weight           1302 non-null   float64\n",
      " 9   Price            1302 non-null   float64\n",
      " 10  Touchscreen      1302 non-null   int64  \n",
      " 11  IPS_Panel        1302 non-null   int64  \n",
      " 12  Retina_display   1302 non-null   int64  \n",
      " 13  Full_HD_display  1302 non-null   int64  \n",
      " 14  Quad_HD_display  1302 non-null   int64  \n",
      " 15  PPI              1302 non-null   float64\n",
      "dtypes: float64(4), int64(9), object(3)\n",
      "memory usage: 172.9+ KB\n"
     ]
    }
   ],
   "source": [
    "df.info()"
   ]
  },
  {
   "cell_type": "markdown",
   "id": "a61c7350",
   "metadata": {
    "papermill": {
     "duration": 0.047203,
     "end_time": "2023-09-13T12:53:41.969921",
     "exception": false,
     "start_time": "2023-09-13T12:53:41.922718",
     "status": "completed"
    },
    "tags": []
   },
   "source": [
    "# OS"
   ]
  },
  {
   "cell_type": "code",
   "execution_count": 70,
   "id": "582251bf",
   "metadata": {
    "execution": {
     "iopub.execute_input": "2023-09-13T12:53:42.068638Z",
     "iopub.status.busy": "2023-09-13T12:53:42.068178Z",
     "iopub.status.idle": "2023-09-13T12:53:42.075558Z",
     "shell.execute_reply": "2023-09-13T12:53:42.074159Z"
    },
    "papermill": {
     "duration": 0.060581,
     "end_time": "2023-09-13T12:53:42.078146",
     "exception": false,
     "start_time": "2023-09-13T12:53:42.017565",
     "status": "completed"
    },
    "tags": []
   },
   "outputs": [],
   "source": [
    "lr=LabelEncoder()\n",
    "df['OS']=lr.fit_transform(df['OS'])"
   ]
  },
  {
   "cell_type": "code",
   "execution_count": 71,
   "id": "5ccf7f57",
   "metadata": {
    "execution": {
     "iopub.execute_input": "2023-09-13T12:53:42.177750Z",
     "iopub.status.busy": "2023-09-13T12:53:42.177297Z",
     "iopub.status.idle": "2023-09-13T12:53:42.195971Z",
     "shell.execute_reply": "2023-09-13T12:53:42.194315Z"
    },
    "papermill": {
     "duration": 0.0716,
     "end_time": "2023-09-13T12:53:42.198452",
     "exception": false,
     "start_time": "2023-09-13T12:53:42.126852",
     "status": "completed"
    },
    "tags": []
   },
   "outputs": [
    {
     "name": "stdout",
     "output_type": "stream",
     "text": [
      "<class 'pandas.core.frame.DataFrame'>\n",
      "Index: 1302 entries, 0 to 324\n",
      "Data columns (total 16 columns):\n",
      " #   Column           Non-Null Count  Dtype  \n",
      "---  ------           --------------  -----  \n",
      " 0   Manufacturer     1302 non-null   int64  \n",
      " 1   Category         1302 non-null   int64  \n",
      " 2   Screen_Size      1302 non-null   float64\n",
      " 3   CPU              1302 non-null   object \n",
      " 4   RAM              1302 non-null   int64  \n",
      " 5   Storage          1302 non-null   object \n",
      " 6   GPU              1302 non-null   int64  \n",
      " 7   OS               1302 non-null   int64  \n",
      " 8   Weight           1302 non-null   float64\n",
      " 9   Price            1302 non-null   float64\n",
      " 10  Touchscreen      1302 non-null   int64  \n",
      " 11  IPS_Panel        1302 non-null   int64  \n",
      " 12  Retina_display   1302 non-null   int64  \n",
      " 13  Full_HD_display  1302 non-null   int64  \n",
      " 14  Quad_HD_display  1302 non-null   int64  \n",
      " 15  PPI              1302 non-null   float64\n",
      "dtypes: float64(4), int64(10), object(2)\n",
      "memory usage: 172.9+ KB\n"
     ]
    }
   ],
   "source": [
    "df.info()"
   ]
  },
  {
   "cell_type": "code",
   "execution_count": 72,
   "id": "7a52e2a8",
   "metadata": {
    "execution": {
     "iopub.execute_input": "2023-09-13T12:53:42.297971Z",
     "iopub.status.busy": "2023-09-13T12:53:42.297538Z",
     "iopub.status.idle": "2023-09-13T12:53:42.319945Z",
     "shell.execute_reply": "2023-09-13T12:53:42.318848Z"
    },
    "papermill": {
     "duration": 0.074949,
     "end_time": "2023-09-13T12:53:42.322337",
     "exception": false,
     "start_time": "2023-09-13T12:53:42.247388",
     "status": "completed"
    },
    "tags": []
   },
   "outputs": [
    {
     "data": {
      "text/html": [
       "<div>\n",
       "<style scoped>\n",
       "    .dataframe tbody tr th:only-of-type {\n",
       "        vertical-align: middle;\n",
       "    }\n",
       "\n",
       "    .dataframe tbody tr th {\n",
       "        vertical-align: top;\n",
       "    }\n",
       "\n",
       "    .dataframe thead th {\n",
       "        text-align: right;\n",
       "    }\n",
       "</style>\n",
       "<table border=\"1\" class=\"dataframe\">\n",
       "  <thead>\n",
       "    <tr style=\"text-align: right;\">\n",
       "      <th></th>\n",
       "      <th>Manufacturer</th>\n",
       "      <th>Category</th>\n",
       "      <th>Screen_Size</th>\n",
       "      <th>CPU</th>\n",
       "      <th>RAM</th>\n",
       "      <th>Storage</th>\n",
       "      <th>GPU</th>\n",
       "      <th>OS</th>\n",
       "      <th>Weight</th>\n",
       "      <th>Price</th>\n",
       "      <th>Touchscreen</th>\n",
       "      <th>IPS_Panel</th>\n",
       "      <th>Retina_display</th>\n",
       "      <th>Full_HD_display</th>\n",
       "      <th>Quad_HD_display</th>\n",
       "      <th>PPI</th>\n",
       "    </tr>\n",
       "  </thead>\n",
       "  <tbody>\n",
       "    <tr>\n",
       "      <th>0</th>\n",
       "      <td>1</td>\n",
       "      <td>3</td>\n",
       "      <td>13.3</td>\n",
       "      <td>Intel Core i5 2.3GHz</td>\n",
       "      <td>8</td>\n",
       "      <td>128GB SSD</td>\n",
       "      <td>0</td>\n",
       "      <td>6</td>\n",
       "      <td>1.37</td>\n",
       "      <td>11912523.48</td>\n",
       "      <td>0</td>\n",
       "      <td>1</td>\n",
       "      <td>1</td>\n",
       "      <td>0</td>\n",
       "      <td>0</td>\n",
       "      <td>226.983005</td>\n",
       "    </tr>\n",
       "    <tr>\n",
       "      <th>1</th>\n",
       "      <td>1</td>\n",
       "      <td>3</td>\n",
       "      <td>13.3</td>\n",
       "      <td>Intel Core i5 1.8GHz</td>\n",
       "      <td>8</td>\n",
       "      <td>128GB Flash Storage</td>\n",
       "      <td>0</td>\n",
       "      <td>6</td>\n",
       "      <td>1.34</td>\n",
       "      <td>7993374.48</td>\n",
       "      <td>0</td>\n",
       "      <td>0</td>\n",
       "      <td>0</td>\n",
       "      <td>0</td>\n",
       "      <td>0</td>\n",
       "      <td>127.677940</td>\n",
       "    </tr>\n",
       "    <tr>\n",
       "      <th>2</th>\n",
       "      <td>7</td>\n",
       "      <td>2</td>\n",
       "      <td>15.6</td>\n",
       "      <td>Intel Core i5 7200U 2.5GHz</td>\n",
       "      <td>8</td>\n",
       "      <td>256GB SSD</td>\n",
       "      <td>0</td>\n",
       "      <td>4</td>\n",
       "      <td>1.86</td>\n",
       "      <td>5112900.00</td>\n",
       "      <td>0</td>\n",
       "      <td>0</td>\n",
       "      <td>0</td>\n",
       "      <td>0</td>\n",
       "      <td>0</td>\n",
       "      <td>141.211998</td>\n",
       "    </tr>\n",
       "    <tr>\n",
       "      <th>3</th>\n",
       "      <td>1</td>\n",
       "      <td>3</td>\n",
       "      <td>15.4</td>\n",
       "      <td>Intel Core i7 2.7GHz</td>\n",
       "      <td>16</td>\n",
       "      <td>512GB SSD</td>\n",
       "      <td>0</td>\n",
       "      <td>6</td>\n",
       "      <td>1.83</td>\n",
       "      <td>22563005.40</td>\n",
       "      <td>0</td>\n",
       "      <td>1</td>\n",
       "      <td>1</td>\n",
       "      <td>0</td>\n",
       "      <td>0</td>\n",
       "      <td>220.534624</td>\n",
       "    </tr>\n",
       "    <tr>\n",
       "      <th>4</th>\n",
       "      <td>1</td>\n",
       "      <td>3</td>\n",
       "      <td>13.3</td>\n",
       "      <td>Intel Core i5 3.1GHz</td>\n",
       "      <td>8</td>\n",
       "      <td>256GB SSD</td>\n",
       "      <td>0</td>\n",
       "      <td>6</td>\n",
       "      <td>1.37</td>\n",
       "      <td>16037611.20</td>\n",
       "      <td>0</td>\n",
       "      <td>1</td>\n",
       "      <td>1</td>\n",
       "      <td>0</td>\n",
       "      <td>0</td>\n",
       "      <td>226.983005</td>\n",
       "    </tr>\n",
       "  </tbody>\n",
       "</table>\n",
       "</div>"
      ],
      "text/plain": [
       "   Manufacturer  Category  Screen_Size                         CPU  RAM  \\\n",
       "0             1         3         13.3        Intel Core i5 2.3GHz    8   \n",
       "1             1         3         13.3        Intel Core i5 1.8GHz    8   \n",
       "2             7         2         15.6  Intel Core i5 7200U 2.5GHz    8   \n",
       "3             1         3         15.4        Intel Core i7 2.7GHz   16   \n",
       "4             1         3         13.3        Intel Core i5 3.1GHz    8   \n",
       "\n",
       "               Storage  GPU  OS  Weight        Price  Touchscreen  IPS_Panel  \\\n",
       "0            128GB SSD    0   6    1.37  11912523.48            0          1   \n",
       "1  128GB Flash Storage    0   6    1.34   7993374.48            0          0   \n",
       "2            256GB SSD    0   4    1.86   5112900.00            0          0   \n",
       "3            512GB SSD    0   6    1.83  22563005.40            0          1   \n",
       "4            256GB SSD    0   6    1.37  16037611.20            0          1   \n",
       "\n",
       "   Retina_display  Full_HD_display  Quad_HD_display         PPI  \n",
       "0               1                0                0  226.983005  \n",
       "1               0                0                0  127.677940  \n",
       "2               0                0                0  141.211998  \n",
       "3               1                0                0  220.534624  \n",
       "4               1                0                0  226.983005  "
      ]
     },
     "execution_count": 72,
     "metadata": {},
     "output_type": "execute_result"
    }
   ],
   "source": [
    "df.head()"
   ]
  },
  {
   "cell_type": "markdown",
   "id": "356784a5",
   "metadata": {
    "papermill": {
     "duration": 0.048038,
     "end_time": "2023-09-13T12:53:42.420521",
     "exception": false,
     "start_time": "2023-09-13T12:53:42.372483",
     "status": "completed"
    },
    "tags": []
   },
   "source": [
    "# CPU"
   ]
  },
  {
   "cell_type": "code",
   "execution_count": 73,
   "id": "955d8cb9",
   "metadata": {
    "execution": {
     "iopub.execute_input": "2023-09-13T12:53:42.518936Z",
     "iopub.status.busy": "2023-09-13T12:53:42.518487Z",
     "iopub.status.idle": "2023-09-13T12:53:42.529304Z",
     "shell.execute_reply": "2023-09-13T12:53:42.528016Z"
    },
    "papermill": {
     "duration": 0.062929,
     "end_time": "2023-09-13T12:53:42.531768",
     "exception": false,
     "start_time": "2023-09-13T12:53:42.468839",
     "status": "completed"
    },
    "tags": []
   },
   "outputs": [
    {
     "data": {
      "text/plain": [
       "CPU\n",
       "Intel Core i5 7200U 2.5GHz     190\n",
       "Intel Core i7 7700HQ 2.8GHz    146\n",
       "Intel Core i7 7500U 2.7GHz     133\n",
       "Intel Core i7 8550U 1.8GHz      73\n",
       "Intel Core i5 8250U 1.6GHz      72\n",
       "Intel Core i5 6200U 2.3GHz      68\n",
       "Intel Core i3 6006U 2GHz        64\n",
       "Intel Core i7 6500U 2.5GHz      49\n",
       "Intel Core i7 6700HQ 2.6GHz     43\n",
       "Intel Core i3 7100U 2.4GHz      37\n",
       "Name: count, dtype: int64"
      ]
     },
     "execution_count": 73,
     "metadata": {},
     "output_type": "execute_result"
    }
   ],
   "source": [
    "df['CPU'].value_counts().head(10)"
   ]
  },
  {
   "cell_type": "code",
   "execution_count": 74,
   "id": "c0801937",
   "metadata": {
    "execution": {
     "iopub.execute_input": "2023-09-13T12:53:42.630522Z",
     "iopub.status.busy": "2023-09-13T12:53:42.630077Z",
     "iopub.status.idle": "2023-09-13T12:53:42.645520Z",
     "shell.execute_reply": "2023-09-13T12:53:42.644030Z"
    },
    "papermill": {
     "duration": 0.068294,
     "end_time": "2023-09-13T12:53:42.648066",
     "exception": false,
     "start_time": "2023-09-13T12:53:42.579772",
     "status": "completed"
    },
    "tags": []
   },
   "outputs": [
    {
     "data": {
      "text/plain": [
       "0         IntelCorei5\n",
       "1         IntelCorei5\n",
       "2         IntelCorei5\n",
       "3         IntelCorei7\n",
       "4         IntelCorei5\n",
       "5    AMDA9-Series9420\n",
       "6         IntelCorei7\n",
       "7         IntelCorei5\n",
       "8         IntelCorei7\n",
       "9         IntelCorei5\n",
       "Name: Pro_Name, dtype: object"
      ]
     },
     "execution_count": 74,
     "metadata": {},
     "output_type": "execute_result"
    }
   ],
   "source": [
    "df['Pro_Name']=df['CPU'].apply([lambda x:''.join(x.split()[0:3])])\n",
    "df['Pro_Name'].head(10)"
   ]
  },
  {
   "cell_type": "code",
   "execution_count": 75,
   "id": "69fb9c72",
   "metadata": {
    "execution": {
     "iopub.execute_input": "2023-09-13T12:53:42.747969Z",
     "iopub.status.busy": "2023-09-13T12:53:42.747451Z",
     "iopub.status.idle": "2023-09-13T12:53:42.758178Z",
     "shell.execute_reply": "2023-09-13T12:53:42.756949Z"
    },
    "papermill": {
     "duration": 0.063326,
     "end_time": "2023-09-13T12:53:42.760357",
     "exception": false,
     "start_time": "2023-09-13T12:53:42.697031",
     "status": "completed"
    },
    "tags": []
   },
   "outputs": [
    {
     "data": {
      "text/plain": [
       "Pro_Name\n",
       "IntelCorei7            526\n",
       "IntelCorei5            423\n",
       "IntelCorei3            136\n",
       "IntelCeleronDual        80\n",
       "IntelPentiumQuad        27\n",
       "IntelCoreM              19\n",
       "AMDA9-Series9420        12\n",
       "IntelCeleronQuad         8\n",
       "AMDA6-Series9220         8\n",
       "AMDA12-Series9720P       7\n",
       "IntelAtomx5-Z8350        5\n",
       "AMDA8-Series7410         4\n",
       "IntelAtomx5-Z8550        4\n",
       "IntelPentiumDual         3\n",
       "AMDA9-Series9410         3\n",
       "AMDRyzen1700             3\n",
       "AMDA9-SeriesA9-9420      2\n",
       "AMDA10-Series9620P       2\n",
       "IntelAtomX5-Z8350        2\n",
       "AMDE-SeriesE2-9000e      2\n",
       "Name: count, dtype: int64"
      ]
     },
     "execution_count": 75,
     "metadata": {},
     "output_type": "execute_result"
    }
   ],
   "source": [
    "df['Pro_Name'].value_counts().head(20)"
   ]
  },
  {
   "cell_type": "code",
   "execution_count": 76,
   "id": "446b6f56",
   "metadata": {
    "execution": {
     "iopub.execute_input": "2023-09-13T12:53:42.860401Z",
     "iopub.status.busy": "2023-09-13T12:53:42.859999Z",
     "iopub.status.idle": "2023-09-13T12:53:42.866230Z",
     "shell.execute_reply": "2023-09-13T12:53:42.864889Z"
    },
    "papermill": {
     "duration": 0.059156,
     "end_time": "2023-09-13T12:53:42.868441",
     "exception": false,
     "start_time": "2023-09-13T12:53:42.809285",
     "status": "completed"
    },
    "tags": []
   },
   "outputs": [],
   "source": [
    "lr=LabelEncoder()\n",
    "df['CPU']=lr.fit_transform(df['Pro_Name'])"
   ]
  },
  {
   "cell_type": "code",
   "execution_count": 77,
   "id": "dc70a3be",
   "metadata": {
    "execution": {
     "iopub.execute_input": "2023-09-13T12:53:42.968628Z",
     "iopub.status.busy": "2023-09-13T12:53:42.968249Z",
     "iopub.status.idle": "2023-09-13T12:53:42.975138Z",
     "shell.execute_reply": "2023-09-13T12:53:42.973489Z"
    },
    "papermill": {
     "duration": 0.059753,
     "end_time": "2023-09-13T12:53:42.977434",
     "exception": false,
     "start_time": "2023-09-13T12:53:42.917681",
     "status": "completed"
    },
    "tags": []
   },
   "outputs": [],
   "source": [
    "lr=LabelEncoder()\n",
    "df['Pro_Name']=lr.fit_transform(df['Pro_Name'])"
   ]
  },
  {
   "cell_type": "code",
   "execution_count": 78,
   "id": "eb136646",
   "metadata": {
    "execution": {
     "iopub.execute_input": "2023-09-13T12:53:43.079992Z",
     "iopub.status.busy": "2023-09-13T12:53:43.079533Z",
     "iopub.status.idle": "2023-09-13T12:53:43.099487Z",
     "shell.execute_reply": "2023-09-13T12:53:43.097863Z"
    },
    "papermill": {
     "duration": 0.074139,
     "end_time": "2023-09-13T12:53:43.102282",
     "exception": false,
     "start_time": "2023-09-13T12:53:43.028143",
     "status": "completed"
    },
    "tags": []
   },
   "outputs": [
    {
     "name": "stdout",
     "output_type": "stream",
     "text": [
      "<class 'pandas.core.frame.DataFrame'>\n",
      "Index: 1302 entries, 0 to 324\n",
      "Data columns (total 17 columns):\n",
      " #   Column           Non-Null Count  Dtype  \n",
      "---  ------           --------------  -----  \n",
      " 0   Manufacturer     1302 non-null   int64  \n",
      " 1   Category         1302 non-null   int64  \n",
      " 2   Screen_Size      1302 non-null   float64\n",
      " 3   CPU              1302 non-null   int64  \n",
      " 4   RAM              1302 non-null   int64  \n",
      " 5   Storage          1302 non-null   object \n",
      " 6   GPU              1302 non-null   int64  \n",
      " 7   OS               1302 non-null   int64  \n",
      " 8   Weight           1302 non-null   float64\n",
      " 9   Price            1302 non-null   float64\n",
      " 10  Touchscreen      1302 non-null   int64  \n",
      " 11  IPS_Panel        1302 non-null   int64  \n",
      " 12  Retina_display   1302 non-null   int64  \n",
      " 13  Full_HD_display  1302 non-null   int64  \n",
      " 14  Quad_HD_display  1302 non-null   int64  \n",
      " 15  PPI              1302 non-null   float64\n",
      " 16  Pro_Name         1302 non-null   int64  \n",
      "dtypes: float64(4), int64(12), object(1)\n",
      "memory usage: 183.1+ KB\n"
     ]
    }
   ],
   "source": [
    "df.info()"
   ]
  },
  {
   "cell_type": "code",
   "execution_count": 79,
   "id": "4cb88eae",
   "metadata": {
    "execution": {
     "iopub.execute_input": "2023-09-13T12:53:43.205715Z",
     "iopub.status.busy": "2023-09-13T12:53:43.204667Z",
     "iopub.status.idle": "2023-09-13T12:53:43.226211Z",
     "shell.execute_reply": "2023-09-13T12:53:43.224978Z"
    },
    "papermill": {
     "duration": 0.076413,
     "end_time": "2023-09-13T12:53:43.228702",
     "exception": false,
     "start_time": "2023-09-13T12:53:43.152289",
     "status": "completed"
    },
    "tags": []
   },
   "outputs": [
    {
     "data": {
      "text/html": [
       "<div>\n",
       "<style scoped>\n",
       "    .dataframe tbody tr th:only-of-type {\n",
       "        vertical-align: middle;\n",
       "    }\n",
       "\n",
       "    .dataframe tbody tr th {\n",
       "        vertical-align: top;\n",
       "    }\n",
       "\n",
       "    .dataframe thead th {\n",
       "        text-align: right;\n",
       "    }\n",
       "</style>\n",
       "<table border=\"1\" class=\"dataframe\">\n",
       "  <thead>\n",
       "    <tr style=\"text-align: right;\">\n",
       "      <th></th>\n",
       "      <th>Manufacturer</th>\n",
       "      <th>Category</th>\n",
       "      <th>Screen_Size</th>\n",
       "      <th>CPU</th>\n",
       "      <th>RAM</th>\n",
       "      <th>Storage</th>\n",
       "      <th>GPU</th>\n",
       "      <th>OS</th>\n",
       "      <th>Weight</th>\n",
       "      <th>Price</th>\n",
       "      <th>Touchscreen</th>\n",
       "      <th>IPS_Panel</th>\n",
       "      <th>Retina_display</th>\n",
       "      <th>Full_HD_display</th>\n",
       "      <th>Quad_HD_display</th>\n",
       "      <th>PPI</th>\n",
       "      <th>Pro_Name</th>\n",
       "    </tr>\n",
       "  </thead>\n",
       "  <tbody>\n",
       "    <tr>\n",
       "      <th>0</th>\n",
       "      <td>1</td>\n",
       "      <td>3</td>\n",
       "      <td>13.3</td>\n",
       "      <td>33</td>\n",
       "      <td>8</td>\n",
       "      <td>128GB SSD</td>\n",
       "      <td>0</td>\n",
       "      <td>6</td>\n",
       "      <td>1.37</td>\n",
       "      <td>11912523.48</td>\n",
       "      <td>0</td>\n",
       "      <td>1</td>\n",
       "      <td>1</td>\n",
       "      <td>0</td>\n",
       "      <td>0</td>\n",
       "      <td>226.983005</td>\n",
       "      <td>33</td>\n",
       "    </tr>\n",
       "    <tr>\n",
       "      <th>1</th>\n",
       "      <td>1</td>\n",
       "      <td>3</td>\n",
       "      <td>13.3</td>\n",
       "      <td>33</td>\n",
       "      <td>8</td>\n",
       "      <td>128GB Flash Storage</td>\n",
       "      <td>0</td>\n",
       "      <td>6</td>\n",
       "      <td>1.34</td>\n",
       "      <td>7993374.48</td>\n",
       "      <td>0</td>\n",
       "      <td>0</td>\n",
       "      <td>0</td>\n",
       "      <td>0</td>\n",
       "      <td>0</td>\n",
       "      <td>127.677940</td>\n",
       "      <td>33</td>\n",
       "    </tr>\n",
       "    <tr>\n",
       "      <th>2</th>\n",
       "      <td>7</td>\n",
       "      <td>2</td>\n",
       "      <td>15.6</td>\n",
       "      <td>33</td>\n",
       "      <td>8</td>\n",
       "      <td>256GB SSD</td>\n",
       "      <td>0</td>\n",
       "      <td>4</td>\n",
       "      <td>1.86</td>\n",
       "      <td>5112900.00</td>\n",
       "      <td>0</td>\n",
       "      <td>0</td>\n",
       "      <td>0</td>\n",
       "      <td>0</td>\n",
       "      <td>0</td>\n",
       "      <td>141.211998</td>\n",
       "      <td>33</td>\n",
       "    </tr>\n",
       "    <tr>\n",
       "      <th>3</th>\n",
       "      <td>1</td>\n",
       "      <td>3</td>\n",
       "      <td>15.4</td>\n",
       "      <td>34</td>\n",
       "      <td>16</td>\n",
       "      <td>512GB SSD</td>\n",
       "      <td>0</td>\n",
       "      <td>6</td>\n",
       "      <td>1.83</td>\n",
       "      <td>22563005.40</td>\n",
       "      <td>0</td>\n",
       "      <td>1</td>\n",
       "      <td>1</td>\n",
       "      <td>0</td>\n",
       "      <td>0</td>\n",
       "      <td>220.534624</td>\n",
       "      <td>34</td>\n",
       "    </tr>\n",
       "    <tr>\n",
       "      <th>4</th>\n",
       "      <td>1</td>\n",
       "      <td>3</td>\n",
       "      <td>13.3</td>\n",
       "      <td>33</td>\n",
       "      <td>8</td>\n",
       "      <td>256GB SSD</td>\n",
       "      <td>0</td>\n",
       "      <td>6</td>\n",
       "      <td>1.37</td>\n",
       "      <td>16037611.20</td>\n",
       "      <td>0</td>\n",
       "      <td>1</td>\n",
       "      <td>1</td>\n",
       "      <td>0</td>\n",
       "      <td>0</td>\n",
       "      <td>226.983005</td>\n",
       "      <td>33</td>\n",
       "    </tr>\n",
       "  </tbody>\n",
       "</table>\n",
       "</div>"
      ],
      "text/plain": [
       "   Manufacturer  Category  Screen_Size  CPU  RAM              Storage  GPU  \\\n",
       "0             1         3         13.3   33    8            128GB SSD    0   \n",
       "1             1         3         13.3   33    8  128GB Flash Storage    0   \n",
       "2             7         2         15.6   33    8            256GB SSD    0   \n",
       "3             1         3         15.4   34   16            512GB SSD    0   \n",
       "4             1         3         13.3   33    8            256GB SSD    0   \n",
       "\n",
       "   OS  Weight        Price  Touchscreen  IPS_Panel  Retina_display  \\\n",
       "0   6    1.37  11912523.48            0          1               1   \n",
       "1   6    1.34   7993374.48            0          0               0   \n",
       "2   4    1.86   5112900.00            0          0               0   \n",
       "3   6    1.83  22563005.40            0          1               1   \n",
       "4   6    1.37  16037611.20            0          1               1   \n",
       "\n",
       "   Full_HD_display  Quad_HD_display         PPI  Pro_Name  \n",
       "0                0                0  226.983005        33  \n",
       "1                0                0  127.677940        33  \n",
       "2                0                0  141.211998        33  \n",
       "3                0                0  220.534624        34  \n",
       "4                0                0  226.983005        33  "
      ]
     },
     "execution_count": 79,
     "metadata": {},
     "output_type": "execute_result"
    }
   ],
   "source": [
    "df.head()"
   ]
  },
  {
   "cell_type": "markdown",
   "id": "fc613852",
   "metadata": {
    "papermill": {
     "duration": 0.049963,
     "end_time": "2023-09-13T12:53:43.329556",
     "exception": false,
     "start_time": "2023-09-13T12:53:43.279593",
     "status": "completed"
    },
    "tags": []
   },
   "source": [
    "# Storage"
   ]
  },
  {
   "cell_type": "code",
   "execution_count": 80,
   "id": "1ba9e3d7",
   "metadata": {
    "execution": {
     "iopub.execute_input": "2023-09-13T12:53:43.432688Z",
     "iopub.status.busy": "2023-09-13T12:53:43.432240Z",
     "iopub.status.idle": "2023-09-13T12:53:43.439971Z",
     "shell.execute_reply": "2023-09-13T12:53:43.438824Z"
    },
    "papermill": {
     "duration": 0.061787,
     "end_time": "2023-09-13T12:53:43.442371",
     "exception": false,
     "start_time": "2023-09-13T12:53:43.380584",
     "status": "completed"
    },
    "tags": []
   },
   "outputs": [
    {
     "data": {
      "text/plain": [
       "Index(['Manufacturer', 'Category', 'Screen_Size', 'CPU', 'RAM', 'Storage',\n",
       "       'GPU', 'OS', 'Weight', 'Price', 'Touchscreen', 'IPS_Panel',\n",
       "       'Retina_display', 'Full_HD_display', 'Quad_HD_display', 'PPI',\n",
       "       'Pro_Name'],\n",
       "      dtype='object')"
      ]
     },
     "execution_count": 80,
     "metadata": {},
     "output_type": "execute_result"
    }
   ],
   "source": [
    "df.columns"
   ]
  },
  {
   "cell_type": "code",
   "execution_count": 81,
   "id": "7273302d",
   "metadata": {
    "execution": {
     "iopub.execute_input": "2023-09-13T12:53:43.544520Z",
     "iopub.status.busy": "2023-09-13T12:53:43.544084Z",
     "iopub.status.idle": "2023-09-13T12:53:43.556973Z",
     "shell.execute_reply": "2023-09-13T12:53:43.555436Z"
    },
    "papermill": {
     "duration": 0.066767,
     "end_time": "2023-09-13T12:53:43.559536",
     "exception": false,
     "start_time": "2023-09-13T12:53:43.492769",
     "status": "completed"
    },
    "tags": []
   },
   "outputs": [],
   "source": [
    "df['Storage']=df['Storage'].str.replace('GB','')\n",
    "df['Storage']=df['Storage'].str.replace('TB','000')\n",
    "first = df[\"Storage\"].str.split(\"+\",n=1,expand=True)"
   ]
  },
  {
   "cell_type": "code",
   "execution_count": 82,
   "id": "96d70b2c",
   "metadata": {
    "execution": {
     "iopub.execute_input": "2023-09-13T12:53:43.663632Z",
     "iopub.status.busy": "2023-09-13T12:53:43.663195Z",
     "iopub.status.idle": "2023-09-13T12:53:43.670393Z",
     "shell.execute_reply": "2023-09-13T12:53:43.669223Z"
    },
    "papermill": {
     "duration": 0.063159,
     "end_time": "2023-09-13T12:53:43.672938",
     "exception": false,
     "start_time": "2023-09-13T12:53:43.609779",
     "status": "completed"
    },
    "tags": []
   },
   "outputs": [],
   "source": [
    "df['Part1']=first[0]\n",
    "df['Part2']=first[1]"
   ]
  },
  {
   "cell_type": "code",
   "execution_count": 83,
   "id": "e0c2dad5",
   "metadata": {
    "execution": {
     "iopub.execute_input": "2023-09-13T12:53:43.774306Z",
     "iopub.status.busy": "2023-09-13T12:53:43.773872Z",
     "iopub.status.idle": "2023-09-13T12:53:43.781577Z",
     "shell.execute_reply": "2023-09-13T12:53:43.780465Z"
    },
    "papermill": {
     "duration": 0.06113,
     "end_time": "2023-09-13T12:53:43.784005",
     "exception": false,
     "start_time": "2023-09-13T12:53:43.722875",
     "status": "completed"
    },
    "tags": []
   },
   "outputs": [],
   "source": [
    "df['Part1']=df['Part1'].str.strip()\n",
    "df['Part2'].fillna('0',inplace=True)"
   ]
  },
  {
   "cell_type": "code",
   "execution_count": 84,
   "id": "23cd40e2",
   "metadata": {
    "execution": {
     "iopub.execute_input": "2023-09-13T12:53:43.886262Z",
     "iopub.status.busy": "2023-09-13T12:53:43.885793Z",
     "iopub.status.idle": "2023-09-13T12:53:43.901029Z",
     "shell.execute_reply": "2023-09-13T12:53:43.900077Z"
    },
    "papermill": {
     "duration": 0.069088,
     "end_time": "2023-09-13T12:53:43.903500",
     "exception": false,
     "start_time": "2023-09-13T12:53:43.834412",
     "status": "completed"
    },
    "tags": []
   },
   "outputs": [],
   "source": [
    "df[\"Storage1_SSD\"]=df[\"Part1\"].apply(lambda x:1 if\"SSD\"in x else 0)\n",
    "df[\"Storage1_HDD\"]=df[\"Part1\"].apply(lambda x:1 if\"HDD\"in x else 0)\n",
    "df[\"Storage1_Flash_Storage\"]=df[\"Part1\"].apply(lambda x:1 if\"Flash_Storage\"in x else 0)\n",
    "df[\"Storage1_Hybrid_Storage\"]=df[\"Part1\"].apply(lambda x:1 if\"Hybrid\"in x else 0)"
   ]
  },
  {
   "cell_type": "code",
   "execution_count": 85,
   "id": "2c268543",
   "metadata": {
    "execution": {
     "iopub.execute_input": "2023-09-13T12:53:44.006348Z",
     "iopub.status.busy": "2023-09-13T12:53:44.005794Z",
     "iopub.status.idle": "2023-09-13T12:53:44.019458Z",
     "shell.execute_reply": "2023-09-13T12:53:44.018394Z"
    },
    "papermill": {
     "duration": 0.067694,
     "end_time": "2023-09-13T12:53:44.021670",
     "exception": false,
     "start_time": "2023-09-13T12:53:43.953976",
     "status": "completed"
    },
    "tags": []
   },
   "outputs": [],
   "source": [
    "df[\"Storage2_SSD\"]=df[\"Part2\"].apply(lambda x:1 if\"SSD\"in x else 0)\n",
    "df[\"Storage2_HDD\"]=df[\"Part2\"].apply(lambda x:1 if\"HDD\"in x else 0)\n",
    "df[\"Storage2_Flash_Storage\"]=df[\"Part2\"].apply(lambda x:1 if\"Flash_Storage\"in x else 0)\n"
   ]
  },
  {
   "cell_type": "code",
   "execution_count": 86,
   "id": "7db7fa7f",
   "metadata": {
    "execution": {
     "iopub.execute_input": "2023-09-13T12:53:44.126020Z",
     "iopub.status.busy": "2023-09-13T12:53:44.125591Z",
     "iopub.status.idle": "2023-09-13T12:53:44.167790Z",
     "shell.execute_reply": "2023-09-13T12:53:44.165856Z"
    },
    "papermill": {
     "duration": 0.097076,
     "end_time": "2023-09-13T12:53:44.170909",
     "exception": false,
     "start_time": "2023-09-13T12:53:44.073833",
     "status": "completed"
    },
    "tags": []
   },
   "outputs": [
    {
     "data": {
      "text/html": [
       "<div>\n",
       "<style scoped>\n",
       "    .dataframe tbody tr th:only-of-type {\n",
       "        vertical-align: middle;\n",
       "    }\n",
       "\n",
       "    .dataframe tbody tr th {\n",
       "        vertical-align: top;\n",
       "    }\n",
       "\n",
       "    .dataframe thead th {\n",
       "        text-align: right;\n",
       "    }\n",
       "</style>\n",
       "<table border=\"1\" class=\"dataframe\">\n",
       "  <thead>\n",
       "    <tr style=\"text-align: right;\">\n",
       "      <th></th>\n",
       "      <th>Manufacturer</th>\n",
       "      <th>Category</th>\n",
       "      <th>Screen_Size</th>\n",
       "      <th>CPU</th>\n",
       "      <th>RAM</th>\n",
       "      <th>GPU</th>\n",
       "      <th>OS</th>\n",
       "      <th>Weight</th>\n",
       "      <th>Price</th>\n",
       "      <th>Touchscreen</th>\n",
       "      <th>IPS_Panel</th>\n",
       "      <th>Retina_display</th>\n",
       "      <th>Full_HD_display</th>\n",
       "      <th>Quad_HD_display</th>\n",
       "      <th>PPI</th>\n",
       "      <th>Pro_Name</th>\n",
       "      <th>SSD</th>\n",
       "      <th>HDD</th>\n",
       "      <th>Flash_Storage</th>\n",
       "      <th>Hybrid_Storage</th>\n",
       "    </tr>\n",
       "  </thead>\n",
       "  <tbody>\n",
       "    <tr>\n",
       "      <th>0</th>\n",
       "      <td>1</td>\n",
       "      <td>3</td>\n",
       "      <td>13.3</td>\n",
       "      <td>33</td>\n",
       "      <td>8</td>\n",
       "      <td>0</td>\n",
       "      <td>6</td>\n",
       "      <td>1.37</td>\n",
       "      <td>11912523.48</td>\n",
       "      <td>0</td>\n",
       "      <td>1</td>\n",
       "      <td>1</td>\n",
       "      <td>0</td>\n",
       "      <td>0</td>\n",
       "      <td>226.983005</td>\n",
       "      <td>33</td>\n",
       "      <td>128</td>\n",
       "      <td>0</td>\n",
       "      <td>0</td>\n",
       "      <td>0</td>\n",
       "    </tr>\n",
       "    <tr>\n",
       "      <th>1</th>\n",
       "      <td>1</td>\n",
       "      <td>3</td>\n",
       "      <td>13.3</td>\n",
       "      <td>33</td>\n",
       "      <td>8</td>\n",
       "      <td>0</td>\n",
       "      <td>6</td>\n",
       "      <td>1.34</td>\n",
       "      <td>7993374.48</td>\n",
       "      <td>0</td>\n",
       "      <td>0</td>\n",
       "      <td>0</td>\n",
       "      <td>0</td>\n",
       "      <td>0</td>\n",
       "      <td>127.677940</td>\n",
       "      <td>33</td>\n",
       "      <td>0</td>\n",
       "      <td>0</td>\n",
       "      <td>0</td>\n",
       "      <td>0</td>\n",
       "    </tr>\n",
       "    <tr>\n",
       "      <th>2</th>\n",
       "      <td>7</td>\n",
       "      <td>2</td>\n",
       "      <td>15.6</td>\n",
       "      <td>33</td>\n",
       "      <td>8</td>\n",
       "      <td>0</td>\n",
       "      <td>4</td>\n",
       "      <td>1.86</td>\n",
       "      <td>5112900.00</td>\n",
       "      <td>0</td>\n",
       "      <td>0</td>\n",
       "      <td>0</td>\n",
       "      <td>0</td>\n",
       "      <td>0</td>\n",
       "      <td>141.211998</td>\n",
       "      <td>33</td>\n",
       "      <td>256</td>\n",
       "      <td>0</td>\n",
       "      <td>0</td>\n",
       "      <td>0</td>\n",
       "    </tr>\n",
       "    <tr>\n",
       "      <th>3</th>\n",
       "      <td>1</td>\n",
       "      <td>3</td>\n",
       "      <td>15.4</td>\n",
       "      <td>34</td>\n",
       "      <td>16</td>\n",
       "      <td>0</td>\n",
       "      <td>6</td>\n",
       "      <td>1.83</td>\n",
       "      <td>22563005.40</td>\n",
       "      <td>0</td>\n",
       "      <td>1</td>\n",
       "      <td>1</td>\n",
       "      <td>0</td>\n",
       "      <td>0</td>\n",
       "      <td>220.534624</td>\n",
       "      <td>34</td>\n",
       "      <td>512</td>\n",
       "      <td>0</td>\n",
       "      <td>0</td>\n",
       "      <td>0</td>\n",
       "    </tr>\n",
       "    <tr>\n",
       "      <th>4</th>\n",
       "      <td>1</td>\n",
       "      <td>3</td>\n",
       "      <td>13.3</td>\n",
       "      <td>33</td>\n",
       "      <td>8</td>\n",
       "      <td>0</td>\n",
       "      <td>6</td>\n",
       "      <td>1.37</td>\n",
       "      <td>16037611.20</td>\n",
       "      <td>0</td>\n",
       "      <td>1</td>\n",
       "      <td>1</td>\n",
       "      <td>0</td>\n",
       "      <td>0</td>\n",
       "      <td>226.983005</td>\n",
       "      <td>33</td>\n",
       "      <td>256</td>\n",
       "      <td>0</td>\n",
       "      <td>0</td>\n",
       "      <td>0</td>\n",
       "    </tr>\n",
       "  </tbody>\n",
       "</table>\n",
       "</div>"
      ],
      "text/plain": [
       "   Manufacturer  Category  Screen_Size  CPU  RAM  GPU  OS  Weight  \\\n",
       "0             1         3         13.3   33    8    0   6    1.37   \n",
       "1             1         3         13.3   33    8    0   6    1.34   \n",
       "2             7         2         15.6   33    8    0   4    1.86   \n",
       "3             1         3         15.4   34   16    0   6    1.83   \n",
       "4             1         3         13.3   33    8    0   6    1.37   \n",
       "\n",
       "         Price  Touchscreen  IPS_Panel  Retina_display  Full_HD_display  \\\n",
       "0  11912523.48            0          1               1                0   \n",
       "1   7993374.48            0          0               0                0   \n",
       "2   5112900.00            0          0               0                0   \n",
       "3  22563005.40            0          1               1                0   \n",
       "4  16037611.20            0          1               1                0   \n",
       "\n",
       "   Quad_HD_display         PPI  Pro_Name  SSD  HDD  Flash_Storage  \\\n",
       "0                0  226.983005        33  128    0              0   \n",
       "1                0  127.677940        33    0    0              0   \n",
       "2                0  141.211998        33  256    0              0   \n",
       "3                0  220.534624        34  512    0              0   \n",
       "4                0  226.983005        33  256    0              0   \n",
       "\n",
       "   Hybrid_Storage  \n",
       "0               0  \n",
       "1               0  \n",
       "2               0  \n",
       "3               0  \n",
       "4               0  "
      ]
     },
     "execution_count": 86,
     "metadata": {},
     "output_type": "execute_result"
    }
   ],
   "source": [
    "df['Part1']=df['Part1'].str.replace(r'\\D+','',regex=True).astype(int)\n",
    "df['Part2']=df['Part2'].str.replace(r'\\D+','',regex=True).astype(int)\n",
    "df['Part1'].dtype\n",
    "\n",
    "df[\"SSD\"]=(df[\"Part1\"]*df[\"Storage1_SSD\"]+df[\"Part2\"]*df[\"Storage2_SSD\"])\n",
    "df[\"HDD\"]=(df[\"Part1\"]*df[\"Storage1_HDD\"]+df[\"Part2\"]*df[\"Storage2_HDD\"])\n",
    "df[\"Flash_Storage\"]=(df[\"Part1\"]*df[\"Storage1_Flash_Storage\"]+df[\"Part2\"]*df[\"Storage2_Flash_Storage\"])\n",
    "df[\"Hybrid_Storage\"]=(df[\"Part1\"]*df[\"Storage1_Hybrid_Storage\"]+df[\"Part2\"]*df[\"Storage1_Hybrid_Storage\"])\n",
    "\n",
    "df.drop(columns=['Part1','Part2','Storage1_SSD','Storage1_HDD','Storage1_Flash_Storage','Storage2_SSD','Storage2_HDD','Storage2_Flash_Storage','Storage1_Hybrid_Storage','Storage'],axis=1,inplace = True)\n",
    "df.head()\n"
   ]
  },
  {
   "cell_type": "code",
   "execution_count": 87,
   "id": "a4796662",
   "metadata": {
    "execution": {
     "iopub.execute_input": "2023-09-13T12:53:44.284647Z",
     "iopub.status.busy": "2023-09-13T12:53:44.284001Z",
     "iopub.status.idle": "2023-09-13T12:53:44.302308Z",
     "shell.execute_reply": "2023-09-13T12:53:44.301271Z"
    },
    "papermill": {
     "duration": 0.08552,
     "end_time": "2023-09-13T12:53:44.307721",
     "exception": false,
     "start_time": "2023-09-13T12:53:44.222201",
     "status": "completed"
    },
    "tags": []
   },
   "outputs": [
    {
     "name": "stdout",
     "output_type": "stream",
     "text": [
      "<class 'pandas.core.frame.DataFrame'>\n",
      "Index: 1302 entries, 0 to 324\n",
      "Data columns (total 20 columns):\n",
      " #   Column           Non-Null Count  Dtype  \n",
      "---  ------           --------------  -----  \n",
      " 0   Manufacturer     1302 non-null   int64  \n",
      " 1   Category         1302 non-null   int64  \n",
      " 2   Screen_Size      1302 non-null   float64\n",
      " 3   CPU              1302 non-null   int64  \n",
      " 4   RAM              1302 non-null   int64  \n",
      " 5   GPU              1302 non-null   int64  \n",
      " 6   OS               1302 non-null   int64  \n",
      " 7   Weight           1302 non-null   float64\n",
      " 8   Price            1302 non-null   float64\n",
      " 9   Touchscreen      1302 non-null   int64  \n",
      " 10  IPS_Panel        1302 non-null   int64  \n",
      " 11  Retina_display   1302 non-null   int64  \n",
      " 12  Full_HD_display  1302 non-null   int64  \n",
      " 13  Quad_HD_display  1302 non-null   int64  \n",
      " 14  PPI              1302 non-null   float64\n",
      " 15  Pro_Name         1302 non-null   int64  \n",
      " 16  SSD              1302 non-null   int64  \n",
      " 17  HDD              1302 non-null   int64  \n",
      " 18  Flash_Storage    1302 non-null   int64  \n",
      " 19  Hybrid_Storage   1302 non-null   int64  \n",
      "dtypes: float64(4), int64(16)\n",
      "memory usage: 213.6 KB\n"
     ]
    }
   ],
   "source": [
    "df.info()"
   ]
  },
  {
   "cell_type": "markdown",
   "id": "7040d4d9",
   "metadata": {
    "papermill": {
     "duration": 0.050471,
     "end_time": "2023-09-13T12:53:44.415868",
     "exception": false,
     "start_time": "2023-09-13T12:53:44.365397",
     "status": "completed"
    },
    "tags": []
   },
   "source": [
    "# Model Building"
   ]
  },
  {
   "cell_type": "code",
   "execution_count": 88,
   "id": "90720105",
   "metadata": {
    "execution": {
     "iopub.execute_input": "2023-09-13T12:53:44.517543Z",
     "iopub.status.busy": "2023-09-13T12:53:44.517156Z",
     "iopub.status.idle": "2023-09-13T12:53:44.649602Z",
     "shell.execute_reply": "2023-09-13T12:53:44.648160Z"
    },
    "papermill": {
     "duration": 0.187107,
     "end_time": "2023-09-13T12:53:44.652805",
     "exception": false,
     "start_time": "2023-09-13T12:53:44.465698",
     "status": "completed"
    },
    "tags": []
   },
   "outputs": [],
   "source": [
    "from sklearn.model_selection import train_test_split\n",
    "x=df.drop('Price',axis=1)\n",
    "y=np.log(df['Price'])\n",
    "x_train,x_test,y_train,y_test=train_test_split(x,y,test_size=0.15)"
   ]
  },
  {
   "cell_type": "code",
   "execution_count": 89,
   "id": "6f408b83",
   "metadata": {
    "execution": {
     "iopub.execute_input": "2023-09-13T12:53:44.765971Z",
     "iopub.status.busy": "2023-09-13T12:53:44.765004Z",
     "iopub.status.idle": "2023-09-13T12:53:45.438212Z",
     "shell.execute_reply": "2023-09-13T12:53:45.436848Z"
    },
    "papermill": {
     "duration": 0.73778,
     "end_time": "2023-09-13T12:53:45.441256",
     "exception": false,
     "start_time": "2023-09-13T12:53:44.703476",
     "status": "completed"
    },
    "tags": []
   },
   "outputs": [],
   "source": [
    "from sklearn.metrics import r2_score,mean_absolute_error\n",
    "from sklearn.linear_model import LinearRegression\n",
    "from sklearn.neighbors import KNeighborsRegressor\n",
    "from sklearn.tree import DecisionTreeRegressor \n",
    "from sklearn.ensemble import RandomForestRegressor,GradientBoostingRegressor,AdaBoostRegressor\n",
    "from sklearn.svm import SVR\n",
    "from xgboost import XGBRegressor\n"
   ]
  },
  {
   "cell_type": "code",
   "execution_count": 90,
   "id": "ebce157f",
   "metadata": {
    "execution": {
     "iopub.execute_input": "2023-09-13T12:53:45.541767Z",
     "iopub.status.busy": "2023-09-13T12:53:45.541269Z",
     "iopub.status.idle": "2023-09-13T12:53:46.725290Z",
     "shell.execute_reply": "2023-09-13T12:53:46.723756Z"
    },
    "papermill": {
     "duration": 1.238396,
     "end_time": "2023-09-13T12:53:46.728632",
     "exception": false,
     "start_time": "2023-09-13T12:53:45.490236",
     "status": "completed"
    },
    "tags": []
   },
   "outputs": [
    {
     "name": "stdout",
     "output_type": "stream",
     "text": [
      "Model: LinearRegression\n",
      "----------------------\n",
      "RMSE: 0.5246449013188963\n",
      "R2 Score: 0.7032188700574187\n",
      ".....................|\n",
      "\n",
      "Model: RandomForest\n",
      "----------------------\n",
      "RMSE: 0.3741279411280388\n",
      "R2 Score: 0.9147572940181528\n",
      ".....................|\n",
      "\n",
      "Model: DecisionTree\n",
      "----------------------\n",
      "RMSE: 0.435681333287177\n",
      "R2 Score: 0.8347346459690905\n",
      ".....................|\n",
      "\n",
      "Model: xg\n",
      "----------------------\n",
      "RMSE: 0.3664900118374049\n",
      "R2 Score: 0.9216100320841533\n",
      ".....................|\n",
      "\n",
      "Model: Ada\n",
      "----------------------\n",
      "RMSE: 0.45735758261122794\n",
      "R2 Score: 0.8230178158650518\n",
      ".....................|\n",
      "\n",
      "Model: SVR\n",
      "----------------------\n",
      "RMSE: 0.5392278870353371\n",
      "R2 Score: 0.6732098302425562\n",
      ".....................|\n",
      "\n",
      "Model: KNNR\n",
      "----------------------\n",
      "RMSE: 0.47425583978276237\n",
      "R2 Score: 0.7725756230152729\n",
      ".....................|\n",
      "\n"
     ]
    }
   ],
   "source": [
    "models={\n",
    "   \"LinearRegression\":LinearRegression(),\n",
    "    \"RandomForest\":RandomForestRegressor(),\n",
    "    \"DecisionTree\":DecisionTreeRegressor(),\n",
    "    \"xg\":XGBRegressor(),\n",
    "    \"Ada\":AdaBoostRegressor(),\n",
    "    \"SVR\":SVR(),\n",
    "    \"KNNR\":KNeighborsRegressor()\n",
    "}\n",
    "for name,model in models.items():\n",
    "    model.fit(x_train,y_train)\n",
    "    p=model.predict(x_test)\n",
    "    print(\"Model:\",name)\n",
    "    print(\"----------------------\")\n",
    "    print(\"RMSE:\",np.sqrt(mean_absolute_error(y_test,p)))\n",
    "    print(\"R2 Score:\",r2_score(y_test,p))\n",
    "    print(\".....................|\\n\")"
   ]
  },
  {
   "cell_type": "code",
   "execution_count": 91,
   "id": "71cc22ab",
   "metadata": {
    "execution": {
     "iopub.execute_input": "2023-09-13T12:53:46.833001Z",
     "iopub.status.busy": "2023-09-13T12:53:46.832001Z",
     "iopub.status.idle": "2023-09-13T12:57:43.663586Z",
     "shell.execute_reply": "2023-09-13T12:57:43.661917Z"
    },
    "papermill": {
     "duration": 236.9336,
     "end_time": "2023-09-13T12:57:43.713730",
     "exception": false,
     "start_time": "2023-09-13T12:53:46.780130",
     "status": "completed"
    },
    "tags": []
   },
   "outputs": [
    {
     "name": "stdout",
     "output_type": "stream",
     "text": [
      "{'max_depth': 80, 'max_features': 3, 'min_samples_leaf': 3, 'min_samples_split': 8, 'n_estimators': 200}\n",
      "0.8550387182456571\n",
      "RMSE: 0.41139804247888173\n",
      "R2 Score: 0.878032662082979\n"
     ]
    }
   ],
   "source": [
    "from sklearn.model_selection import GridSearchCV\n",
    "rf=RandomForestRegressor()\n",
    "param_grid={\n",
    "    'max_depth':[80,90,100],\n",
    "    'max_features':[2,3],\n",
    "    'min_samples_leaf':[3,4,5],\n",
    "    'min_samples_split':[8,10,12],\n",
    "    'n_estimators':[30,50,100,200]\n",
    "}\n",
    "grid_search=GridSearchCV(estimator = rf,param_grid=param_grid,cv=5)\n",
    "grid_search.fit(x_train,y_train)\n",
    "print(grid_search.best_params_)\n",
    "print(grid_search.best_score_)\n",
    "p=grid_search.predict(x_test)\n",
    "print(\"RMSE:\",np.sqrt(mean_absolute_error(y_test,p)))\n",
    "print(\"R2 Score:\",r2_score(y_test,p))\n"
   ]
  },
  {
   "cell_type": "code",
   "execution_count": 92,
   "id": "ebb42082",
   "metadata": {
    "execution": {
     "iopub.execute_input": "2023-09-13T12:57:43.815159Z",
     "iopub.status.busy": "2023-09-13T12:57:43.814695Z",
     "iopub.status.idle": "2023-09-13T12:59:01.243547Z",
     "shell.execute_reply": "2023-09-13T12:59:01.242304Z"
    },
    "papermill": {
     "duration": 77.526107,
     "end_time": "2023-09-13T12:59:01.289685",
     "exception": false,
     "start_time": "2023-09-13T12:57:43.763578",
     "status": "completed"
    },
    "tags": []
   },
   "outputs": [
    {
     "name": "stdout",
     "output_type": "stream",
     "text": [
      "Best Hyperparameters: {'learning_rate': 0.01, 'max_depth': 7, 'n_estimators': 1000}\n",
      "Best Score: 0.8876922130319459\n",
      ".....................|\n",
      "\n",
      "RMSE: 0.38376783166031153\n",
      "R2 Score: 0.9089505938388343\n"
     ]
    }
   ],
   "source": [
    "model=XGBRegressor()\n",
    "param_grid={\n",
    "    'learning_rate':[0.1,0.01,0.001],\n",
    "    'max_depth':[3,5,7],\n",
    "    'n_estimators':[100,500,1000]\n",
    "}\n",
    "grid_search=GridSearchCV(estimator = model,param_grid=param_grid,cv=5)\n",
    "grid_search.fit(x_train,y_train)\n",
    "print(\"Best Hyperparameters:\",grid_search.best_params_)\n",
    "\n",
    "print(\"Best Score:\",grid_search.best_score_)\n",
    "print(\".....................|\\n\")\n",
    "p=grid_search.predict(x_test)\n",
    "print(\"RMSE:\",np.sqrt(mean_absolute_error(y_test,p)))\n",
    "print(\"R2 Score:\",r2_score(y_test,p))"
   ]
  },
  {
   "cell_type": "code",
   "execution_count": 93,
   "id": "d3820256",
   "metadata": {
    "execution": {
     "iopub.execute_input": "2023-09-13T12:59:01.393558Z",
     "iopub.status.busy": "2023-09-13T12:59:01.392986Z",
     "iopub.status.idle": "2023-09-13T12:59:03.358628Z",
     "shell.execute_reply": "2023-09-13T12:59:03.357615Z"
    },
    "papermill": {
     "duration": 2.021358,
     "end_time": "2023-09-13T12:59:03.361721",
     "exception": false,
     "start_time": "2023-09-13T12:59:01.340363",
     "status": "completed"
    },
    "tags": []
   },
   "outputs": [
    {
     "name": "stdout",
     "output_type": "stream",
     "text": [
      "Model: KNNR\n",
      ".....................|\n",
      "\n",
      "RMSE: 0.38376783166031153\n",
      "R2 Score: 0.9089505938388343\n",
      ".....................|\n",
      "\n"
     ]
    }
   ],
   "source": [
    "Model = XGBRegressor(learning_rate=0.01,max_depth=7,n_estimators=1000)\n",
    "Model.fit(x_train,y_train)\n",
    "p=Model.predict(x_test)\n",
    "print(\"Model:\",name)\n",
    "print(\".....................|\\n\")\n",
    "print(\"RMSE:\",np.sqrt(mean_absolute_error(y_test,p)))\n",
    "print(\"R2 Score:\",r2_score(y_test,p))\n",
    "print(\".....................|\\n\")"
   ]
  },
  {
   "cell_type": "code",
   "execution_count": 94,
   "id": "03a3c964",
   "metadata": {
    "execution": {
     "iopub.execute_input": "2023-09-13T12:59:03.468032Z",
     "iopub.status.busy": "2023-09-13T12:59:03.467615Z",
     "iopub.status.idle": "2023-09-13T12:59:03.514298Z",
     "shell.execute_reply": "2023-09-13T12:59:03.513122Z"
    },
    "papermill": {
     "duration": 0.101664,
     "end_time": "2023-09-13T12:59:03.517008",
     "exception": false,
     "start_time": "2023-09-13T12:59:03.415344",
     "status": "completed"
    },
    "tags": []
   },
   "outputs": [
    {
     "data": {
      "text/html": [
       "<a href='XGBoost.pkl' target='_blank'>XGBoost.pkl</a><br>"
      ],
      "text/plain": [
       "/kaggle/working/XGBoost.pkl"
      ]
     },
     "execution_count": 94,
     "metadata": {},
     "output_type": "execute_result"
    }
   ],
   "source": [
    "import pickle\n",
    "file = open('XGBoost.pkl','wb')\n",
    "pickle.dump(Model,file)\n",
    "from IPython.display import FileLink\n",
    "FileLink(r'XGBoost.pkl')"
   ]
  }
 ],
 "kernelspec": {
  "display_name": "Python 3",
  "language": "python",
  "name": "python3"
 },
 "language_info": {
  "codemirror_mode": {
   "name": "ipython",
   "version": 3
  },
  "file_extension": ".py",
  "mimetype": "text/x-python",
  "name": "python",
  "nbconvert_exporter": "python",
  "pygments_lexer": "ipython3",
  "version": "3.6.4"
 },
 "metadata": {
  "kernelspec": {
   "display_name": "Python 3",
   "language": "python",
   "name": "python3"
  },
  "language_info": {
   "codemirror_mode": {
    "name": "ipython",
    "version": 3
   },
   "file_extension": ".py",
   "mimetype": "text/x-python",
   "name": "python",
   "nbconvert_exporter": "python",
   "pygments_lexer": "ipython3",
   "version": "3.10.12"
  },
  "papermill": {
   "default_parameters": {},
   "duration": 339.043381,
   "end_time": "2023-09-13T12:59:04.596819",
   "environment_variables": {},
   "exception": null,
   "input_path": "__notebook__.ipynb",
   "output_path": "__notebook__.ipynb",
   "parameters": {},
   "start_time": "2023-09-13T12:53:25.553438",
   "version": "2.4.0"
  }
 },
 "nbformat": 4,
 "nbformat_minor": 5
}
